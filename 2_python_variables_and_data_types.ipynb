{
  "cells": [
    {
      "cell_type": "markdown",
      "metadata": {
        "id": "view-in-github",
        "colab_type": "text"
      },
      "source": [
        "<a href=\"https://colab.research.google.com/github/imshiv-10/Data-Analysis/blob/main/2_python_variables_and_data_types.ipynb\" target=\"_parent\"><img src=\"https://colab.research.google.com/assets/colab-badge.svg\" alt=\"Open In Colab\"/></a>"
      ]
    },
    {
      "cell_type": "markdown",
      "metadata": {
        "id": "FazlEvJJ3oMw"
      },
      "source": [
        "# A Quick Tour of Variables and Data Types in Python\n",
        "\n",
        "\n",
        "![](https://i.imgur.com/6cg2E9Q.png)\n",
        "These tutorials take a practical and coding-focused approach. The best way to learn the material is to execute the code and experiment with it yourself. "
      ]
    },
    {
      "cell_type": "markdown",
      "metadata": {
        "id": "Xze_Q2z03oMz"
      },
      "source": [
        "This tutorial covers the following topics:\n",
        "\n",
        "- Storing information using variables\n",
        "- Primitive data types in Python: Integer, Float, Boolean, None and String\n",
        "- Built-in data structures in Python: List, Tuple and Dictionary\n",
        "- Methods and operators supported by built-in data types"
      ]
    },
    {
      "cell_type": "markdown",
      "metadata": {
        "id": "nHDD3xS13oM0"
      },
      "source": [
        "### How to run the code\n",
        "\n",
        "This tutorial is an executable [Jupyter notebook](https://jupyter.org) hosted on [Jovian](https://www.jovian.ai). You can _run_ this tutorial and experiment with the code examples in a couple of ways: *using free online resources* (recommended) or *on your computer*.\n",
        "\n",
        "#### Option 1: Running using free online resources (1-click, recommended)\n",
        "\n",
        "The easiest way to start executing the code is to click the **Run** button at the top of this page and select **Run on Binder**. You can also select \"Run on Colab\" or \"Run on Kaggle\", but you'll need to create an account on [Google Colab](https://colab.research.google.com) or [Kaggle](https://kaggle.com) to use these platforms.\n",
        "\n",
        "\n",
        "#### Option 2: Running on your computer locally\n",
        "\n",
        "To run the code on your computer locally, you'll need to set up [Python](https://www.python.org), download the notebook and install the required libraries. We recommend using the [Conda](https://docs.conda.io/projects/conda/en/latest/user-guide/install/) distribution of Python. Click the **Run** button at the top of this page, select the **Run Locally** option, and follow the instructions.\n",
        "\n",
        ">  **Jupyter Notebooks**: This tutorial is a [Jupyter notebook](https://jupyter.org) - a document made of _cells_. Each cell can contain code written in Python or explanations in plain English. You can execute code cells and view the results, e.g., numbers, messages, graphs, tables, files, etc. instantly within the notebook. Jupyter is a powerful platform for experimentation and analysis. Don't be afraid to mess around with the code & break things - you'll learn a lot by encountering and fixing errors. You can use the \"Kernel > Restart & Clear Output\" menu option to clear all outputs and start again from the top."
      ]
    },
    {
      "cell_type": "markdown",
      "metadata": {
        "id": "QzNtISqw3oM0"
      },
      "source": [
        "## Storing information using variables\n",
        "\n",
        "Computers are useful for two purposes: storing information (also known as data) and performing operations on stored data. While working with a programming language such as Python, data is stored in variables. You can think of variables are containers for storing data. The data stored within a variable is called its value. Creating variables in Python is pretty easy, as we've already seen in the [previous tutorial](https://jovian.ml/aakashns/first-steps-with-python/v/4#C15).\n",
        "\n"
      ]
    },
    {
      "cell_type": "code",
      "execution_count": null,
      "metadata": {
        "id": "oD3z87g03oM0"
      },
      "outputs": [],
      "source": [
        "my_favorite_color = \"blue\""
      ]
    },
    {
      "cell_type": "code",
      "execution_count": null,
      "metadata": {
        "colab": {
          "base_uri": "https://localhost:8080/",
          "height": 34
        },
        "id": "jYrTlsGP3oM1",
        "outputId": "ecde69d4-e04b-450e-98b6-3896ff20e761"
      },
      "outputs": [
        {
          "output_type": "execute_result",
          "data": {
            "text/plain": [
              "'blue'"
            ],
            "application/vnd.google.colaboratory.intrinsic+json": {
              "type": "string"
            }
          },
          "metadata": {},
          "execution_count": 2
        }
      ],
      "source": [
        "my_favorite_color"
      ]
    },
    {
      "cell_type": "markdown",
      "metadata": {
        "id": "1_BW7N-W3oM2"
      },
      "source": [
        "A variable is created using an assignment statement. It begins with the variable's name, followed by the assignment operator `=` followed by the value to be stored within the variable.  Note that the assignment operator `=` is different from the equality comparison operator `==`.\n",
        "\n",
        "You can also assign values to multiple variables in a single statement by separating the variable names and values with commas."
      ]
    },
    {
      "cell_type": "code",
      "execution_count": null,
      "metadata": {
        "id": "QEqi7aZe3oM2"
      },
      "outputs": [],
      "source": [
        "color1, color2, color3 = \"red\", \"green\", \"blue\""
      ]
    },
    {
      "cell_type": "code",
      "execution_count": null,
      "metadata": {
        "colab": {
          "base_uri": "https://localhost:8080/",
          "height": 34
        },
        "id": "clpsA0lR3oM2",
        "outputId": "a06b8e9f-7ea2-459c-cb77-92ae386992c8"
      },
      "outputs": [
        {
          "output_type": "execute_result",
          "data": {
            "text/plain": [
              "'red'"
            ],
            "application/vnd.google.colaboratory.intrinsic+json": {
              "type": "string"
            }
          },
          "metadata": {},
          "execution_count": 4
        }
      ],
      "source": [
        "color1"
      ]
    },
    {
      "cell_type": "code",
      "execution_count": null,
      "metadata": {
        "colab": {
          "base_uri": "https://localhost:8080/",
          "height": 34
        },
        "id": "EaPkKKvb3oM3",
        "outputId": "31cc348a-debc-4b80-fcb9-1f09ccfae09e"
      },
      "outputs": [
        {
          "output_type": "execute_result",
          "data": {
            "text/plain": [
              "'green'"
            ],
            "application/vnd.google.colaboratory.intrinsic+json": {
              "type": "string"
            }
          },
          "metadata": {},
          "execution_count": 5
        }
      ],
      "source": [
        "color2"
      ]
    },
    {
      "cell_type": "code",
      "execution_count": null,
      "metadata": {
        "colab": {
          "base_uri": "https://localhost:8080/",
          "height": 34
        },
        "id": "ba10wgVy3oM3",
        "outputId": "26545c7f-9cc3-47be-b509-9e81a985c66d"
      },
      "outputs": [
        {
          "output_type": "execute_result",
          "data": {
            "text/plain": [
              "'blue'"
            ],
            "application/vnd.google.colaboratory.intrinsic+json": {
              "type": "string"
            }
          },
          "metadata": {},
          "execution_count": 6
        }
      ],
      "source": [
        "color3"
      ]
    },
    {
      "cell_type": "markdown",
      "metadata": {
        "id": "Eni0MN1q3oM3"
      },
      "source": [
        "You can assign the same value to multiple variables by chaining multiple assignment operations within a single statement."
      ]
    },
    {
      "cell_type": "code",
      "execution_count": null,
      "metadata": {
        "id": "yVBF4MpU3oM3"
      },
      "outputs": [],
      "source": [
        "color4 = color5 = color6 = \"magenta\""
      ]
    },
    {
      "cell_type": "code",
      "execution_count": null,
      "metadata": {
        "colab": {
          "base_uri": "https://localhost:8080/",
          "height": 34
        },
        "id": "jiDyjEtF3oM4",
        "outputId": "c7e4ed6a-31c1-4434-9e12-4a17b98ff101"
      },
      "outputs": [
        {
          "output_type": "execute_result",
          "data": {
            "text/plain": [
              "'magenta'"
            ],
            "application/vnd.google.colaboratory.intrinsic+json": {
              "type": "string"
            }
          },
          "metadata": {},
          "execution_count": 8
        }
      ],
      "source": [
        "color4"
      ]
    },
    {
      "cell_type": "code",
      "execution_count": null,
      "metadata": {
        "colab": {
          "base_uri": "https://localhost:8080/",
          "height": 34
        },
        "id": "jVRgQjFy3oM4",
        "outputId": "f239fa30-c85b-4679-dde9-e49e4c878190"
      },
      "outputs": [
        {
          "output_type": "execute_result",
          "data": {
            "text/plain": [
              "'magenta'"
            ],
            "application/vnd.google.colaboratory.intrinsic+json": {
              "type": "string"
            }
          },
          "metadata": {},
          "execution_count": 9
        }
      ],
      "source": [
        "color5"
      ]
    },
    {
      "cell_type": "code",
      "execution_count": null,
      "metadata": {
        "colab": {
          "base_uri": "https://localhost:8080/",
          "height": 34
        },
        "id": "E_ThNiJp3oM4",
        "outputId": "a5515343-8887-4b10-ffc2-91b201dbeb09"
      },
      "outputs": [
        {
          "output_type": "execute_result",
          "data": {
            "text/plain": [
              "'magenta'"
            ],
            "application/vnd.google.colaboratory.intrinsic+json": {
              "type": "string"
            }
          },
          "metadata": {},
          "execution_count": 10
        }
      ],
      "source": [
        "color6"
      ]
    },
    {
      "cell_type": "markdown",
      "metadata": {
        "id": "j3CJ3_Ow3oM4"
      },
      "source": [
        "You can change the value stored within a variable by assigning a new value to it using another assignment statement. Be careful while reassigning variables: when you assign a new value to the variable, the old value is lost and no longer accessible."
      ]
    },
    {
      "cell_type": "code",
      "execution_count": null,
      "metadata": {
        "id": "xQI2uw5F3oM5"
      },
      "outputs": [],
      "source": [
        "my_favorite_color = \"red\""
      ]
    },
    {
      "cell_type": "code",
      "execution_count": null,
      "metadata": {
        "colab": {
          "base_uri": "https://localhost:8080/",
          "height": 34
        },
        "id": "ZYMwtZkv3oM5",
        "outputId": "de671f76-ddc2-4ed4-ae55-d62ddc7d32df"
      },
      "outputs": [
        {
          "output_type": "execute_result",
          "data": {
            "text/plain": [
              "'red'"
            ],
            "application/vnd.google.colaboratory.intrinsic+json": {
              "type": "string"
            }
          },
          "metadata": {},
          "execution_count": 12
        }
      ],
      "source": [
        "my_favorite_color"
      ]
    },
    {
      "cell_type": "markdown",
      "metadata": {
        "id": "XRws9wiy3oM5"
      },
      "source": [
        "While reassigning a variable, you can also use the variable's previous value to compute the new value."
      ]
    },
    {
      "cell_type": "code",
      "execution_count": null,
      "metadata": {
        "id": "a0eMZKba3oM5"
      },
      "outputs": [],
      "source": [
        "counter = 10"
      ]
    },
    {
      "cell_type": "code",
      "execution_count": null,
      "metadata": {
        "id": "JyXTafjp3oM5"
      },
      "outputs": [],
      "source": [
        "counter = counter + 1"
      ]
    },
    {
      "cell_type": "code",
      "execution_count": null,
      "metadata": {
        "colab": {
          "base_uri": "https://localhost:8080/"
        },
        "id": "BnayWo4s3oM5",
        "outputId": "8fe98f48-1f8a-4c5d-db29-ecdbdd71047b"
      },
      "outputs": [
        {
          "output_type": "execute_result",
          "data": {
            "text/plain": [
              "11"
            ]
          },
          "metadata": {},
          "execution_count": 17
        }
      ],
      "source": [
        "counter"
      ]
    },
    {
      "cell_type": "markdown",
      "metadata": {
        "id": "noIEYNAf3oM6"
      },
      "source": [
        "The pattern `var = var op something` (where `op` is an arithmetic operator like `+`, `-`, `*`, `/`) is very common, so Python provides a *shorthand* syntax for it."
      ]
    },
    {
      "cell_type": "code",
      "execution_count": null,
      "metadata": {
        "id": "RzlDLnrI3oM6"
      },
      "outputs": [],
      "source": [
        "counter = 10"
      ]
    },
    {
      "cell_type": "code",
      "execution_count": null,
      "metadata": {
        "id": "4iccApw23oM6"
      },
      "outputs": [],
      "source": [
        "# Same as `counter = counter + 4`\n",
        "counter += 4"
      ]
    },
    {
      "cell_type": "code",
      "execution_count": null,
      "metadata": {
        "colab": {
          "base_uri": "https://localhost:8080/"
        },
        "id": "P7_v1krH3oM6",
        "outputId": "adbc4ef6-3672-4326-ed7f-6d6655a19a6d"
      },
      "outputs": [
        {
          "output_type": "execute_result",
          "data": {
            "text/plain": [
              "15"
            ]
          },
          "metadata": {},
          "execution_count": 19
        }
      ],
      "source": [
        "counter"
      ]
    },
    {
      "cell_type": "markdown",
      "metadata": {
        "id": "TM5kWcov3oM6"
      },
      "source": [
        "Variable names can be short (`a`, `x`, `y`, etc.) or descriptive ( `my_favorite_color`, `profit_margin`, `the_3_musketeers`, etc.). However, you must follow these rules while naming Python variables:\n",
        "\n",
        "* A variable's name must start with a letter or the underscore character `_`. It cannot begin with a number.\n",
        "* A variable name can only contain lowercase (small) or uppercase (capital) letters, digits, or underscores (`a`-`z`, `A`-`Z`, `0`-`9`, and `_`).\n",
        "* Variable names are case-sensitive, i.e., `a_variable`, `A_Variable`, and `A_VARIABLE` are all different variables.\n",
        "\n",
        "Here are some valid variable names:"
      ]
    },
    {
      "cell_type": "code",
      "execution_count": null,
      "metadata": {
        "id": "Xgw3-HKK3oM6"
      },
      "outputs": [],
      "source": [
        "a_variable = 23\n",
        "is_today_Saturday = False\n",
        "my_favorite_car = \"Delorean\"\n",
        "the_3_musketeers = [\"Athos\", \"Porthos\", \"Aramis\"] "
      ]
    },
    {
      "cell_type": "markdown",
      "metadata": {
        "id": "Og57k8M63oM7"
      },
      "source": [
        "Let's try creating some variables with invalid names. Python prints a syntax error if your variable's name is invalid.\n",
        "\n",
        "> **Syntax**: The syntax of a programming language refers to the rules that govern the structure of a valid instruction or *statement*. If a statement does not follow these rules, Python stops execution and informs you that there is a *syntax error*. You can think of syntax as the rules of grammar for a programming language."
      ]
    },
    {
      "cell_type": "code",
      "execution_count": null,
      "metadata": {
        "id": "Tpt-kmY63oM7"
      },
      "outputs": [],
      "source": [
        "a_variable = 23"
      ]
    },
    {
      "cell_type": "code",
      "execution_count": null,
      "metadata": {
        "id": "2TO67KRW3oM7"
      },
      "outputs": [],
      "source": [
        "is_today_saturday = False"
      ]
    },
    {
      "cell_type": "code",
      "execution_count": null,
      "metadata": {
        "id": "jeIlmMnm3oM7"
      },
      "outputs": [],
      "source": [
        "my_favorite_car = \"Delorean\""
      ]
    },
    {
      "cell_type": "code",
      "execution_count": null,
      "metadata": {
        "colab": {
          "base_uri": "https://localhost:8080/",
          "height": 125
        },
        "id": "KI23P5gb3oM8",
        "outputId": "4debff1f-af9a-4152-91a4-b32d0e2b38c3"
      },
      "outputs": [
        {
          "output_type": "error",
          "ename": "SyntaxError",
          "evalue": "ignored",
          "traceback": [
            "\u001b[0;36m  File \u001b[0;32m\"<ipython-input-26-41d8638a15bb>\"\u001b[0;36m, line \u001b[0;32m1\u001b[0m\n\u001b[0;31m    3_musketeers = [\"Athos\", \"Porthos\", \"Aramis\"]\u001b[0m\n\u001b[0m     ^\u001b[0m\n\u001b[0;31mSyntaxError\u001b[0m\u001b[0;31m:\u001b[0m invalid decimal literal\n"
          ]
        }
      ],
      "source": [
        "3_musketeers = [\"Athos\", \"Porthos\", \"Aramis\"]"
      ]
    },
    {
      "cell_type": "markdown",
      "metadata": {
        "id": "Occrg_rD3oM8"
      },
      "source": [
        "### Save and upload your notebook\n",
        "\n",
        "Whether you're running this Jupyter notebook online or on your computer, it's essential to save your work from time to time. You can continue working on a saved notebook later or share it with friends and colleagues to let them execute your code. [Jovian](https://www.jovian.ai) offers an easy way of saving and sharing your Jupyter notebooks online."
      ]
    },
    {
      "cell_type": "code",
      "execution_count": null,
      "metadata": {
        "colab": {
          "base_uri": "https://localhost:8080/"
        },
        "id": "VPiVLyiF3oM9",
        "outputId": "930ac85d-7019-4ef9-a235-44f8e1e2679d"
      },
      "outputs": [
        {
          "output_type": "stream",
          "name": "stdout",
          "text": [
            "\u001b[?25l     \u001b[90m━━━━━━━━━━━━━━━━━━━━━━━━━━━━━━━━━━━━━━━━\u001b[0m \u001b[32m0.0/68.6 KB\u001b[0m \u001b[31m?\u001b[0m eta \u001b[36m-:--:--\u001b[0m\r\u001b[2K     \u001b[90m━━━━━━━━━━━━━━━━━━━━━━━━━━━━━━━━━━━━━━━━\u001b[0m \u001b[32m68.6/68.6 KB\u001b[0m \u001b[31m5.5 MB/s\u001b[0m eta \u001b[36m0:00:00\u001b[0m\n",
            "\u001b[?25h  Preparing metadata (setup.py) ... \u001b[?25l\u001b[?25hdone\n",
            "  Building wheel for uuid (setup.py) ... \u001b[?25l\u001b[?25hdone\n"
          ]
        }
      ],
      "source": [
        "# Install the jovian library\n",
        "!pip install jovian --upgrade --quiet"
      ]
    },
    {
      "cell_type": "code",
      "execution_count": null,
      "metadata": {
        "id": "Kp75oatz3oM9"
      },
      "outputs": [],
      "source": [
        "import jovian"
      ]
    },
    {
      "cell_type": "code",
      "execution_count": null,
      "metadata": {
        "colab": {
          "base_uri": "https://localhost:8080/"
        },
        "id": "9b8uMFGC3oM9",
        "outputId": "ad1646e7-0f68-4f2f-cecc-7d1834c569c8"
      },
      "outputs": [
        {
          "output_type": "stream",
          "name": "stdout",
          "text": [
            "[jovian] Detected Colab notebook...\u001b[0m\n",
            "[jovian] jovian.commit() is no longer required on Google Colab. If you ran this notebook from Jovian, \n",
            "then just save this file in Colab using Ctrl+S/Cmd+S and it will be updated on Jovian. \n",
            "Also, you can also delete this cell, it's no longer necessary.\u001b[0m\n"
          ]
        }
      ],
      "source": [
        "jovian.commit(project='python-variables-and-data-types')"
      ]
    },
    {
      "cell_type": "markdown",
      "metadata": {
        "id": "TWhmjPNG3oM-"
      },
      "source": [
        "## Built-in data types in Python\n",
        "\n",
        "Any data or information stored within a Python variable has a *type*. You can view the type of data stored within a variable using the `type` function."
      ]
    },
    {
      "cell_type": "code",
      "execution_count": null,
      "metadata": {
        "colab": {
          "base_uri": "https://localhost:8080/"
        },
        "id": "63QmxJjT3oM-",
        "outputId": "2edf5831-9c79-4b4c-d9c6-1ce393423a70"
      },
      "outputs": [
        {
          "output_type": "execute_result",
          "data": {
            "text/plain": [
              "23"
            ]
          },
          "metadata": {},
          "execution_count": 30
        }
      ],
      "source": [
        "a_variable"
      ]
    },
    {
      "cell_type": "code",
      "execution_count": null,
      "metadata": {
        "colab": {
          "base_uri": "https://localhost:8080/"
        },
        "id": "bTGyewj63oM-",
        "outputId": "61ebebb7-e858-49a9-ed09-c51e7a23a1ad"
      },
      "outputs": [
        {
          "output_type": "execute_result",
          "data": {
            "text/plain": [
              "int"
            ]
          },
          "metadata": {},
          "execution_count": 31
        }
      ],
      "source": [
        "type(a_variable)"
      ]
    },
    {
      "cell_type": "code",
      "execution_count": null,
      "metadata": {
        "colab": {
          "base_uri": "https://localhost:8080/"
        },
        "id": "Q-Z3qEt43oM-",
        "outputId": "bb7a2474-0207-431d-f42a-e3dac9f8d3d3"
      },
      "outputs": [
        {
          "output_type": "execute_result",
          "data": {
            "text/plain": [
              "False"
            ]
          },
          "metadata": {},
          "execution_count": 32
        }
      ],
      "source": [
        "is_today_Saturday"
      ]
    },
    {
      "cell_type": "code",
      "execution_count": null,
      "metadata": {
        "colab": {
          "base_uri": "https://localhost:8080/"
        },
        "id": "itk8b7O93oM_",
        "outputId": "411a1abe-bcac-44de-fcad-0bf8d3cc348f"
      },
      "outputs": [
        {
          "output_type": "execute_result",
          "data": {
            "text/plain": [
              "bool"
            ]
          },
          "metadata": {},
          "execution_count": 33
        }
      ],
      "source": [
        "type(is_today_Saturday)"
      ]
    },
    {
      "cell_type": "code",
      "execution_count": null,
      "metadata": {
        "colab": {
          "base_uri": "https://localhost:8080/",
          "height": 34
        },
        "id": "w63pXWrL3oM_",
        "outputId": "54745dc7-db2e-4e98-9dca-f2d0bd2f8c08"
      },
      "outputs": [
        {
          "output_type": "execute_result",
          "data": {
            "text/plain": [
              "'Delorean'"
            ],
            "application/vnd.google.colaboratory.intrinsic+json": {
              "type": "string"
            }
          },
          "metadata": {},
          "execution_count": 34
        }
      ],
      "source": [
        "my_favorite_car"
      ]
    },
    {
      "cell_type": "code",
      "execution_count": null,
      "metadata": {
        "colab": {
          "base_uri": "https://localhost:8080/"
        },
        "id": "YiKh5oz23oM_",
        "outputId": "059e664a-f6d4-4fa4-d915-fefbcdee5dd8"
      },
      "outputs": [
        {
          "output_type": "execute_result",
          "data": {
            "text/plain": [
              "str"
            ]
          },
          "metadata": {},
          "execution_count": 35
        }
      ],
      "source": [
        "type(my_favorite_car)"
      ]
    },
    {
      "cell_type": "code",
      "execution_count": null,
      "metadata": {
        "colab": {
          "base_uri": "https://localhost:8080/"
        },
        "id": "qCUVLyzd3oNA",
        "outputId": "07ff5140-e3d1-47c9-d003-5d6a12a0efb6"
      },
      "outputs": [
        {
          "output_type": "execute_result",
          "data": {
            "text/plain": [
              "['Athos', 'Porthos', 'Aramis']"
            ]
          },
          "metadata": {},
          "execution_count": 36
        }
      ],
      "source": [
        "the_3_musketeers"
      ]
    },
    {
      "cell_type": "code",
      "execution_count": null,
      "metadata": {
        "colab": {
          "base_uri": "https://localhost:8080/"
        },
        "id": "8w_7Q6QP3oNA",
        "outputId": "a442e76b-34ec-4fd5-82b2-2eb066843a81"
      },
      "outputs": [
        {
          "output_type": "execute_result",
          "data": {
            "text/plain": [
              "list"
            ]
          },
          "metadata": {},
          "execution_count": 37
        }
      ],
      "source": [
        "type(the_3_musketeers)"
      ]
    },
    {
      "cell_type": "markdown",
      "metadata": {
        "id": "atgVZZOu3oNA"
      },
      "source": [
        "Python has several built-in data types for storing different kinds of information in variables. Following are some commonly used data types:\n",
        "\n",
        "1. Integer\n",
        "2. Float\n",
        "3. Boolean\n",
        "4. None\n",
        "5. String\n",
        "6. List\n",
        "7. Tuple\n",
        "8. Dictionary\n",
        "\n",
        "Integer, float, boolean, None, and string are *primitive data types* because they represent a single value. Other data types like list, tuple, and dictionary are often called *data structures* or *containers* because they hold multiple pieces of data together."
      ]
    },
    {
      "cell_type": "markdown",
      "metadata": {
        "id": "YwYR5xsa3oNA"
      },
      "source": [
        "### Integer\n",
        "\n",
        "Integers represent positive or negative whole numbers, from negative infinity to infinity. Note that integers should not include decimal points. Integers have the type `int`."
      ]
    },
    {
      "cell_type": "code",
      "execution_count": null,
      "metadata": {
        "id": "Aj3N7jIy3oNA"
      },
      "outputs": [],
      "source": [
        "current_year = 2020"
      ]
    },
    {
      "cell_type": "code",
      "execution_count": null,
      "metadata": {
        "colab": {
          "base_uri": "https://localhost:8080/"
        },
        "id": "yIuuRaY63oNA",
        "outputId": "72ef4b98-126e-4a01-c50a-217916dec778"
      },
      "outputs": [
        {
          "output_type": "execute_result",
          "data": {
            "text/plain": [
              "2020"
            ]
          },
          "metadata": {},
          "execution_count": 39
        }
      ],
      "source": [
        "current_year"
      ]
    },
    {
      "cell_type": "code",
      "execution_count": null,
      "metadata": {
        "colab": {
          "base_uri": "https://localhost:8080/"
        },
        "id": "3qjIbxLm3oNB",
        "outputId": "8235faa2-1bb3-40f3-f7d8-2f37c2c5c9b2"
      },
      "outputs": [
        {
          "output_type": "execute_result",
          "data": {
            "text/plain": [
              "int"
            ]
          },
          "metadata": {},
          "execution_count": 40
        }
      ],
      "source": [
        "type(current_year)"
      ]
    },
    {
      "cell_type": "markdown",
      "metadata": {
        "id": "T8lScosV3oNB"
      },
      "source": [
        "Unlike some other programming languages, integers in Python can be arbitrarily large (or small). There's no lowest or highest value for integers, and there's just one `int` type (as opposed to `short`, `int`, `long`, `long long`, `unsigned int`, etc. in C/C++/Java)."
      ]
    },
    {
      "cell_type": "code",
      "execution_count": null,
      "metadata": {
        "id": "kCILcCUh3oNB"
      },
      "outputs": [],
      "source": [
        "a_large_negative_number = -23374038374832934334234317348343"
      ]
    },
    {
      "cell_type": "code",
      "execution_count": null,
      "metadata": {
        "colab": {
          "base_uri": "https://localhost:8080/"
        },
        "id": "HbHDx0mY3oNB",
        "outputId": "b3d50d10-babd-4cfb-ec6d-9174eab4ca72"
      },
      "outputs": [
        {
          "output_type": "execute_result",
          "data": {
            "text/plain": [
              "-23374038374832934334234317348343"
            ]
          },
          "metadata": {},
          "execution_count": 42
        }
      ],
      "source": [
        "a_large_negative_number"
      ]
    },
    {
      "cell_type": "code",
      "execution_count": null,
      "metadata": {
        "colab": {
          "base_uri": "https://localhost:8080/"
        },
        "id": "rH1ck7KP3oNB",
        "outputId": "31736199-7e1c-46e2-ca75-e15980acbe14"
      },
      "outputs": [
        {
          "output_type": "execute_result",
          "data": {
            "text/plain": [
              "int"
            ]
          },
          "metadata": {},
          "execution_count": 43
        }
      ],
      "source": [
        "type(a_large_negative_number)"
      ]
    },
    {
      "cell_type": "markdown",
      "metadata": {
        "id": "HZQWdWVa3oNB"
      },
      "source": [
        "### Float\n",
        "\n",
        "Floats (or floating-point numbers) are numbers with a decimal point. There are no limits on the value or the number of digits before or after the decimal point. Floating-point numbers have the type `float`."
      ]
    },
    {
      "cell_type": "code",
      "execution_count": null,
      "metadata": {
        "id": "RB6cUeUI3oNB"
      },
      "outputs": [],
      "source": [
        "pi = 3.141592653589793238"
      ]
    },
    {
      "cell_type": "code",
      "execution_count": null,
      "metadata": {
        "colab": {
          "base_uri": "https://localhost:8080/"
        },
        "id": "-pSwhezR3oNB",
        "outputId": "7a1374fa-74a5-4e15-ea16-0f8612812872"
      },
      "outputs": [
        {
          "output_type": "execute_result",
          "data": {
            "text/plain": [
              "3.141592653589793"
            ]
          },
          "metadata": {},
          "execution_count": 45
        }
      ],
      "source": [
        "pi"
      ]
    },
    {
      "cell_type": "code",
      "execution_count": null,
      "metadata": {
        "colab": {
          "base_uri": "https://localhost:8080/"
        },
        "id": "kMVvq2wd3oNB",
        "outputId": "a0749f6b-c872-4a67-c1f8-e5c8dfdd869e"
      },
      "outputs": [
        {
          "output_type": "execute_result",
          "data": {
            "text/plain": [
              "float"
            ]
          },
          "metadata": {},
          "execution_count": 46
        }
      ],
      "source": [
        "type(pi)"
      ]
    },
    {
      "cell_type": "markdown",
      "metadata": {
        "id": "PKzcef673oNB"
      },
      "source": [
        "Note that a whole number is treated as a float if written with a decimal point, even though the decimal portion of the number is zero."
      ]
    },
    {
      "cell_type": "code",
      "execution_count": null,
      "metadata": {
        "id": "iwwa40HG3oNB"
      },
      "outputs": [],
      "source": [
        "a_number = 3.0"
      ]
    },
    {
      "cell_type": "code",
      "execution_count": null,
      "metadata": {
        "colab": {
          "base_uri": "https://localhost:8080/"
        },
        "id": "Smfmj6rt3oNC",
        "outputId": "fb8fc6bb-65c0-4822-d351-251d7e470687"
      },
      "outputs": [
        {
          "output_type": "execute_result",
          "data": {
            "text/plain": [
              "3.0"
            ]
          },
          "metadata": {},
          "execution_count": 51
        }
      ],
      "source": [
        "a_number"
      ]
    },
    {
      "cell_type": "code",
      "execution_count": null,
      "metadata": {
        "colab": {
          "base_uri": "https://localhost:8080/"
        },
        "id": "6XDtXaFH3oNC",
        "outputId": "efdcd72b-8365-4f6d-e4d4-6dbc6c790c4b"
      },
      "outputs": [
        {
          "output_type": "execute_result",
          "data": {
            "text/plain": [
              "float"
            ]
          },
          "metadata": {},
          "execution_count": 52
        }
      ],
      "source": [
        "type(a_number)"
      ]
    },
    {
      "cell_type": "code",
      "execution_count": null,
      "metadata": {
        "id": "nePpeK6n3oNC"
      },
      "outputs": [],
      "source": [
        "another_number = 4."
      ]
    },
    {
      "cell_type": "code",
      "execution_count": null,
      "metadata": {
        "colab": {
          "base_uri": "https://localhost:8080/"
        },
        "id": "s9rPmjFK3oNC",
        "outputId": "6346926d-b40c-42a5-991d-261edddad909"
      },
      "outputs": [
        {
          "output_type": "execute_result",
          "data": {
            "text/plain": [
              "4.0"
            ]
          },
          "metadata": {},
          "execution_count": 54
        }
      ],
      "source": [
        "another_number"
      ]
    },
    {
      "cell_type": "code",
      "execution_count": null,
      "metadata": {
        "colab": {
          "base_uri": "https://localhost:8080/"
        },
        "id": "q-Bue7em3oNC",
        "outputId": "81af99a3-0643-4e98-c4d7-e1b465c960d3"
      },
      "outputs": [
        {
          "output_type": "execute_result",
          "data": {
            "text/plain": [
              "float"
            ]
          },
          "metadata": {},
          "execution_count": 55
        }
      ],
      "source": [
        "type(another_number)"
      ]
    },
    {
      "cell_type": "markdown",
      "metadata": {
        "id": "4NuPmbeI3oNC"
      },
      "source": [
        "Floating point numbers can also be written using the scientific notation with an \"e\" to indicate the power of 10."
      ]
    },
    {
      "cell_type": "code",
      "execution_count": null,
      "metadata": {
        "id": "NLX_iBhi3oNC"
      },
      "outputs": [],
      "source": [
        "one_hundredth = 1e-2"
      ]
    },
    {
      "cell_type": "code",
      "execution_count": null,
      "metadata": {
        "colab": {
          "base_uri": "https://localhost:8080/"
        },
        "id": "h7pyOAAT3oNC",
        "outputId": "2ae77da4-34f2-4a92-d809-dc4f1f6be7c4"
      },
      "outputs": [
        {
          "output_type": "execute_result",
          "data": {
            "text/plain": [
              "0.01"
            ]
          },
          "metadata": {},
          "execution_count": 58
        }
      ],
      "source": [
        "one_hundredth"
      ]
    },
    {
      "cell_type": "code",
      "execution_count": null,
      "metadata": {
        "colab": {
          "base_uri": "https://localhost:8080/"
        },
        "id": "aecu1Q0R3oNC",
        "outputId": "facac213-1190-455b-81b8-9562794911f5"
      },
      "outputs": [
        {
          "output_type": "execute_result",
          "data": {
            "text/plain": [
              "float"
            ]
          },
          "metadata": {},
          "execution_count": 59
        }
      ],
      "source": [
        "type(one_hundredth)"
      ]
    },
    {
      "cell_type": "code",
      "execution_count": null,
      "metadata": {
        "id": "w42o7JBH3oNC"
      },
      "outputs": [],
      "source": [
        "avogadro_number = int(6022140769238383986908356547659476987456798237963)"
      ]
    },
    {
      "cell_type": "code",
      "execution_count": null,
      "metadata": {
        "colab": {
          "base_uri": "https://localhost:8080/"
        },
        "id": "zJF-IOGN3oND",
        "outputId": "db2c3b05-68e0-4b54-f5ca-6c58fa67f7e9"
      },
      "outputs": [
        {
          "output_type": "execute_result",
          "data": {
            "text/plain": [
              "6022140769238383986908356547659476987456798237963"
            ]
          },
          "metadata": {},
          "execution_count": 74
        }
      ],
      "source": [
        "avogadro_number"
      ]
    },
    {
      "cell_type": "code",
      "execution_count": null,
      "metadata": {
        "colab": {
          "base_uri": "https://localhost:8080/"
        },
        "id": "aH1x_bM03oND",
        "outputId": "22e545da-3e0f-4472-ab0d-b35c8ba2489e"
      },
      "outputs": [
        {
          "output_type": "execute_result",
          "data": {
            "text/plain": [
              "int"
            ]
          },
          "metadata": {},
          "execution_count": 75
        }
      ],
      "source": [
        "type(avogadro_number)"
      ]
    },
    {
      "cell_type": "markdown",
      "metadata": {
        "id": "rZ16CW3w3oND"
      },
      "source": [
        "You can convert floats into integers and vice versa using the `float` and `int` functions. The operation of converting one type of value into another is called casting."
      ]
    },
    {
      "cell_type": "code",
      "execution_count": null,
      "metadata": {
        "colab": {
          "base_uri": "https://localhost:8080/"
        },
        "id": "PUkXffh_3oND",
        "outputId": "fd5efb7a-1d1d-47fb-fff3-d2d817acd7cf"
      },
      "outputs": [
        {
          "output_type": "execute_result",
          "data": {
            "text/plain": [
              "2020.0"
            ]
          },
          "metadata": {},
          "execution_count": 76
        }
      ],
      "source": [
        "\n",
        "float(current_year)"
      ]
    },
    {
      "cell_type": "code",
      "execution_count": null,
      "metadata": {
        "colab": {
          "base_uri": "https://localhost:8080/"
        },
        "id": "TxDZeyzr3oND",
        "outputId": "e8c7139f-0444-4b72-8aae-8f021b12f89d"
      },
      "outputs": [
        {
          "output_type": "execute_result",
          "data": {
            "text/plain": [
              "-2.3374038374832935e+31"
            ]
          },
          "metadata": {},
          "execution_count": 77
        }
      ],
      "source": [
        "float(a_large_negative_number)"
      ]
    },
    {
      "cell_type": "code",
      "execution_count": null,
      "metadata": {
        "colab": {
          "base_uri": "https://localhost:8080/"
        },
        "id": "HFwH7TBv3oND",
        "outputId": "5a2fa807-f828-4cf5-c7d8-9915bfb243ce"
      },
      "outputs": [
        {
          "output_type": "execute_result",
          "data": {
            "text/plain": [
              "3"
            ]
          },
          "metadata": {},
          "execution_count": 78
        }
      ],
      "source": [
        "int(pi)"
      ]
    },
    {
      "cell_type": "code",
      "execution_count": null,
      "metadata": {
        "colab": {
          "base_uri": "https://localhost:8080/"
        },
        "id": "qox5ei-H3oND",
        "outputId": "e2062a34-233e-44c4-fa27-29c84360f304"
      },
      "outputs": [
        {
          "output_type": "execute_result",
          "data": {
            "text/plain": [
              "6022140769238383986908356547659476987456798237963"
            ]
          },
          "metadata": {},
          "execution_count": 79
        }
      ],
      "source": [
        "int(avogadro_number)"
      ]
    },
    {
      "cell_type": "markdown",
      "metadata": {
        "id": "g2NkBSR83oND"
      },
      "source": [
        "While performing arithmetic operations, integers are automatically converted to `float`s if any of the operands is a `float`. Also, the division operator `/` always returns a `float`, even if both operands are integers. Use the `//` operator if you want the result of the division to be an `int`."
      ]
    },
    {
      "cell_type": "code",
      "execution_count": null,
      "metadata": {
        "colab": {
          "base_uri": "https://localhost:8080/"
        },
        "id": "QxRGSQq13oND",
        "outputId": "ed74dd66-ce02-4dd3-c37e-471a286b6524"
      },
      "outputs": [
        {
          "output_type": "execute_result",
          "data": {
            "text/plain": [
              "float"
            ]
          },
          "metadata": {},
          "execution_count": 80
        }
      ],
      "source": [
        "type(45 * 3.0)"
      ]
    },
    {
      "cell_type": "code",
      "execution_count": null,
      "metadata": {
        "colab": {
          "base_uri": "https://localhost:8080/"
        },
        "id": "lHKJycsM3oNE",
        "outputId": "ed799186-ec28-4980-f537-896784962164"
      },
      "outputs": [
        {
          "output_type": "execute_result",
          "data": {
            "text/plain": [
              "int"
            ]
          },
          "metadata": {},
          "execution_count": 81
        }
      ],
      "source": [
        "type(45 * 3)"
      ]
    },
    {
      "cell_type": "code",
      "execution_count": null,
      "metadata": {
        "colab": {
          "base_uri": "https://localhost:8080/"
        },
        "id": "jzLvilhE3oNE",
        "outputId": "82395d71-def1-4228-83b2-704f6aa5567c"
      },
      "outputs": [
        {
          "output_type": "execute_result",
          "data": {
            "text/plain": [
              "float"
            ]
          },
          "metadata": {},
          "execution_count": 82
        }
      ],
      "source": [
        "type(10/3)"
      ]
    },
    {
      "cell_type": "code",
      "execution_count": null,
      "metadata": {
        "colab": {
          "base_uri": "https://localhost:8080/"
        },
        "id": "-Kgl8vL23oNE",
        "outputId": "afbbf60c-bdaa-49c3-e61e-90d49e0aa79e"
      },
      "outputs": [
        {
          "output_type": "execute_result",
          "data": {
            "text/plain": [
              "float"
            ]
          },
          "metadata": {},
          "execution_count": 83
        }
      ],
      "source": [
        "type(10/2)"
      ]
    },
    {
      "cell_type": "code",
      "execution_count": null,
      "metadata": {
        "colab": {
          "base_uri": "https://localhost:8080/"
        },
        "id": "DI8ZfvA03oNE",
        "outputId": "ec9a283d-b963-45d5-bfc2-eb2dd1a5f6e2"
      },
      "outputs": [
        {
          "output_type": "execute_result",
          "data": {
            "text/plain": [
              "(int, 5)"
            ]
          },
          "metadata": {},
          "execution_count": 85
        }
      ],
      "source": [
        "type(10//2), 10//2"
      ]
    },
    {
      "cell_type": "markdown",
      "metadata": {
        "id": "Usne1Ocn3oNE"
      },
      "source": [
        "### Boolean\n",
        "\n",
        "Booleans represent one of 2 values: `True` and `False`. Booleans have the type `bool`."
      ]
    },
    {
      "cell_type": "code",
      "execution_count": null,
      "metadata": {
        "id": "yNcjqp_B3oNE"
      },
      "outputs": [],
      "source": [
        "is_today_Sunday = True"
      ]
    },
    {
      "cell_type": "code",
      "execution_count": null,
      "metadata": {
        "colab": {
          "base_uri": "https://localhost:8080/"
        },
        "id": "je5BJEhB3oNE",
        "outputId": "4ddea806-fa75-41fe-86b8-2db151cb2d0a"
      },
      "outputs": [
        {
          "output_type": "execute_result",
          "data": {
            "text/plain": [
              "True"
            ]
          },
          "metadata": {},
          "execution_count": 87
        }
      ],
      "source": [
        "is_today_Sunday"
      ]
    },
    {
      "cell_type": "code",
      "execution_count": null,
      "metadata": {
        "colab": {
          "base_uri": "https://localhost:8080/"
        },
        "id": "UU4cXqql3oNE",
        "outputId": "0ceeffe2-224e-4716-caec-f2ec3fde3cad"
      },
      "outputs": [
        {
          "output_type": "execute_result",
          "data": {
            "text/plain": [
              "bool"
            ]
          },
          "metadata": {},
          "execution_count": 88
        }
      ],
      "source": [
        "type(is_today_Saturday)"
      ]
    },
    {
      "cell_type": "markdown",
      "metadata": {
        "id": "RpleOEw03oNE"
      },
      "source": [
        "Booleans are generally the result of a comparison operation, e.g., `==`, `>=`, etc."
      ]
    },
    {
      "cell_type": "code",
      "execution_count": null,
      "metadata": {
        "id": "IyW2CDvb3oNE"
      },
      "outputs": [],
      "source": [
        "cost_of_ice_bag = 1.25\n",
        "is_ice_bag_expensive = cost_of_ice_bag >= 10"
      ]
    },
    {
      "cell_type": "code",
      "execution_count": null,
      "metadata": {
        "colab": {
          "base_uri": "https://localhost:8080/"
        },
        "id": "euQaimxO3oNF",
        "outputId": "cbc7bf27-379c-408d-e3cd-b4c3bd72558e"
      },
      "outputs": [
        {
          "output_type": "execute_result",
          "data": {
            "text/plain": [
              "False"
            ]
          },
          "metadata": {},
          "execution_count": 90
        }
      ],
      "source": [
        "is_ice_bag_expensive"
      ]
    },
    {
      "cell_type": "code",
      "execution_count": null,
      "metadata": {
        "colab": {
          "base_uri": "https://localhost:8080/"
        },
        "id": "iuefSFKR3oNF",
        "outputId": "3ee92d42-276b-44fc-e1f9-07681ef827c8"
      },
      "outputs": [
        {
          "output_type": "execute_result",
          "data": {
            "text/plain": [
              "bool"
            ]
          },
          "metadata": {},
          "execution_count": 91
        }
      ],
      "source": [
        "type(is_ice_bag_expensive)"
      ]
    },
    {
      "cell_type": "markdown",
      "metadata": {
        "id": "GFlsaYnU3oNF"
      },
      "source": [
        "Booleans are automatically converted to `int`s when used in arithmetic operations. `True` is converted to `1` and `False` is converted to `0`."
      ]
    },
    {
      "cell_type": "code",
      "execution_count": null,
      "metadata": {
        "colab": {
          "base_uri": "https://localhost:8080/"
        },
        "id": "3GvFQhRb3oNF",
        "outputId": "e208a814-deb6-4df1-f06a-527d00cf458e"
      },
      "outputs": [
        {
          "output_type": "execute_result",
          "data": {
            "text/plain": [
              "5"
            ]
          },
          "metadata": {},
          "execution_count": 92
        }
      ],
      "source": [
        "5 + False"
      ]
    },
    {
      "cell_type": "code",
      "execution_count": null,
      "metadata": {
        "colab": {
          "base_uri": "https://localhost:8080/"
        },
        "id": "MRj9dBkI3oNF",
        "outputId": "6fee6ed5-e4e5-41a4-d533-06385a031dfe"
      },
      "outputs": [
        {
          "output_type": "execute_result",
          "data": {
            "text/plain": [
              "4.0"
            ]
          },
          "metadata": {},
          "execution_count": 93
        }
      ],
      "source": [
        "3. + True"
      ]
    },
    {
      "cell_type": "markdown",
      "metadata": {
        "id": "2j86Q9k-3oNF"
      },
      "source": [
        "Any value in Python can be converted to a Boolean using the `bool` function. \n",
        "\n",
        "Only the following values evaluate to `False` (they are often called *falsy* values):\n",
        "\n",
        "1. The value `False` itself\n",
        "2. The integer `0`\n",
        "3. The float `0.0`\n",
        "4. The empty value `None`\n",
        "5. The empty text `\"\"`\n",
        "6. The empty list `[]`\n",
        "7. The empty tuple `()`\n",
        "8. The empty dictionary `{}`\n",
        "9. The empty set `set()`\n",
        "10. The empty range `range(0)`\n",
        "\n",
        "Everything else evaluates to `True` (a value that evaluates to `True` is often called a *truthy* value)."
      ]
    },
    {
      "cell_type": "code",
      "execution_count": null,
      "metadata": {
        "colab": {
          "base_uri": "https://localhost:8080/"
        },
        "id": "x72bScQC3oNF",
        "outputId": "27c11672-e510-45d0-aaf6-3c90aa073bf8"
      },
      "outputs": [
        {
          "output_type": "execute_result",
          "data": {
            "text/plain": [
              "False"
            ]
          },
          "metadata": {},
          "execution_count": 94
        }
      ],
      "source": [
        "bool(False)"
      ]
    },
    {
      "cell_type": "code",
      "execution_count": null,
      "metadata": {
        "colab": {
          "base_uri": "https://localhost:8080/"
        },
        "id": "Z5QVUwFI3oNG",
        "outputId": "71f94bd3-8223-4e99-c417-bef994446f07"
      },
      "outputs": [
        {
          "output_type": "execute_result",
          "data": {
            "text/plain": [
              "False"
            ]
          },
          "metadata": {},
          "execution_count": 95
        }
      ],
      "source": [
        "bool(0)"
      ]
    },
    {
      "cell_type": "code",
      "execution_count": null,
      "metadata": {
        "colab": {
          "base_uri": "https://localhost:8080/"
        },
        "id": "LS4Fe4h83oNG",
        "outputId": "63fae2d4-c29c-43be-93e4-c33b1c12732b"
      },
      "outputs": [
        {
          "output_type": "execute_result",
          "data": {
            "text/plain": [
              "False"
            ]
          },
          "metadata": {},
          "execution_count": 96
        }
      ],
      "source": [
        "bool(0.0)"
      ]
    },
    {
      "cell_type": "code",
      "execution_count": null,
      "metadata": {
        "colab": {
          "base_uri": "https://localhost:8080/"
        },
        "id": "696m9qO83oNG",
        "outputId": "567477e8-6243-42ea-cee1-f077251b200b"
      },
      "outputs": [
        {
          "output_type": "execute_result",
          "data": {
            "text/plain": [
              "False"
            ]
          },
          "metadata": {},
          "execution_count": 97
        }
      ],
      "source": [
        "bool(None)"
      ]
    },
    {
      "cell_type": "code",
      "execution_count": null,
      "metadata": {
        "colab": {
          "base_uri": "https://localhost:8080/"
        },
        "id": "BeEZLzVE3oNG",
        "outputId": "111f497b-7895-4c53-d5fb-ed1321d965b5"
      },
      "outputs": [
        {
          "output_type": "execute_result",
          "data": {
            "text/plain": [
              "False"
            ]
          },
          "metadata": {},
          "execution_count": 98
        }
      ],
      "source": [
        "bool(\"\")"
      ]
    },
    {
      "cell_type": "code",
      "execution_count": null,
      "metadata": {
        "colab": {
          "base_uri": "https://localhost:8080/"
        },
        "id": "yT-G0k5R3oNG",
        "outputId": "1c867575-faa7-4922-eba0-487cc9e03e29"
      },
      "outputs": [
        {
          "output_type": "execute_result",
          "data": {
            "text/plain": [
              "False"
            ]
          },
          "metadata": {},
          "execution_count": 99
        }
      ],
      "source": [
        "bool([])"
      ]
    },
    {
      "cell_type": "code",
      "execution_count": null,
      "metadata": {
        "colab": {
          "base_uri": "https://localhost:8080/"
        },
        "id": "WZ4ajpF23oNG",
        "outputId": "09872287-fa42-4f96-e6b0-ca55b2209243"
      },
      "outputs": [
        {
          "output_type": "execute_result",
          "data": {
            "text/plain": [
              "False"
            ]
          },
          "metadata": {},
          "execution_count": 100
        }
      ],
      "source": [
        "bool(())"
      ]
    },
    {
      "cell_type": "code",
      "execution_count": null,
      "metadata": {
        "colab": {
          "base_uri": "https://localhost:8080/"
        },
        "id": "m0CeKwhK3oNG",
        "outputId": "e93a840f-4d9f-4395-9363-ec401eda67ae"
      },
      "outputs": [
        {
          "output_type": "execute_result",
          "data": {
            "text/plain": [
              "False"
            ]
          },
          "metadata": {},
          "execution_count": 101
        }
      ],
      "source": [
        "bool({})"
      ]
    },
    {
      "cell_type": "code",
      "execution_count": null,
      "metadata": {
        "colab": {
          "base_uri": "https://localhost:8080/"
        },
        "id": "lZal4uGj3oNG",
        "outputId": "09997708-88b9-4863-f45e-30d177b08a98"
      },
      "outputs": [
        {
          "output_type": "execute_result",
          "data": {
            "text/plain": [
              "False"
            ]
          },
          "metadata": {},
          "execution_count": 102
        }
      ],
      "source": [
        "bool(set())"
      ]
    },
    {
      "cell_type": "code",
      "execution_count": null,
      "metadata": {
        "colab": {
          "base_uri": "https://localhost:8080/"
        },
        "id": "V2Vb0_kp3oNG",
        "outputId": "e5a29e8f-e285-47ff-c507-f21386288225"
      },
      "outputs": [
        {
          "output_type": "execute_result",
          "data": {
            "text/plain": [
              "False"
            ]
          },
          "metadata": {},
          "execution_count": 103
        }
      ],
      "source": [
        "bool(range(0))"
      ]
    },
    {
      "cell_type": "code",
      "execution_count": null,
      "metadata": {
        "colab": {
          "base_uri": "https://localhost:8080/"
        },
        "id": "ex_oCs9y3oNH",
        "outputId": "ad7f0b99-2883-4522-837c-fceae65a3462"
      },
      "outputs": [
        {
          "output_type": "execute_result",
          "data": {
            "text/plain": [
              "(True, True, True, True, True, True, True)"
            ]
          },
          "metadata": {},
          "execution_count": 104
        }
      ],
      "source": [
        "bool(True), bool(1), bool(2.0), bool(\"hello\"), bool([1,2]), bool((2,3)), bool(range(10))"
      ]
    },
    {
      "cell_type": "markdown",
      "metadata": {
        "id": "IYscK8hh3oNH"
      },
      "source": [
        "### None\n",
        "\n",
        "The None type includes a single value `None`, used to indicate the absence of a value. `None` has the type `NoneType`. It is often used to declare a variable whose value may be assigned later."
      ]
    },
    {
      "cell_type": "code",
      "execution_count": null,
      "metadata": {
        "id": "z6IH-kPe3oNH"
      },
      "outputs": [],
      "source": [
        "nothing = None"
      ]
    },
    {
      "cell_type": "code",
      "execution_count": null,
      "metadata": {
        "colab": {
          "base_uri": "https://localhost:8080/"
        },
        "id": "oHpu0bkM3oNH",
        "outputId": "0cfa3889-fa84-4523-fd5b-9532f2b05763"
      },
      "outputs": [
        {
          "output_type": "execute_result",
          "data": {
            "text/plain": [
              "NoneType"
            ]
          },
          "metadata": {},
          "execution_count": 106
        }
      ],
      "source": [
        "type(nothing)"
      ]
    },
    {
      "cell_type": "markdown",
      "metadata": {
        "id": "cJbCdhYl3oNH"
      },
      "source": [
        "### String\n",
        "\n",
        "A string is used to represent text (*a string of characters*) in Python. Strings must be surrounded using quotations (either the single quote `'` or the double quote `\"`). Strings have the type `string`."
      ]
    },
    {
      "cell_type": "code",
      "execution_count": null,
      "metadata": {
        "id": "8gyuitp-3oNH"
      },
      "outputs": [],
      "source": [
        "today = \"Saturday\""
      ]
    },
    {
      "cell_type": "code",
      "execution_count": null,
      "metadata": {
        "colab": {
          "base_uri": "https://localhost:8080/",
          "height": 34
        },
        "id": "ACYYbezy3oNH",
        "outputId": "4bfb35a6-9be2-483e-e508-164830aa050d"
      },
      "outputs": [
        {
          "output_type": "execute_result",
          "data": {
            "text/plain": [
              "'Saturday'"
            ],
            "application/vnd.google.colaboratory.intrinsic+json": {
              "type": "string"
            }
          },
          "metadata": {},
          "execution_count": 108
        }
      ],
      "source": [
        "today"
      ]
    },
    {
      "cell_type": "code",
      "execution_count": null,
      "metadata": {
        "colab": {
          "base_uri": "https://localhost:8080/"
        },
        "id": "Mqqp0wQ23oNH",
        "outputId": "15a35127-83b3-447f-cd10-48896875378c"
      },
      "outputs": [
        {
          "output_type": "execute_result",
          "data": {
            "text/plain": [
              "str"
            ]
          },
          "metadata": {},
          "execution_count": 109
        }
      ],
      "source": [
        "type(today)"
      ]
    },
    {
      "cell_type": "markdown",
      "metadata": {
        "id": "IVyQN8X93oNH"
      },
      "source": [
        "You can use single quotes inside a string written with double quotes, and vice versa."
      ]
    },
    {
      "cell_type": "code",
      "execution_count": null,
      "metadata": {
        "id": "-QLDbSLF3oNH"
      },
      "outputs": [],
      "source": [
        "my_favorite_movie = \"One Flew over the Cuckoo's Nest\" "
      ]
    },
    {
      "cell_type": "code",
      "execution_count": null,
      "metadata": {
        "colab": {
          "base_uri": "https://localhost:8080/",
          "height": 34
        },
        "id": "prpzIH-83oNH",
        "outputId": "8bb0420e-1d6d-45ec-f91a-7c023515cd18"
      },
      "outputs": [
        {
          "output_type": "execute_result",
          "data": {
            "text/plain": [
              "\"One Flew over the Cuckoo's Nest\""
            ],
            "application/vnd.google.colaboratory.intrinsic+json": {
              "type": "string"
            }
          },
          "metadata": {},
          "execution_count": 111
        }
      ],
      "source": [
        "my_favorite_movie"
      ]
    },
    {
      "cell_type": "code",
      "execution_count": null,
      "metadata": {
        "id": "uQyyihSZ3oNH"
      },
      "outputs": [],
      "source": [
        "my_favorite_pun = 'Thanks for explaining the word \"many\" to me, it means a lot.'"
      ]
    },
    {
      "cell_type": "code",
      "execution_count": null,
      "metadata": {
        "colab": {
          "base_uri": "https://localhost:8080/",
          "height": 34
        },
        "id": "ms3N374J3oNI",
        "outputId": "34f96fb7-7acb-4f0b-c271-21427fd3c228"
      },
      "outputs": [
        {
          "output_type": "execute_result",
          "data": {
            "text/plain": [
              "'Thanks for explaining the word \"many\" to me, it means a lot.'"
            ],
            "application/vnd.google.colaboratory.intrinsic+json": {
              "type": "string"
            }
          },
          "metadata": {},
          "execution_count": 113
        }
      ],
      "source": [
        "my_favorite_pun"
      ]
    },
    {
      "cell_type": "markdown",
      "metadata": {
        "id": "BUOtRFiS3oNI"
      },
      "source": [
        "To use a double quote within a string written with double quotes, *escape* the inner quotes by prefixing them with the `\\` character."
      ]
    },
    {
      "cell_type": "code",
      "execution_count": null,
      "metadata": {
        "id": "TuQokyO63oNI"
      },
      "outputs": [],
      "source": [
        "another_pun = \"The first time I got a universal remote control, I thought to myself \\\"This changes everything\\\".\""
      ]
    },
    {
      "cell_type": "code",
      "execution_count": null,
      "metadata": {
        "colab": {
          "base_uri": "https://localhost:8080/",
          "height": 34
        },
        "id": "ajTWmNYx3oNI",
        "outputId": "5c71e3c8-686c-4ff8-b700-bb5fb8a5ab82"
      },
      "outputs": [
        {
          "output_type": "execute_result",
          "data": {
            "text/plain": [
              "'The first time I got a universal remote control, I thought to myself \"This changes everything\".'"
            ],
            "application/vnd.google.colaboratory.intrinsic+json": {
              "type": "string"
            }
          },
          "metadata": {},
          "execution_count": 115
        }
      ],
      "source": [
        "another_pun"
      ]
    },
    {
      "cell_type": "markdown",
      "metadata": {
        "id": "93QR0QPZ3oNI"
      },
      "source": [
        "Strings created using single or double quotes must begin and end on the same line. To create multiline strings, use three single quotes `'''` or three double quotes `\"\"\"` to begin and end the string. Line breaks are represented using the newline character `\\n`."
      ]
    },
    {
      "cell_type": "code",
      "execution_count": null,
      "metadata": {
        "id": "5sFSUH-O3oNI"
      },
      "outputs": [],
      "source": [
        "yet_another_pun = '''Son: \"Dad, can you tell me what a solar eclipse is?\" \n",
        "Dad: \"No sun.\"'''"
      ]
    },
    {
      "cell_type": "code",
      "execution_count": null,
      "metadata": {
        "colab": {
          "base_uri": "https://localhost:8080/",
          "height": 34
        },
        "id": "IuOI6ZRA3oNI",
        "outputId": "bee6f64d-9787-40bc-e944-0486feaa3a8c"
      },
      "outputs": [
        {
          "output_type": "execute_result",
          "data": {
            "text/plain": [
              "'Son: \"Dad, can you tell me what a solar eclipse is?\" \\nDad: \"No sun.\"'"
            ],
            "application/vnd.google.colaboratory.intrinsic+json": {
              "type": "string"
            }
          },
          "metadata": {},
          "execution_count": 117
        }
      ],
      "source": [
        "yet_another_pun"
      ]
    },
    {
      "cell_type": "markdown",
      "metadata": {
        "id": "mlUE6eoA3oNI"
      },
      "source": [
        "Multiline strings are best displayed using the `print` function."
      ]
    },
    {
      "cell_type": "code",
      "execution_count": null,
      "metadata": {
        "colab": {
          "base_uri": "https://localhost:8080/"
        },
        "id": "NkgKpk2H3oNI",
        "outputId": "c584429e-38f6-47db-b5e6-f0c153421148"
      },
      "outputs": [
        {
          "output_type": "stream",
          "name": "stdout",
          "text": [
            "Son: \"Dad, can you tell me what a solar eclipse is?\" \n",
            "Dad: \"No sun.\"\n"
          ]
        }
      ],
      "source": [
        "print(yet_another_pun)"
      ]
    },
    {
      "cell_type": "code",
      "execution_count": null,
      "metadata": {
        "id": "D0NAN9vq3oNI"
      },
      "outputs": [],
      "source": [
        "a_music_pun = \"\"\"\n",
        "Two windmills are standing in a field and one asks the other, \n",
        "\"What kind of music do you like?\"  \n",
        "\n",
        "The other says, \n",
        "\"I'm a big metal fan.\"\n",
        "\"\"\""
      ]
    },
    {
      "cell_type": "code",
      "execution_count": null,
      "metadata": {
        "colab": {
          "base_uri": "https://localhost:8080/"
        },
        "id": "D-ila0b23oNI",
        "outputId": "c50d020e-0934-4603-a70e-2d146892bca1"
      },
      "outputs": [
        {
          "output_type": "stream",
          "name": "stdout",
          "text": [
            "\n",
            "Two windmills are standing in a field and one asks the other, \n",
            "\"What kind of music do you like?\"  \n",
            "\n",
            "The other says, \n",
            "\"I'm a big metal fan.\"\n",
            "\n"
          ]
        }
      ],
      "source": [
        "print(a_music_pun)"
      ]
    },
    {
      "cell_type": "markdown",
      "metadata": {
        "id": "JivVinzh3oNI"
      },
      "source": [
        "You can check the length of a string using the `len` function."
      ]
    },
    {
      "cell_type": "code",
      "execution_count": null,
      "metadata": {
        "colab": {
          "base_uri": "https://localhost:8080/"
        },
        "id": "-WpwSH7c3oNI",
        "outputId": "3697c00f-dbaa-4134-d693-95f519830d36"
      },
      "outputs": [
        {
          "output_type": "execute_result",
          "data": {
            "text/plain": [
              "31"
            ]
          },
          "metadata": {},
          "execution_count": 121
        }
      ],
      "source": [
        "len(my_favorite_movie)"
      ]
    },
    {
      "cell_type": "markdown",
      "metadata": {
        "id": "VTEFwS6x3oNI"
      },
      "source": [
        "Note that special characters like `\\n` and escaped characters like `\\\"` count as a single character, even though they are written and sometimes printed as two characters."
      ]
    },
    {
      "cell_type": "code",
      "execution_count": null,
      "metadata": {
        "colab": {
          "base_uri": "https://localhost:8080/",
          "height": 34
        },
        "id": "rH2D8aQx3oNI",
        "outputId": "b1f884ff-ea7d-480c-dc46-07570b90ff84"
      },
      "outputs": [
        {
          "output_type": "execute_result",
          "data": {
            "text/plain": [
              "'a\\nb'"
            ],
            "application/vnd.google.colaboratory.intrinsic+json": {
              "type": "string"
            }
          },
          "metadata": {},
          "execution_count": 122
        }
      ],
      "source": [
        "multiline_string = \"\"\"a\n",
        "b\"\"\"\n",
        "multiline_string"
      ]
    },
    {
      "cell_type": "code",
      "execution_count": null,
      "metadata": {
        "colab": {
          "base_uri": "https://localhost:8080/"
        },
        "id": "tch2iogw3oNJ",
        "outputId": "6aea6e4b-7c36-40a6-c449-40d5c8acaa3a"
      },
      "outputs": [
        {
          "output_type": "execute_result",
          "data": {
            "text/plain": [
              "3"
            ]
          },
          "metadata": {},
          "execution_count": 123
        }
      ],
      "source": [
        "len(multiline_string)"
      ]
    },
    {
      "cell_type": "code",
      "source": [
        "print(multiline_string)"
      ],
      "metadata": {
        "colab": {
          "base_uri": "https://localhost:8080/"
        },
        "id": "jKznA6Ok7Ow1",
        "outputId": "8c59d675-dd1f-4d9c-ce35-e0c3e129d6be"
      },
      "execution_count": null,
      "outputs": [
        {
          "output_type": "stream",
          "name": "stdout",
          "text": [
            "a\n",
            "b\n"
          ]
        }
      ]
    },
    {
      "cell_type": "code",
      "source": [
        "list(multiline_string)"
      ],
      "metadata": {
        "colab": {
          "base_uri": "https://localhost:8080/"
        },
        "id": "ey4q2yfK7Tjs",
        "outputId": "7d6ca0bd-5299-4ee6-802a-a7139bb2074f"
      },
      "execution_count": null,
      "outputs": [
        {
          "output_type": "execute_result",
          "data": {
            "text/plain": [
              "['a', '\\n', 'b']"
            ]
          },
          "metadata": {},
          "execution_count": 127
        }
      ]
    },
    {
      "cell_type": "markdown",
      "metadata": {
        "id": "DZpA256E3oNJ"
      },
      "source": [
        "A string can be converted into a list of characters using `list` function."
      ]
    },
    {
      "cell_type": "code",
      "execution_count": null,
      "metadata": {
        "colab": {
          "base_uri": "https://localhost:8080/"
        },
        "id": "_c2L-pjE3oNJ",
        "outputId": "243b71cd-3e7d-4550-c822-f52496d5da3f"
      },
      "outputs": [
        {
          "output_type": "execute_result",
          "data": {
            "text/plain": [
              "['a', '\\n', 'b']"
            ]
          },
          "metadata": {},
          "execution_count": 128
        }
      ],
      "source": [
        "list(multiline_string)"
      ]
    },
    {
      "cell_type": "markdown",
      "metadata": {
        "id": "XM5smXiP3oNJ"
      },
      "source": [
        "Strings also support several list operations, which are discussed in the next section. We'll look at a couple of examples here.\n",
        "\n",
        "You can access individual characters within a string using the `[]` indexing notation. Note the character indices go from `0` to `n-1`, where `n` is the length of the string."
      ]
    },
    {
      "cell_type": "code",
      "execution_count": null,
      "metadata": {
        "id": "76GJSzVx3oNJ"
      },
      "outputs": [],
      "source": [
        "today = \"Saturday\""
      ]
    },
    {
      "cell_type": "code",
      "execution_count": null,
      "metadata": {
        "colab": {
          "base_uri": "https://localhost:8080/",
          "height": 34
        },
        "id": "1YFetIVZ3oNJ",
        "outputId": "c17a371f-d980-445d-a66e-61e4d45725ac"
      },
      "outputs": [
        {
          "output_type": "execute_result",
          "data": {
            "text/plain": [
              "'S'"
            ],
            "application/vnd.google.colaboratory.intrinsic+json": {
              "type": "string"
            }
          },
          "metadata": {},
          "execution_count": 130
        }
      ],
      "source": [
        "today[0]"
      ]
    },
    {
      "cell_type": "code",
      "execution_count": null,
      "metadata": {
        "colab": {
          "base_uri": "https://localhost:8080/",
          "height": 34
        },
        "id": "T9pkNA_O3oNJ",
        "outputId": "99e12c94-2243-4332-8576-1c3ba5b45467"
      },
      "outputs": [
        {
          "output_type": "execute_result",
          "data": {
            "text/plain": [
              "'u'"
            ],
            "application/vnd.google.colaboratory.intrinsic+json": {
              "type": "string"
            }
          },
          "metadata": {},
          "execution_count": 131
        }
      ],
      "source": [
        "today[3]"
      ]
    },
    {
      "cell_type": "code",
      "execution_count": null,
      "metadata": {
        "colab": {
          "base_uri": "https://localhost:8080/",
          "height": 34
        },
        "id": "6qxs1R2T3oNJ",
        "outputId": "1ba400a1-7963-45f1-d265-542ba194496f"
      },
      "outputs": [
        {
          "output_type": "execute_result",
          "data": {
            "text/plain": [
              "'y'"
            ],
            "application/vnd.google.colaboratory.intrinsic+json": {
              "type": "string"
            }
          },
          "metadata": {},
          "execution_count": 132
        }
      ],
      "source": [
        "today[7]"
      ]
    },
    {
      "cell_type": "markdown",
      "metadata": {
        "id": "yCJfCLfE3oNJ"
      },
      "source": [
        "You can access a part of a string using by providing a `start:end` range instead of a single index in `[]`."
      ]
    },
    {
      "cell_type": "code",
      "execution_count": null,
      "metadata": {
        "colab": {
          "base_uri": "https://localhost:8080/",
          "height": 34
        },
        "id": "sgBOmziY3oNJ",
        "outputId": "b46f3e08-4044-476d-cb1c-9fec8ff80f81"
      },
      "outputs": [
        {
          "output_type": "execute_result",
          "data": {
            "text/plain": [
              "'day'"
            ],
            "application/vnd.google.colaboratory.intrinsic+json": {
              "type": "string"
            }
          },
          "metadata": {},
          "execution_count": 134
        }
      ],
      "source": [
        "today[5:8]"
      ]
    },
    {
      "cell_type": "markdown",
      "metadata": {
        "id": "yMhMrGhb3oNJ"
      },
      "source": [
        "You can also check whether a string contains a some text using the `in` operator. "
      ]
    },
    {
      "cell_type": "code",
      "execution_count": null,
      "metadata": {
        "colab": {
          "base_uri": "https://localhost:8080/"
        },
        "id": "QKACaVqX3oNJ",
        "outputId": "2f3876d8-b960-4023-8d77-283edb48bdf9"
      },
      "outputs": [
        {
          "output_type": "execute_result",
          "data": {
            "text/plain": [
              "True"
            ]
          },
          "metadata": {},
          "execution_count": 135
        }
      ],
      "source": [
        "'day' in today"
      ]
    },
    {
      "cell_type": "code",
      "execution_count": null,
      "metadata": {
        "colab": {
          "base_uri": "https://localhost:8080/"
        },
        "id": "E9yQxZV23oNJ",
        "outputId": "8ab4608e-d8d8-4c4a-a3db-ff7ae185df9b"
      },
      "outputs": [
        {
          "output_type": "execute_result",
          "data": {
            "text/plain": [
              "False"
            ]
          },
          "metadata": {},
          "execution_count": 136
        }
      ],
      "source": [
        "'Sun' in today"
      ]
    },
    {
      "cell_type": "markdown",
      "metadata": {
        "id": "7_1d1wGX3oNK"
      },
      "source": [
        "Two or more strings can be joined or *concatenated* using the `+` operator. Be careful while concatenating strings, sometimes you may need to add a space character `\" \"` between words."
      ]
    },
    {
      "cell_type": "code",
      "execution_count": null,
      "metadata": {
        "id": "jncwvi8q3oNK"
      },
      "outputs": [],
      "source": [
        "full_name = \"Derek O'Brien\""
      ]
    },
    {
      "cell_type": "code",
      "execution_count": null,
      "metadata": {
        "id": "r2tHVgEC3oNK"
      },
      "outputs": [],
      "source": [
        "greeting = \"Hello\""
      ]
    },
    {
      "cell_type": "code",
      "execution_count": null,
      "metadata": {
        "colab": {
          "base_uri": "https://localhost:8080/",
          "height": 34
        },
        "id": "c12h1_RG3oNK",
        "outputId": "64491d6c-ddaf-4713-9c19-273b2d002eec"
      },
      "outputs": [
        {
          "output_type": "execute_result",
          "data": {
            "text/plain": [
              "\"HelloDerek O'Brien\""
            ],
            "application/vnd.google.colaboratory.intrinsic+json": {
              "type": "string"
            }
          },
          "metadata": {},
          "execution_count": 139
        }
      ],
      "source": [
        "greeting + full_name"
      ]
    },
    {
      "cell_type": "code",
      "execution_count": null,
      "metadata": {
        "colab": {
          "base_uri": "https://localhost:8080/",
          "height": 34
        },
        "id": "FOKZQ2KQ3oNK",
        "outputId": "f8f50e3b-78a7-4b88-fb20-e151a67053a1"
      },
      "outputs": [
        {
          "output_type": "execute_result",
          "data": {
            "text/plain": [
              "\"Hello Derek O'Brien!\""
            ],
            "application/vnd.google.colaboratory.intrinsic+json": {
              "type": "string"
            }
          },
          "metadata": {},
          "execution_count": 140
        }
      ],
      "source": [
        "greeting + \" \" + full_name + \"!\" # additional space"
      ]
    },
    {
      "cell_type": "markdown",
      "metadata": {
        "id": "wkNc8wcG3oNK"
      },
      "source": [
        "Strings in Python have many built-in *methods* that are used to manipulate them. Let's try out some common string methods.\n",
        "\n",
        "> **Methods**: Methods are functions associated with data types and are accessed using the `.` notation e.g. `variable_name.method()` or `\"a string\".method()`. Methods are a powerful technique for associating common operations with values of specific data types.\n",
        "\n",
        "The `.lower()`, `.upper()` and `.capitalize()` methods are used to change the case of the characters."
      ]
    },
    {
      "cell_type": "code",
      "execution_count": null,
      "metadata": {
        "colab": {
          "base_uri": "https://localhost:8080/",
          "height": 34
        },
        "id": "7A78E8wl3oNK",
        "outputId": "cc05bb3b-a84c-4e93-fb50-5ee1a5a1f74d"
      },
      "outputs": [
        {
          "output_type": "execute_result",
          "data": {
            "text/plain": [
              "'saturday'"
            ],
            "application/vnd.google.colaboratory.intrinsic+json": {
              "type": "string"
            }
          },
          "metadata": {},
          "execution_count": 141
        }
      ],
      "source": [
        "today.lower()"
      ]
    },
    {
      "cell_type": "code",
      "execution_count": null,
      "metadata": {
        "colab": {
          "base_uri": "https://localhost:8080/",
          "height": 34
        },
        "id": "XpHthMhZ3oNK",
        "outputId": "25f0fc3c-fc4f-461f-c66a-ac722d72bb25"
      },
      "outputs": [
        {
          "output_type": "execute_result",
          "data": {
            "text/plain": [
              "'SATURDAY'"
            ],
            "application/vnd.google.colaboratory.intrinsic+json": {
              "type": "string"
            }
          },
          "metadata": {},
          "execution_count": 142
        }
      ],
      "source": [
        "\"saturday\".upper()"
      ]
    },
    {
      "cell_type": "code",
      "execution_count": null,
      "metadata": {
        "colab": {
          "base_uri": "https://localhost:8080/",
          "height": 34
        },
        "id": "aeIeapLh3oNK",
        "outputId": "7b1017d7-7114-43de-e6ba-50ae26bbc366"
      },
      "outputs": [
        {
          "output_type": "execute_result",
          "data": {
            "text/plain": [
              "'Monday'"
            ],
            "application/vnd.google.colaboratory.intrinsic+json": {
              "type": "string"
            }
          },
          "metadata": {},
          "execution_count": 143
        }
      ],
      "source": [
        "\"monday\".capitalize() # changes first character to uppercase"
      ]
    },
    {
      "cell_type": "markdown",
      "metadata": {
        "id": "32hkm6Zo3oNK"
      },
      "source": [
        "The `.replace` method replaces a part of the string with another string. It takes the portion to be replaced and the replacement text as *inputs* or *arguments*."
      ]
    },
    {
      "cell_type": "code",
      "execution_count": null,
      "metadata": {
        "id": "iyjToZp53oNK"
      },
      "outputs": [],
      "source": [
        "another_day = today.replace(\"Satur\", \"Wednes\")"
      ]
    },
    {
      "cell_type": "code",
      "execution_count": null,
      "metadata": {
        "colab": {
          "base_uri": "https://localhost:8080/",
          "height": 34
        },
        "id": "Ua8hfBSq3oNK",
        "outputId": "dce7ff48-eff9-41b1-a46f-6074c3d5dd21"
      },
      "outputs": [
        {
          "output_type": "execute_result",
          "data": {
            "text/plain": [
              "'Wednesday'"
            ],
            "application/vnd.google.colaboratory.intrinsic+json": {
              "type": "string"
            }
          },
          "metadata": {},
          "execution_count": 145
        }
      ],
      "source": [
        "another_day"
      ]
    },
    {
      "cell_type": "markdown",
      "metadata": {
        "id": "pDls6LUn3oNK"
      },
      "source": [
        "Note that `replace` returns a new string, and the original string is not modified."
      ]
    },
    {
      "cell_type": "code",
      "execution_count": null,
      "metadata": {
        "colab": {
          "base_uri": "https://localhost:8080/",
          "height": 34
        },
        "id": "HIkUdb1y3oNK",
        "outputId": "45c1f80c-a9f2-4652-94a6-e9d723cc91c1"
      },
      "outputs": [
        {
          "output_type": "execute_result",
          "data": {
            "text/plain": [
              "'Saturday'"
            ],
            "application/vnd.google.colaboratory.intrinsic+json": {
              "type": "string"
            }
          },
          "metadata": {},
          "execution_count": 146
        }
      ],
      "source": [
        "today"
      ]
    },
    {
      "cell_type": "markdown",
      "metadata": {
        "id": "_d_A1W6K3oNK"
      },
      "source": [
        "The `.split` method splits a string into a list of strings at every occurrence of provided character(s)."
      ]
    },
    {
      "cell_type": "code",
      "execution_count": null,
      "metadata": {
        "id": "a0WyrbM53oNK",
        "outputId": "375812ee-e66c-4cad-b9d6-b0dd6cbd3fde",
        "colab": {
          "base_uri": "https://localhost:8080/"
        }
      },
      "outputs": [
        {
          "output_type": "execute_result",
          "data": {
            "text/plain": [
              "['Sun', 'Mon', 'Tue', 'Wed', 'Thu', 'Fri', 'Sat']"
            ]
          },
          "metadata": {},
          "execution_count": 149
        }
      ],
      "source": [
        "\"Sun,Mon,Tue,Wed,Thu,Fri,Sat\".split(\",\")"
      ]
    },
    {
      "cell_type": "markdown",
      "metadata": {
        "id": "J7nybbs13oNL"
      },
      "source": [
        "The `.strip` method removes whitespace characters from the beginning and end of a string."
      ]
    },
    {
      "cell_type": "code",
      "execution_count": null,
      "metadata": {
        "id": "q0OseGgc3oNL"
      },
      "outputs": [],
      "source": [
        "a_long_line = \"       This is a long line with some space before, after,     and some space in the middle..    \""
      ]
    },
    {
      "cell_type": "code",
      "execution_count": null,
      "metadata": {
        "id": "ysLtn0zd3oNL"
      },
      "outputs": [],
      "source": [
        "a_long_line_stripped = a_long_line.strip()"
      ]
    },
    {
      "cell_type": "code",
      "execution_count": null,
      "metadata": {
        "id": "jDiKcaFv3oNL",
        "outputId": "ae3dd723-6a13-47ea-c48f-2b8d58ad291b",
        "colab": {
          "base_uri": "https://localhost:8080/",
          "height": 34
        }
      },
      "outputs": [
        {
          "output_type": "execute_result",
          "data": {
            "text/plain": [
              "'This is a long line with some space before, after,     and some space in the middle..'"
            ],
            "application/vnd.google.colaboratory.intrinsic+json": {
              "type": "string"
            }
          },
          "metadata": {},
          "execution_count": 152
        }
      ],
      "source": [
        "a_long_line_stripped"
      ]
    },
    {
      "cell_type": "markdown",
      "metadata": {
        "id": "7SaLS7743oNL"
      },
      "source": [
        "The `.format` method combines values of other data types, e.g., integers, floats, booleans, lists, etc. with strings. You can use `format` to construct output messages for display."
      ]
    },
    {
      "cell_type": "code",
      "execution_count": null,
      "metadata": {
        "id": "HC-5vRxY3oNL",
        "outputId": "d87d8842-953b-440d-c42a-a6c1b52ee37b",
        "colab": {
          "base_uri": "https://localhost:8080/"
        }
      },
      "outputs": [
        {
          "output_type": "stream",
          "name": "stdout",
          "text": [
            "If a grocery store sells ice bags at $ {} per bag, with a profit margin of {} %, \n",
            "then the total profit it makes by selling {} ice bags is $ {}.\n"
          ]
        }
      ],
      "source": [
        "# Input variables\n",
        "cost_of_ice_bag = 1.25\n",
        "profit_margin = .2\n",
        "number_of_bags = 500\n",
        "\n",
        "# Template for output message\n",
        "output_template = \"\"\"If a grocery store sells ice bags at $ {} per bag, with a profit margin of {} %, \n",
        "then the total profit it makes by selling {} ice bags is $ {}.\"\"\"\n",
        "\n",
        "print(output_template)"
      ]
    },
    {
      "cell_type": "code",
      "execution_count": null,
      "metadata": {
        "id": "bXVQvqLN3oNL",
        "outputId": "c9d7cadb-dd06-4cde-a169-ca1b0163d434",
        "colab": {
          "base_uri": "https://localhost:8080/"
        }
      },
      "outputs": [
        {
          "output_type": "stream",
          "name": "stdout",
          "text": [
            "If a grocery store sells ice bags at $ 1.25 per bag, with a profit margin of 20.0 %, \n",
            "then the total profit it makes by selling 500 ice bags is $ 125.0.\n"
          ]
        }
      ],
      "source": [
        "# Inserting values into the string\n",
        "total_profit = cost_of_ice_bag * profit_margin * number_of_bags\n",
        "output_message = output_template.format(cost_of_ice_bag, profit_margin*100, number_of_bags, total_profit)\n",
        "\n",
        "print(output_message)"
      ]
    },
    {
      "cell_type": "markdown",
      "metadata": {
        "id": "RhxGcC3E3oNL"
      },
      "source": [
        "Notice how the placeholders `{}` in the `output_template` string are replaced with the arguments provided to the `.format` method.\n",
        "\n",
        "It is also possible to use the string concatenation operator `+` to combine strings with other values. However, those values must first be converted to strings using the `str` function."
      ]
    },
    {
      "cell_type": "code",
      "execution_count": null,
      "metadata": {
        "id": "gztr8AWx3oNL",
        "outputId": "ae417871-f7af-4fca-c56a-c8bc02bfb600",
        "colab": {
          "base_uri": "https://localhost:8080/",
          "height": 158
        }
      },
      "outputs": [
        {
          "output_type": "error",
          "ename": "TypeError",
          "evalue": "ignored",
          "traceback": [
            "\u001b[0;31m---------------------------------------------------------------------------\u001b[0m",
            "\u001b[0;31mTypeError\u001b[0m                                 Traceback (most recent call last)",
            "\u001b[0;32m<ipython-input-155-78b7958ec7cc>\u001b[0m in \u001b[0;36m<module>\u001b[0;34m\u001b[0m\n\u001b[0;32m----> 1\u001b[0;31m \u001b[0;34m\"If a grocery store sells ice bags at $ \"\u001b[0m \u001b[0;34m+\u001b[0m \u001b[0mcost_of_ice_bag\u001b[0m \u001b[0;34m+\u001b[0m \u001b[0;34m\", with a profit margin of \"\u001b[0m \u001b[0;34m+\u001b[0m \u001b[0mprofit_margin\u001b[0m\u001b[0;34m\u001b[0m\u001b[0;34m\u001b[0m\u001b[0m\n\u001b[0m",
            "\u001b[0;31mTypeError\u001b[0m: can only concatenate str (not \"float\") to str"
          ]
        }
      ],
      "source": [
        "\"If a grocery store sells ice bags at $ \" + cost_of_ice_bag + \", with a profit margin of \" + profit_margin"
      ]
    },
    {
      "cell_type": "code",
      "source": [
        "\"If a grocery store sells ice bags at $ \" .format(cost_of_ice_bag) + \", with a profit margin of \".format(profit_margin)\n"
      ],
      "metadata": {
        "colab": {
          "base_uri": "https://localhost:8080/",
          "height": 34
        },
        "id": "LnHHBAcE8lVY",
        "outputId": "80e89471-7318-4d98-a400-eba1f7929396"
      },
      "execution_count": null,
      "outputs": [
        {
          "output_type": "execute_result",
          "data": {
            "text/plain": [
              "'If a grocery store sells ice bags at $ , with a profit margin of '"
            ],
            "application/vnd.google.colaboratory.intrinsic+json": {
              "type": "string"
            }
          },
          "metadata": {},
          "execution_count": 157
        }
      ]
    },
    {
      "cell_type": "code",
      "execution_count": null,
      "metadata": {
        "id": "WEoO0hN_3oNL",
        "outputId": "d4db9d1c-2d52-42d6-fa4d-0f570483ef68",
        "colab": {
          "base_uri": "https://localhost:8080/",
          "height": 34
        }
      },
      "outputs": [
        {
          "output_type": "execute_result",
          "data": {
            "text/plain": [
              "'If a grocery store sells ice bags at $ 1.25, with a profit margin of 0.2'"
            ],
            "application/vnd.google.colaboratory.intrinsic+json": {
              "type": "string"
            }
          },
          "metadata": {},
          "execution_count": 158
        }
      ],
      "source": [
        "\"If a grocery store sells ice bags at $ \" + str(cost_of_ice_bag) + \", with a profit margin of \" + str(profit_margin)"
      ]
    },
    {
      "cell_type": "markdown",
      "metadata": {
        "id": "wYcWprYM3oNL"
      },
      "source": [
        "You can `str` to convert a value of any data type into a string."
      ]
    },
    {
      "cell_type": "code",
      "execution_count": null,
      "metadata": {
        "id": "59cxecfk3oNL",
        "outputId": "16e3e5ef-379d-4f82-dc20-2d7391577681",
        "colab": {
          "base_uri": "https://localhost:8080/",
          "height": 34
        }
      },
      "outputs": [
        {
          "output_type": "execute_result",
          "data": {
            "text/plain": [
              "'23'"
            ],
            "application/vnd.google.colaboratory.intrinsic+json": {
              "type": "string"
            }
          },
          "metadata": {},
          "execution_count": 159
        }
      ],
      "source": [
        "str(23)"
      ]
    },
    {
      "cell_type": "code",
      "execution_count": null,
      "metadata": {
        "id": "D5gF1FQS3oNL",
        "outputId": "82700db7-6341-47a7-fd8d-df74ddeb100f",
        "colab": {
          "base_uri": "https://localhost:8080/",
          "height": 34
        }
      },
      "outputs": [
        {
          "output_type": "execute_result",
          "data": {
            "text/plain": [
              "'23.432'"
            ],
            "application/vnd.google.colaboratory.intrinsic+json": {
              "type": "string"
            }
          },
          "metadata": {},
          "execution_count": 160
        }
      ],
      "source": [
        "str(23.432)"
      ]
    },
    {
      "cell_type": "code",
      "execution_count": null,
      "metadata": {
        "id": "q22Zq3UU3oNL",
        "outputId": "1516932a-1420-475b-e86d-30e4415b9d28",
        "colab": {
          "base_uri": "https://localhost:8080/",
          "height": 34
        }
      },
      "outputs": [
        {
          "output_type": "execute_result",
          "data": {
            "text/plain": [
              "'True'"
            ],
            "application/vnd.google.colaboratory.intrinsic+json": {
              "type": "string"
            }
          },
          "metadata": {},
          "execution_count": 161
        }
      ],
      "source": [
        "str(True)"
      ]
    },
    {
      "cell_type": "code",
      "execution_count": null,
      "metadata": {
        "id": "Y68fnbjI3oNL",
        "outputId": "91214a6f-4dee-4097-9674-bb8aa2a33e4f",
        "colab": {
          "base_uri": "https://localhost:8080/",
          "height": 34
        }
      },
      "outputs": [
        {
          "output_type": "execute_result",
          "data": {
            "text/plain": [
              "\"['Athos', 'Porthos', 'Aramis']\""
            ],
            "application/vnd.google.colaboratory.intrinsic+json": {
              "type": "string"
            }
          },
          "metadata": {},
          "execution_count": 163
        }
      ],
      "source": [
        "the_3_musketeers = [\"Athos\", \"Porthos\", \"Aramis\"]\n",
        "str(the_3_musketeers)"
      ]
    },
    {
      "cell_type": "markdown",
      "metadata": {
        "id": "10oWn5of3oNM"
      },
      "source": [
        "Note that all string methods return new values and DO NOT change the existing string. You can find a full list of string methods here: https://www.w3schools.com/python/python_ref_string.asp. "
      ]
    },
    {
      "cell_type": "markdown",
      "metadata": {
        "id": "-MW1GOo63oNM"
      },
      "source": [
        "Strings also support the comparison operators `==` and `!=` for checking whether two strings are equal."
      ]
    },
    {
      "cell_type": "code",
      "execution_count": null,
      "metadata": {
        "id": "gAt96BSK3oNM"
      },
      "outputs": [],
      "source": [
        "first_name = \"John\""
      ]
    },
    {
      "cell_type": "code",
      "execution_count": null,
      "metadata": {
        "id": "ojSfDyEw3oNM",
        "outputId": "aed71199-4f2b-425e-e1ec-1f74c1306e7e",
        "colab": {
          "base_uri": "https://localhost:8080/"
        }
      },
      "outputs": [
        {
          "output_type": "execute_result",
          "data": {
            "text/plain": [
              "False"
            ]
          },
          "metadata": {},
          "execution_count": 165
        }
      ],
      "source": [
        "first_name == \"Doe\""
      ]
    },
    {
      "cell_type": "code",
      "execution_count": null,
      "metadata": {
        "id": "L7UvpHrn3oNM",
        "outputId": "11e64c5f-6238-459b-f930-3415e8532815",
        "colab": {
          "base_uri": "https://localhost:8080/"
        }
      },
      "outputs": [
        {
          "output_type": "execute_result",
          "data": {
            "text/plain": [
              "True"
            ]
          },
          "metadata": {},
          "execution_count": 166
        }
      ],
      "source": [
        "first_name == \"John\""
      ]
    },
    {
      "cell_type": "code",
      "execution_count": null,
      "metadata": {
        "id": "i6in1isP3oNM",
        "outputId": "1db670c4-d9de-4022-edef-111703fdba11",
        "colab": {
          "base_uri": "https://localhost:8080/"
        }
      },
      "outputs": [
        {
          "output_type": "execute_result",
          "data": {
            "text/plain": [
              "True"
            ]
          },
          "metadata": {},
          "execution_count": 167
        }
      ],
      "source": [
        "first_name != \"Jane\""
      ]
    },
    {
      "cell_type": "markdown",
      "metadata": {
        "id": "ehWe4ypN3oNM"
      },
      "source": [
        "We've looked at the primitive data types in Python. We're now ready to explore non-primitive data structures, also known as containers.\n",
        "\n",
        "Before continuing, let us run `jovian.commit` once again to record another snapshot of our notebook."
      ]
    },
    {
      "cell_type": "code",
      "execution_count": null,
      "metadata": {
        "id": "Hqj7J3NK3oNM",
        "outputId": "fff05cd5-2173-4fc8-8b71-7b66104ec2c1",
        "colab": {
          "base_uri": "https://localhost:8080/"
        }
      },
      "outputs": [
        {
          "output_type": "stream",
          "name": "stdout",
          "text": [
            "[jovian] Detected Colab notebook...\u001b[0m\n",
            "[jovian] jovian.commit() is no longer required on Google Colab. If you ran this notebook from Jovian, \n",
            "then just save this file in Colab using Ctrl+S/Cmd+S and it will be updated on Jovian. \n",
            "Also, you can also delete this cell, it's no longer necessary.\u001b[0m\n"
          ]
        }
      ],
      "source": [
        "jovian.commit()"
      ]
    },
    {
      "cell_type": "markdown",
      "metadata": {
        "id": "tq-ILZby3oNM"
      },
      "source": [
        "Running `jovian.commit` multiple times within a notebook records new versions automatically. You will continue to have access to all the previous versions of your notebook, using the versions dropdown on the notebook's Jovian."
      ]
    },
    {
      "cell_type": "markdown",
      "metadata": {
        "id": "5x2EzU9F3oNM"
      },
      "source": [
        "### List\n",
        "\n",
        "A list in Python is an ordered collection of values. Lists can hold values of different data types and support operations to add, remove, and change values. Lists have the type `list`.\n",
        "\n",
        "To create a list, enclose a sequence of values within square brackets `[` and `]`, separated by commas."
      ]
    },
    {
      "cell_type": "code",
      "execution_count": 1,
      "metadata": {
        "id": "CcSfT59F3oNM"
      },
      "outputs": [],
      "source": [
        "fruits = ['apple', 'banana', 'cherry']"
      ]
    },
    {
      "cell_type": "code",
      "execution_count": 3,
      "metadata": {
        "id": "Wej0aC0c3oNM",
        "outputId": "c78f4ff6-f77b-4216-e916-c5000f097fb6",
        "colab": {
          "base_uri": "https://localhost:8080/"
        }
      },
      "outputs": [
        {
          "output_type": "execute_result",
          "data": {
            "text/plain": [
              "['apple', 'banana', 'cherry']"
            ]
          },
          "metadata": {},
          "execution_count": 3
        }
      ],
      "source": [
        "fruits"
      ]
    },
    {
      "cell_type": "code",
      "execution_count": 4,
      "metadata": {
        "id": "Vm1uQmVn3oNM",
        "outputId": "9638955c-f5d1-478c-a7a0-ec345e75b8e8",
        "colab": {
          "base_uri": "https://localhost:8080/"
        }
      },
      "outputs": [
        {
          "output_type": "execute_result",
          "data": {
            "text/plain": [
              "list"
            ]
          },
          "metadata": {},
          "execution_count": 4
        }
      ],
      "source": [
        "type(fruits)"
      ]
    },
    {
      "cell_type": "markdown",
      "metadata": {
        "id": "qLHpkatM3oNM"
      },
      "source": [
        "Let's try creating a list containing values of different data types, including another list."
      ]
    },
    {
      "cell_type": "code",
      "execution_count": 5,
      "metadata": {
        "id": "Q1DnAjbv3oNM"
      },
      "outputs": [],
      "source": [
        "a_list = [23, 'hello', None, 3.14, fruits, 3 <= 5]"
      ]
    },
    {
      "cell_type": "code",
      "execution_count": 6,
      "metadata": {
        "id": "tsRaAZ4T3oNM",
        "outputId": "c6a8b832-f11f-4425-91a6-ddea53454aa2",
        "colab": {
          "base_uri": "https://localhost:8080/"
        }
      },
      "outputs": [
        {
          "output_type": "execute_result",
          "data": {
            "text/plain": [
              "[23, 'hello', None, 3.14, ['apple', 'banana', 'cherry'], True]"
            ]
          },
          "metadata": {},
          "execution_count": 6
        }
      ],
      "source": [
        "a_list"
      ]
    },
    {
      "cell_type": "code",
      "execution_count": 11,
      "metadata": {
        "id": "dgBZACAA3oNN"
      },
      "outputs": [],
      "source": [
        "empty_list = []"
      ]
    },
    {
      "cell_type": "code",
      "execution_count": 12,
      "metadata": {
        "id": "4RuyD3gf3oNN",
        "outputId": "1234aa62-b0e8-4bc0-cabb-a4654d7cbfb1",
        "colab": {
          "base_uri": "https://localhost:8080/"
        }
      },
      "outputs": [
        {
          "output_type": "execute_result",
          "data": {
            "text/plain": [
              "[]"
            ]
          },
          "metadata": {},
          "execution_count": 12
        }
      ],
      "source": [
        "empty_list"
      ]
    },
    {
      "cell_type": "markdown",
      "metadata": {
        "id": "YpdUuyWg3oNN"
      },
      "source": [
        "To determine the number of values in a list, use the `len` function. You can use `len`  to determine the number of values in several other data types."
      ]
    },
    {
      "cell_type": "code",
      "execution_count": 13,
      "metadata": {
        "id": "RRgHtc4B3oNN",
        "outputId": "8007e5bf-3dc4-4093-85d3-5255324bdfd8",
        "colab": {
          "base_uri": "https://localhost:8080/"
        }
      },
      "outputs": [
        {
          "output_type": "execute_result",
          "data": {
            "text/plain": [
              "3"
            ]
          },
          "metadata": {},
          "execution_count": 13
        }
      ],
      "source": [
        "len(fruits)"
      ]
    },
    {
      "cell_type": "code",
      "execution_count": 14,
      "metadata": {
        "id": "UYYeqjcf3oNN",
        "outputId": "6ff716d3-2401-4edb-be5e-f2268079d97c",
        "colab": {
          "base_uri": "https://localhost:8080/"
        }
      },
      "outputs": [
        {
          "output_type": "stream",
          "name": "stdout",
          "text": [
            "Number of fruits: 3\n"
          ]
        }
      ],
      "source": [
        "print(\"Number of fruits:\", len(fruits))"
      ]
    },
    {
      "cell_type": "code",
      "execution_count": 15,
      "metadata": {
        "id": "mJWKrNjV3oNN",
        "outputId": "23b193b7-032d-4b6f-dfb8-9d6d2ee8756f",
        "colab": {
          "base_uri": "https://localhost:8080/"
        }
      },
      "outputs": [
        {
          "output_type": "execute_result",
          "data": {
            "text/plain": [
              "6"
            ]
          },
          "metadata": {},
          "execution_count": 15
        }
      ],
      "source": [
        "len(a_list)"
      ]
    },
    {
      "cell_type": "code",
      "execution_count": 16,
      "metadata": {
        "id": "CR3CGAIK3oNN",
        "outputId": "d2722357-a538-4bfd-deb5-ed17c024e537",
        "colab": {
          "base_uri": "https://localhost:8080/"
        }
      },
      "outputs": [
        {
          "output_type": "execute_result",
          "data": {
            "text/plain": [
              "0"
            ]
          },
          "metadata": {},
          "execution_count": 16
        }
      ],
      "source": [
        "len(empty_list)"
      ]
    },
    {
      "cell_type": "markdown",
      "metadata": {
        "id": "1uOMccfX3oNN"
      },
      "source": [
        "You can access an element from the list using its *index*, e.g., `fruits[2]` returns the element at index 2 within the list `fruits`. The starting index of a list is 0."
      ]
    },
    {
      "cell_type": "code",
      "execution_count": 17,
      "metadata": {
        "id": "nYlZBz1X3oNN",
        "outputId": "9c7ade31-1102-49d0-d85a-bbd9678c5290",
        "colab": {
          "base_uri": "https://localhost:8080/",
          "height": 36
        }
      },
      "outputs": [
        {
          "output_type": "execute_result",
          "data": {
            "text/plain": [
              "'apple'"
            ],
            "application/vnd.google.colaboratory.intrinsic+json": {
              "type": "string"
            }
          },
          "metadata": {},
          "execution_count": 17
        }
      ],
      "source": [
        "fruits[0]"
      ]
    },
    {
      "cell_type": "code",
      "execution_count": 18,
      "metadata": {
        "id": "S5fErQr53oNN",
        "outputId": "ca5e9576-7604-4509-ae43-f4f2b5e2fa80",
        "colab": {
          "base_uri": "https://localhost:8080/",
          "height": 36
        }
      },
      "outputs": [
        {
          "output_type": "execute_result",
          "data": {
            "text/plain": [
              "'banana'"
            ],
            "application/vnd.google.colaboratory.intrinsic+json": {
              "type": "string"
            }
          },
          "metadata": {},
          "execution_count": 18
        }
      ],
      "source": [
        "fruits[1]"
      ]
    },
    {
      "cell_type": "code",
      "execution_count": 19,
      "metadata": {
        "id": "U5ZIjuIF3oNN",
        "outputId": "21cc491b-4213-4f39-96ed-ef0fa5e1d577",
        "colab": {
          "base_uri": "https://localhost:8080/",
          "height": 36
        }
      },
      "outputs": [
        {
          "output_type": "execute_result",
          "data": {
            "text/plain": [
              "'cherry'"
            ],
            "application/vnd.google.colaboratory.intrinsic+json": {
              "type": "string"
            }
          },
          "metadata": {},
          "execution_count": 19
        }
      ],
      "source": [
        "fruits[2]"
      ]
    },
    {
      "cell_type": "code",
      "source": [
        "len(fruits)"
      ],
      "metadata": {
        "colab": {
          "base_uri": "https://localhost:8080/"
        },
        "id": "SattUGMM_R96",
        "outputId": "ed8852d2-92e9-462c-d0f5-1c2ab614b9ce"
      },
      "execution_count": 22,
      "outputs": [
        {
          "output_type": "execute_result",
          "data": {
            "text/plain": [
              "3"
            ]
          },
          "metadata": {},
          "execution_count": 22
        }
      ]
    },
    {
      "cell_type": "markdown",
      "metadata": {
        "id": "o0UJqkj43oNN"
      },
      "source": [
        "If you try to access an index equal to or higher than the length of the list, Python returns an `IndexError`."
      ]
    },
    {
      "cell_type": "code",
      "execution_count": 23,
      "metadata": {
        "id": "6JJKOE-S3oNN",
        "outputId": "3a5e8ec9-82e5-4731-f45e-a09b752eaa6b",
        "colab": {
          "base_uri": "https://localhost:8080/",
          "height": 170
        }
      },
      "outputs": [
        {
          "output_type": "error",
          "ename": "IndexError",
          "evalue": "ignored",
          "traceback": [
            "\u001b[0;31m---------------------------------------------------------------------------\u001b[0m",
            "\u001b[0;31mIndexError\u001b[0m                                Traceback (most recent call last)",
            "\u001b[0;32m<ipython-input-23-7ceeafd384d7>\u001b[0m in \u001b[0;36m<module>\u001b[0;34m\u001b[0m\n\u001b[0;32m----> 1\u001b[0;31m \u001b[0mfruits\u001b[0m\u001b[0;34m[\u001b[0m\u001b[0;36m3\u001b[0m\u001b[0;34m]\u001b[0m\u001b[0;34m\u001b[0m\u001b[0;34m\u001b[0m\u001b[0m\n\u001b[0m",
            "\u001b[0;31mIndexError\u001b[0m: list index out of range"
          ]
        }
      ],
      "source": [
        "fruits[3]"
      ]
    },
    {
      "cell_type": "code",
      "execution_count": 24,
      "metadata": {
        "id": "PFBdLSx43oNN",
        "outputId": "2d9e0bed-a46a-49df-e573-c2c11b49dbb2",
        "colab": {
          "base_uri": "https://localhost:8080/",
          "height": 170
        }
      },
      "outputs": [
        {
          "output_type": "error",
          "ename": "IndexError",
          "evalue": "ignored",
          "traceback": [
            "\u001b[0;31m---------------------------------------------------------------------------\u001b[0m",
            "\u001b[0;31mIndexError\u001b[0m                                Traceback (most recent call last)",
            "\u001b[0;32m<ipython-input-24-b8c91da6ba3a>\u001b[0m in \u001b[0;36m<module>\u001b[0;34m\u001b[0m\n\u001b[0;32m----> 1\u001b[0;31m \u001b[0mfruits\u001b[0m\u001b[0;34m[\u001b[0m\u001b[0;36m4\u001b[0m\u001b[0;34m]\u001b[0m\u001b[0;34m\u001b[0m\u001b[0;34m\u001b[0m\u001b[0m\n\u001b[0m",
            "\u001b[0;31mIndexError\u001b[0m: list index out of range"
          ]
        }
      ],
      "source": [
        "fruits[4]"
      ]
    },
    {
      "cell_type": "markdown",
      "metadata": {
        "id": "hYVeATM23oNN"
      },
      "source": [
        "You can use negative indices to access elements from the end of a list, e.g., `fruits[-1]` returns the last element, `fruits[-2]` returns the second last element, and so on."
      ]
    },
    {
      "cell_type": "code",
      "execution_count": 25,
      "metadata": {
        "id": "VlsPUUhb3oNN",
        "outputId": "ae023770-a976-485d-a128-e4d800bb699b",
        "colab": {
          "base_uri": "https://localhost:8080/",
          "height": 36
        }
      },
      "outputs": [
        {
          "output_type": "execute_result",
          "data": {
            "text/plain": [
              "'cherry'"
            ],
            "application/vnd.google.colaboratory.intrinsic+json": {
              "type": "string"
            }
          },
          "metadata": {},
          "execution_count": 25
        }
      ],
      "source": [
        "fruits[-1]"
      ]
    },
    {
      "cell_type": "code",
      "execution_count": 26,
      "metadata": {
        "id": "Z4rSebka3oNN",
        "outputId": "fb725dbd-d2fe-49d1-8cd3-94272f7782b5",
        "colab": {
          "base_uri": "https://localhost:8080/",
          "height": 36
        }
      },
      "outputs": [
        {
          "output_type": "execute_result",
          "data": {
            "text/plain": [
              "'banana'"
            ],
            "application/vnd.google.colaboratory.intrinsic+json": {
              "type": "string"
            }
          },
          "metadata": {},
          "execution_count": 26
        }
      ],
      "source": [
        "fruits[-2]"
      ]
    },
    {
      "cell_type": "code",
      "execution_count": 27,
      "metadata": {
        "id": "vwI73RVx3oNN",
        "outputId": "5b33b2f6-d241-4d3a-b3a7-8b618f5425b0",
        "colab": {
          "base_uri": "https://localhost:8080/",
          "height": 36
        }
      },
      "outputs": [
        {
          "output_type": "execute_result",
          "data": {
            "text/plain": [
              "'apple'"
            ],
            "application/vnd.google.colaboratory.intrinsic+json": {
              "type": "string"
            }
          },
          "metadata": {},
          "execution_count": 27
        }
      ],
      "source": [
        "fruits[-3]"
      ]
    },
    {
      "cell_type": "code",
      "execution_count": 28,
      "metadata": {
        "id": "fNK71dOJ3oNN",
        "outputId": "adab7ed9-594b-4df5-94c4-a4ba6df49be7",
        "colab": {
          "base_uri": "https://localhost:8080/",
          "height": 170
        }
      },
      "outputs": [
        {
          "output_type": "error",
          "ename": "IndexError",
          "evalue": "ignored",
          "traceback": [
            "\u001b[0;31m---------------------------------------------------------------------------\u001b[0m",
            "\u001b[0;31mIndexError\u001b[0m                                Traceback (most recent call last)",
            "\u001b[0;32m<ipython-input-28-1cb2d66442ee>\u001b[0m in \u001b[0;36m<module>\u001b[0;34m\u001b[0m\n\u001b[0;32m----> 1\u001b[0;31m \u001b[0mfruits\u001b[0m\u001b[0;34m[\u001b[0m\u001b[0;34m-\u001b[0m\u001b[0;36m4\u001b[0m\u001b[0;34m]\u001b[0m\u001b[0;34m\u001b[0m\u001b[0;34m\u001b[0m\u001b[0m\n\u001b[0m",
            "\u001b[0;31mIndexError\u001b[0m: list index out of range"
          ]
        }
      ],
      "source": [
        "fruits[-4]"
      ]
    },
    {
      "cell_type": "markdown",
      "metadata": {
        "id": "jZ8Oxm703oNO"
      },
      "source": [
        "You can also access a range of values from the list. The result is itself a list. Let us look at some examples."
      ]
    },
    {
      "cell_type": "code",
      "execution_count": 29,
      "metadata": {
        "id": "e1Hvl4Ax3oNO"
      },
      "outputs": [],
      "source": [
        "a_list = [23, 'hello', None, 3.14, fruits, 3 <= 5]"
      ]
    },
    {
      "cell_type": "code",
      "execution_count": 30,
      "metadata": {
        "id": "EfghAH-x3oNO",
        "outputId": "d19a2559-0c49-43d9-b6e4-bb01669128e8",
        "colab": {
          "base_uri": "https://localhost:8080/"
        }
      },
      "outputs": [
        {
          "output_type": "execute_result",
          "data": {
            "text/plain": [
              "[23, 'hello', None, 3.14, ['apple', 'banana', 'cherry'], True]"
            ]
          },
          "metadata": {},
          "execution_count": 30
        }
      ],
      "source": [
        "a_list"
      ]
    },
    {
      "cell_type": "code",
      "execution_count": 31,
      "metadata": {
        "id": "hG0teDbl3oNO",
        "outputId": "e7550d29-f35c-4047-f1ce-016298d31b04",
        "colab": {
          "base_uri": "https://localhost:8080/"
        }
      },
      "outputs": [
        {
          "output_type": "execute_result",
          "data": {
            "text/plain": [
              "6"
            ]
          },
          "metadata": {},
          "execution_count": 31
        }
      ],
      "source": [
        "len(a_list)"
      ]
    },
    {
      "cell_type": "code",
      "execution_count": 32,
      "metadata": {
        "id": "frBNntuN3oNO",
        "outputId": "ccd81376-9964-454d-8ee2-204640e7ed79",
        "colab": {
          "base_uri": "https://localhost:8080/"
        }
      },
      "outputs": [
        {
          "output_type": "execute_result",
          "data": {
            "text/plain": [
              "[None, 3.14, ['apple', 'banana', 'cherry']]"
            ]
          },
          "metadata": {},
          "execution_count": 32
        }
      ],
      "source": [
        "a_list[2:5]"
      ]
    },
    {
      "cell_type": "markdown",
      "metadata": {
        "id": "rZZJkwlL3oNO"
      },
      "source": [
        "Note that the range `2:5` includes the element at the start index `2` but does not include the element at the end index `5`. So, the result has 3 values (index `2`, `3`, and `4`).\n",
        "\n",
        "Here are some experiments you should try out (use the empty cells below):\n",
        "\n",
        "* Try setting one or both indices of the range are larger than the size of the list, e.g., `a_list[2:10]`\n",
        "* Try setting the start index of the range to be larger than the end index, e.g., `a_list[12:10]`\n",
        "* Try leaving out the start or end index of a range, e.g., `a_list[2:]` or `a_list[:5]`\n",
        "* Try using negative indices for the range, e.g., `a_list[-2:-5]` or `a_list[-5:-2]` (can you explain the results?)\n",
        "\n",
        "> The flexible and interactive nature of Jupyter notebooks makes them an excellent tool for learning and experimentation. If you are new to Python, you can resolve most questions as soon as they arise simply by typing the code into a cell and executing it. Let your curiosity run wild, discover what Python is capable of and what it isn't! "
      ]
    },
    {
      "cell_type": "code",
      "execution_count": 32,
      "metadata": {
        "id": "MvdjkWM53oNO"
      },
      "outputs": [],
      "source": []
    },
    {
      "cell_type": "code",
      "execution_count": 32,
      "metadata": {
        "id": "PwRo0VYs3oNO"
      },
      "outputs": [],
      "source": []
    },
    {
      "cell_type": "code",
      "execution_count": 32,
      "metadata": {
        "id": "Oimq0gaN3oNO"
      },
      "outputs": [],
      "source": []
    },
    {
      "cell_type": "code",
      "execution_count": 32,
      "metadata": {
        "id": "SXQmSjcL3oNO"
      },
      "outputs": [],
      "source": []
    },
    {
      "cell_type": "markdown",
      "metadata": {
        "id": "kCFU-lUj3oNO"
      },
      "source": [
        "You can also change the value at a specific index within a list using the assignment operation."
      ]
    },
    {
      "cell_type": "code",
      "execution_count": 33,
      "metadata": {
        "id": "Rpzbd5Tv3oNO",
        "outputId": "703a6567-9239-404b-979a-8ec25eb69520",
        "colab": {
          "base_uri": "https://localhost:8080/"
        }
      },
      "outputs": [
        {
          "output_type": "execute_result",
          "data": {
            "text/plain": [
              "['apple', 'banana', 'cherry']"
            ]
          },
          "metadata": {},
          "execution_count": 33
        }
      ],
      "source": [
        "fruits"
      ]
    },
    {
      "cell_type": "code",
      "execution_count": 34,
      "metadata": {
        "id": "3-G6cLaw3oNO"
      },
      "outputs": [],
      "source": [
        "fruits[1] = 'blueberry'"
      ]
    },
    {
      "cell_type": "code",
      "execution_count": 35,
      "metadata": {
        "id": "tH1u79Sc3oNO",
        "outputId": "e3a9e055-a938-45c0-8199-2eb819559c40",
        "colab": {
          "base_uri": "https://localhost:8080/"
        }
      },
      "outputs": [
        {
          "output_type": "execute_result",
          "data": {
            "text/plain": [
              "['apple', 'blueberry', 'cherry']"
            ]
          },
          "metadata": {},
          "execution_count": 35
        }
      ],
      "source": [
        "fruits"
      ]
    },
    {
      "cell_type": "markdown",
      "metadata": {
        "id": "9KH9uitt3oNO"
      },
      "source": [
        "A new value can be added to the end of a list using the `append` method."
      ]
    },
    {
      "cell_type": "code",
      "execution_count": 36,
      "metadata": {
        "id": "Zkh3fhdb3oNO"
      },
      "outputs": [],
      "source": [
        "fruits.append('dates')"
      ]
    },
    {
      "cell_type": "code",
      "execution_count": 37,
      "metadata": {
        "id": "G4-KRFYd3oNO",
        "outputId": "9fde5370-a039-4c8e-84be-d29b1ee958d9",
        "colab": {
          "base_uri": "https://localhost:8080/"
        }
      },
      "outputs": [
        {
          "output_type": "execute_result",
          "data": {
            "text/plain": [
              "['apple', 'blueberry', 'cherry', 'dates']"
            ]
          },
          "metadata": {},
          "execution_count": 37
        }
      ],
      "source": [
        "fruits"
      ]
    },
    {
      "cell_type": "markdown",
      "metadata": {
        "id": "5Lb5rGu63oNO"
      },
      "source": [
        "A new value can also be inserted at a specific index using the `insert` method."
      ]
    },
    {
      "cell_type": "code",
      "execution_count": 38,
      "metadata": {
        "id": "Ch37W6xu3oNP"
      },
      "outputs": [],
      "source": [
        "fruits.insert(1, 'banana')"
      ]
    },
    {
      "cell_type": "code",
      "execution_count": 39,
      "metadata": {
        "id": "HR0D91eK3oNP",
        "outputId": "6085d8e7-4756-42fc-c0a8-933af8ef08e2",
        "colab": {
          "base_uri": "https://localhost:8080/"
        }
      },
      "outputs": [
        {
          "output_type": "execute_result",
          "data": {
            "text/plain": [
              "['apple', 'banana', 'blueberry', 'cherry', 'dates']"
            ]
          },
          "metadata": {},
          "execution_count": 39
        }
      ],
      "source": [
        "fruits"
      ]
    },
    {
      "cell_type": "markdown",
      "metadata": {
        "id": "DPypHOHt3oNP"
      },
      "source": [
        "You can remove a value from a list using the `remove` method."
      ]
    },
    {
      "cell_type": "code",
      "execution_count": 40,
      "metadata": {
        "id": "1P_-cB9y3oNP"
      },
      "outputs": [],
      "source": [
        "fruits.remove('blueberry')"
      ]
    },
    {
      "cell_type": "code",
      "execution_count": 41,
      "metadata": {
        "id": "zyIlN7jg3oNP",
        "outputId": "b699c736-3424-4be1-f22f-d644770e4c02",
        "colab": {
          "base_uri": "https://localhost:8080/"
        }
      },
      "outputs": [
        {
          "output_type": "execute_result",
          "data": {
            "text/plain": [
              "['apple', 'banana', 'cherry', 'dates']"
            ]
          },
          "metadata": {},
          "execution_count": 41
        }
      ],
      "source": [
        "fruits"
      ]
    },
    {
      "cell_type": "markdown",
      "metadata": {
        "id": "fWYc9kUu3oNP"
      },
      "source": [
        "What happens if a list has multiple instances of the value passed to `.remove`? Try it out."
      ]
    },
    {
      "cell_type": "code",
      "execution_count": 42,
      "metadata": {
        "id": "-7yyXOSY3oNP"
      },
      "outputs": [],
      "source": [
        "fruits = ['apple', 'banana', 'apple', 'blueberry', 'cherry', 'dates']"
      ]
    },
    {
      "cell_type": "code",
      "execution_count": 43,
      "metadata": {
        "id": "BCW1uXk43oNP"
      },
      "outputs": [],
      "source": [
        "fruits.remove('apple')"
      ]
    },
    {
      "cell_type": "markdown",
      "metadata": {
        "id": "POBKFWr23oNP"
      },
      "source": [
        "To remove an element from a specific index, use the `pop` method. The method also returns the removed element."
      ]
    },
    {
      "cell_type": "code",
      "execution_count": 44,
      "metadata": {
        "id": "K24LoDD83oNP",
        "outputId": "707cc8cc-89e4-4a0a-ed73-3d25bb9d8b26",
        "colab": {
          "base_uri": "https://localhost:8080/"
        }
      },
      "outputs": [
        {
          "output_type": "execute_result",
          "data": {
            "text/plain": [
              "['banana', 'apple', 'blueberry', 'cherry', 'dates']"
            ]
          },
          "metadata": {},
          "execution_count": 44
        }
      ],
      "source": [
        "fruits"
      ]
    },
    {
      "cell_type": "code",
      "execution_count": 51,
      "metadata": {
        "id": "8A7_mRUl3oNP"
      },
      "outputs": [],
      "source": [
        "fruits.pop(1)\n",
        "fruits.extend(fruits.pop(1))"
      ]
    },
    {
      "cell_type": "code",
      "execution_count": 52,
      "metadata": {
        "id": "tKC8Oh2d3oNP",
        "outputId": "789c54aa-352e-4201-82b0-05847c737ffd",
        "colab": {
          "base_uri": "https://localhost:8080/"
        }
      },
      "outputs": [
        {
          "output_type": "execute_result",
          "data": {
            "text/plain": [
              "['banana',\n",
              " 'cherry',\n",
              " 'dates',\n",
              " 'banana',\n",
              " 'dates',\n",
              " 'banana',\n",
              " 'cherry',\n",
              " 'dates',\n",
              " 'b',\n",
              " 'a',\n",
              " 'n',\n",
              " 'a',\n",
              " 'n',\n",
              " 'a']"
            ]
          },
          "metadata": {},
          "execution_count": 52
        }
      ],
      "source": [
        "fruits"
      ]
    },
    {
      "cell_type": "markdown",
      "metadata": {
        "id": "_IIAn3Hu3oNQ"
      },
      "source": [
        "If no index is provided, the `pop` method removes the last element of the list."
      ]
    },
    {
      "cell_type": "code",
      "execution_count": 53,
      "metadata": {
        "id": "s1Ql7sVs3oNQ",
        "outputId": "8d54dd06-ffba-4991-94c2-9ad28352df85",
        "colab": {
          "base_uri": "https://localhost:8080/",
          "height": 36
        }
      },
      "outputs": [
        {
          "output_type": "execute_result",
          "data": {
            "text/plain": [
              "'a'"
            ],
            "application/vnd.google.colaboratory.intrinsic+json": {
              "type": "string"
            }
          },
          "metadata": {},
          "execution_count": 53
        }
      ],
      "source": [
        "fruits.pop()"
      ]
    },
    {
      "cell_type": "code",
      "execution_count": 54,
      "metadata": {
        "id": "Kk3oWdYn3oNQ",
        "outputId": "08d7fbb8-ef68-4571-9f22-00100493dcaf",
        "colab": {
          "base_uri": "https://localhost:8080/"
        }
      },
      "outputs": [
        {
          "output_type": "execute_result",
          "data": {
            "text/plain": [
              "['banana',\n",
              " 'cherry',\n",
              " 'dates',\n",
              " 'banana',\n",
              " 'dates',\n",
              " 'banana',\n",
              " 'cherry',\n",
              " 'dates',\n",
              " 'b',\n",
              " 'a',\n",
              " 'n',\n",
              " 'a',\n",
              " 'n']"
            ]
          },
          "metadata": {},
          "execution_count": 54
        }
      ],
      "source": [
        "fruits"
      ]
    },
    {
      "cell_type": "markdown",
      "metadata": {
        "id": "4DJAQ68l3oNQ"
      },
      "source": [
        "You can test whether a list contains a value using the `in` operator."
      ]
    },
    {
      "cell_type": "code",
      "execution_count": 55,
      "metadata": {
        "id": "YuPJZmxv3oNQ",
        "outputId": "a65f8ebd-540e-4cbf-cf6c-38eed328c030",
        "colab": {
          "base_uri": "https://localhost:8080/"
        }
      },
      "outputs": [
        {
          "output_type": "execute_result",
          "data": {
            "text/plain": [
              "False"
            ]
          },
          "metadata": {},
          "execution_count": 55
        }
      ],
      "source": [
        "'pineapple' in fruits"
      ]
    },
    {
      "cell_type": "code",
      "execution_count": 56,
      "metadata": {
        "id": "VEJ9dwoC3oNQ",
        "outputId": "6f09f842-b75f-4c8e-fe61-bd8f695d6f47",
        "colab": {
          "base_uri": "https://localhost:8080/"
        }
      },
      "outputs": [
        {
          "output_type": "execute_result",
          "data": {
            "text/plain": [
              "True"
            ]
          },
          "metadata": {},
          "execution_count": 56
        }
      ],
      "source": [
        "'cherry' in fruits"
      ]
    },
    {
      "cell_type": "markdown",
      "metadata": {
        "id": "zF5vKpzE3oNQ"
      },
      "source": [
        "To combine two or more lists, use the `+` operator. This operation is also called *concatenation*."
      ]
    },
    {
      "cell_type": "code",
      "execution_count": 57,
      "metadata": {
        "id": "ynGkWYgD3oNQ",
        "outputId": "0d2bc868-e35c-4532-cfd9-61f39b42f52f",
        "colab": {
          "base_uri": "https://localhost:8080/"
        }
      },
      "outputs": [
        {
          "output_type": "execute_result",
          "data": {
            "text/plain": [
              "['banana',\n",
              " 'cherry',\n",
              " 'dates',\n",
              " 'banana',\n",
              " 'dates',\n",
              " 'banana',\n",
              " 'cherry',\n",
              " 'dates',\n",
              " 'b',\n",
              " 'a',\n",
              " 'n',\n",
              " 'a',\n",
              " 'n']"
            ]
          },
          "metadata": {},
          "execution_count": 57
        }
      ],
      "source": [
        "fruits"
      ]
    },
    {
      "cell_type": "code",
      "execution_count": 58,
      "metadata": {
        "id": "Nwfx_j0U3oNQ"
      },
      "outputs": [],
      "source": [
        "more_fruits = fruits + ['pineapple', 'tomato', 'guava'] + ['dates', 'banana']"
      ]
    },
    {
      "cell_type": "code",
      "execution_count": 59,
      "metadata": {
        "id": "7SOojXlq3oNQ",
        "outputId": "7f18b54f-11eb-4e85-9575-b8178c791d6c",
        "colab": {
          "base_uri": "https://localhost:8080/"
        }
      },
      "outputs": [
        {
          "output_type": "execute_result",
          "data": {
            "text/plain": [
              "['banana',\n",
              " 'cherry',\n",
              " 'dates',\n",
              " 'banana',\n",
              " 'dates',\n",
              " 'banana',\n",
              " 'cherry',\n",
              " 'dates',\n",
              " 'b',\n",
              " 'a',\n",
              " 'n',\n",
              " 'a',\n",
              " 'n',\n",
              " 'pineapple',\n",
              " 'tomato',\n",
              " 'guava',\n",
              " 'dates',\n",
              " 'banana']"
            ]
          },
          "metadata": {},
          "execution_count": 59
        }
      ],
      "source": [
        "more_fruits"
      ]
    },
    {
      "cell_type": "markdown",
      "metadata": {
        "id": "MZKWv8mN3oNQ"
      },
      "source": [
        "To create a copy of a list, use the `copy` method. Modifying the copied list does not affect the original."
      ]
    },
    {
      "cell_type": "code",
      "execution_count": 60,
      "metadata": {
        "id": "eoQ23gMw3oNQ"
      },
      "outputs": [],
      "source": [
        "more_fruits_copy = more_fruits.copy()"
      ]
    },
    {
      "cell_type": "code",
      "execution_count": 61,
      "metadata": {
        "id": "pdpfP9aY3oNQ",
        "outputId": "876bba6c-eff1-4b27-ed2b-9f070dbde107",
        "colab": {
          "base_uri": "https://localhost:8080/"
        }
      },
      "outputs": [
        {
          "output_type": "execute_result",
          "data": {
            "text/plain": [
              "['banana',\n",
              " 'cherry',\n",
              " 'dates',\n",
              " 'banana',\n",
              " 'dates',\n",
              " 'banana',\n",
              " 'cherry',\n",
              " 'dates',\n",
              " 'b',\n",
              " 'a',\n",
              " 'n',\n",
              " 'a',\n",
              " 'n',\n",
              " 'pineapple',\n",
              " 'tomato',\n",
              " 'guava',\n",
              " 'dates',\n",
              " 'banana']"
            ]
          },
          "metadata": {},
          "execution_count": 61
        }
      ],
      "source": [
        "more_fruits_copy"
      ]
    },
    {
      "cell_type": "code",
      "execution_count": 62,
      "metadata": {
        "id": "XOjLle783oNQ",
        "outputId": "499285b1-db35-40e1-fe64-b34c37b79b74",
        "colab": {
          "base_uri": "https://localhost:8080/"
        }
      },
      "outputs": [
        {
          "output_type": "execute_result",
          "data": {
            "text/plain": [
              "['banana',\n",
              " 'cherry',\n",
              " 'dates',\n",
              " 'banana',\n",
              " 'dates',\n",
              " 'banana',\n",
              " 'cherry',\n",
              " 'dates',\n",
              " 'b',\n",
              " 'a',\n",
              " 'n',\n",
              " 'a',\n",
              " 'n',\n",
              " 'tomato',\n",
              " 'guava',\n",
              " 'dates']"
            ]
          },
          "metadata": {},
          "execution_count": 62
        }
      ],
      "source": [
        "# Modify the copy\n",
        "more_fruits_copy.remove('pineapple')\n",
        "more_fruits_copy.pop()\n",
        "more_fruits_copy"
      ]
    },
    {
      "cell_type": "code",
      "execution_count": 63,
      "metadata": {
        "id": "zfpJ7qUN3oNR",
        "outputId": "d1b7d7dd-b317-421e-a8f7-335ca6a81477",
        "colab": {
          "base_uri": "https://localhost:8080/"
        }
      },
      "outputs": [
        {
          "output_type": "execute_result",
          "data": {
            "text/plain": [
              "['banana',\n",
              " 'cherry',\n",
              " 'dates',\n",
              " 'banana',\n",
              " 'dates',\n",
              " 'banana',\n",
              " 'cherry',\n",
              " 'dates',\n",
              " 'b',\n",
              " 'a',\n",
              " 'n',\n",
              " 'a',\n",
              " 'n',\n",
              " 'pineapple',\n",
              " 'tomato',\n",
              " 'guava',\n",
              " 'dates',\n",
              " 'banana']"
            ]
          },
          "metadata": {},
          "execution_count": 63
        }
      ],
      "source": [
        "# Original list remains unchanged\n",
        "more_fruits"
      ]
    },
    {
      "cell_type": "markdown",
      "metadata": {
        "id": "kMOgp2Zy3oNR"
      },
      "source": [
        "Note that you cannot create a copy of a list by simply creating a new variable using the assignment operator `=`. The new variable will point to the same list, and any modifications performed using either variable will affect the other."
      ]
    },
    {
      "cell_type": "code",
      "execution_count": 64,
      "metadata": {
        "id": "lckB_BgP3oNR",
        "outputId": "56ed8991-e179-474c-b6d9-5fd333512a6d",
        "colab": {
          "base_uri": "https://localhost:8080/"
        }
      },
      "outputs": [
        {
          "output_type": "execute_result",
          "data": {
            "text/plain": [
              "['banana',\n",
              " 'cherry',\n",
              " 'dates',\n",
              " 'banana',\n",
              " 'dates',\n",
              " 'banana',\n",
              " 'cherry',\n",
              " 'dates',\n",
              " 'b',\n",
              " 'a',\n",
              " 'n',\n",
              " 'a',\n",
              " 'n',\n",
              " 'pineapple',\n",
              " 'tomato',\n",
              " 'guava',\n",
              " 'dates',\n",
              " 'banana']"
            ]
          },
          "metadata": {},
          "execution_count": 64
        }
      ],
      "source": [
        "more_fruits"
      ]
    },
    {
      "cell_type": "code",
      "execution_count": 66,
      "metadata": {
        "id": "_UUzodlF3oNR"
      },
      "outputs": [],
      "source": [
        "more_fruits_not_a_copy = more_fruits"
      ]
    },
    {
      "cell_type": "code",
      "execution_count": 67,
      "metadata": {
        "id": "dpkegIVL3oNR",
        "outputId": "f6de0241-11c1-47b7-9986-3183571e420e",
        "colab": {
          "base_uri": "https://localhost:8080/",
          "height": 36
        }
      },
      "outputs": [
        {
          "output_type": "execute_result",
          "data": {
            "text/plain": [
              "'banana'"
            ],
            "application/vnd.google.colaboratory.intrinsic+json": {
              "type": "string"
            }
          },
          "metadata": {},
          "execution_count": 67
        }
      ],
      "source": [
        "more_fruits_not_a_copy.remove('pineapple')\n",
        "more_fruits_not_a_copy.pop()"
      ]
    },
    {
      "cell_type": "code",
      "execution_count": 68,
      "metadata": {
        "id": "E9b6G9Y73oNR",
        "outputId": "ce9c89ee-8a7d-4393-cf3c-4359427224c7",
        "colab": {
          "base_uri": "https://localhost:8080/"
        }
      },
      "outputs": [
        {
          "output_type": "execute_result",
          "data": {
            "text/plain": [
              "['banana',\n",
              " 'cherry',\n",
              " 'dates',\n",
              " 'banana',\n",
              " 'dates',\n",
              " 'banana',\n",
              " 'cherry',\n",
              " 'dates',\n",
              " 'b',\n",
              " 'a',\n",
              " 'n',\n",
              " 'a',\n",
              " 'n',\n",
              " 'tomato',\n",
              " 'guava',\n",
              " 'dates']"
            ]
          },
          "metadata": {},
          "execution_count": 68
        }
      ],
      "source": [
        "more_fruits_not_a_copy"
      ]
    },
    {
      "cell_type": "code",
      "execution_count": 69,
      "metadata": {
        "id": "gHjxd-zu3oNR",
        "outputId": "97c669fc-b8fe-4bad-a0e6-aeb36c5112b7",
        "colab": {
          "base_uri": "https://localhost:8080/"
        }
      },
      "outputs": [
        {
          "output_type": "execute_result",
          "data": {
            "text/plain": [
              "['banana',\n",
              " 'cherry',\n",
              " 'dates',\n",
              " 'banana',\n",
              " 'dates',\n",
              " 'banana',\n",
              " 'cherry',\n",
              " 'dates',\n",
              " 'b',\n",
              " 'a',\n",
              " 'n',\n",
              " 'a',\n",
              " 'n',\n",
              " 'tomato',\n",
              " 'guava',\n",
              " 'dates']"
            ]
          },
          "metadata": {},
          "execution_count": 69
        }
      ],
      "source": [
        "more_fruits"
      ]
    },
    {
      "cell_type": "markdown",
      "metadata": {
        "id": "ahEQqo063oNR"
      },
      "source": [
        "Just like strings, there are several in-built methods to manipulate a list. However, unlike strings, most list methods modify the original list rather than returning a new one. Check out some common list operations here: https://www.w3schools.com/python/python_ref_list.asp .\n",
        "\n",
        "\n",
        "Following are some exercises you can try out with list methods (use the blank code cells below):\n",
        "\n",
        "* Reverse the order of elements in a list\n",
        "* Add the elements of one list at the end of another list\n",
        "* Sort a list of strings in alphabetical order\n",
        "* Sort a list of numbers in decreasing order"
      ]
    },
    {
      "cell_type": "code",
      "execution_count": null,
      "metadata": {
        "id": "F7g-zPjt3oNR"
      },
      "outputs": [],
      "source": []
    },
    {
      "cell_type": "code",
      "execution_count": null,
      "metadata": {
        "id": "jw0z1CqX3oNR"
      },
      "outputs": [],
      "source": []
    },
    {
      "cell_type": "code",
      "execution_count": null,
      "metadata": {
        "id": "-1cFmzbo3oNR"
      },
      "outputs": [],
      "source": []
    },
    {
      "cell_type": "code",
      "execution_count": null,
      "metadata": {
        "id": "ceW3n76o3oNR"
      },
      "outputs": [],
      "source": []
    },
    {
      "cell_type": "markdown",
      "metadata": {
        "id": "1SWjb5uN3oNR"
      },
      "source": [
        "### Tuple\n",
        "\n",
        "A tuple is an ordered collection of values, similar to a list. However, it is not possible to add, remove, or modify values in a tuple. A tuple is created by enclosing values within parentheses `(` and `)`, separated by commas.\n",
        "\n",
        "> Any data structure that cannot be modified after creation is called *immutable*. You can think of tuples as immutable lists.\n",
        "\n",
        "Let's try some experiments with tuples."
      ]
    },
    {
      "cell_type": "code",
      "execution_count": null,
      "metadata": {
        "id": "iqE0rxQv3oNR"
      },
      "outputs": [],
      "source": [
        "fruits = ('apple', 'cherry', 'dates')"
      ]
    },
    {
      "cell_type": "code",
      "execution_count": 74,
      "metadata": {
        "id": "shBznWdR3oNR",
        "outputId": "b223f39b-7107-4aef-f510-fdf729acb0a1",
        "colab": {
          "base_uri": "https://localhost:8080/"
        }
      },
      "outputs": [
        {
          "output_type": "execute_result",
          "data": {
            "text/plain": [
              "13"
            ]
          },
          "metadata": {},
          "execution_count": 74
        }
      ],
      "source": [
        "# check no. of elements\n",
        "len(fruits)"
      ]
    },
    {
      "cell_type": "code",
      "execution_count": 75,
      "metadata": {
        "id": "LzplfdEQ3oNR",
        "outputId": "aa978ee2-1ddf-4717-f5e0-eb424fae11cc",
        "colab": {
          "base_uri": "https://localhost:8080/",
          "height": 36
        }
      },
      "outputs": [
        {
          "output_type": "execute_result",
          "data": {
            "text/plain": [
              "'banana'"
            ],
            "application/vnd.google.colaboratory.intrinsic+json": {
              "type": "string"
            }
          },
          "metadata": {},
          "execution_count": 75
        }
      ],
      "source": [
        "# get an element (positive index)\n",
        "fruits[0]"
      ]
    },
    {
      "cell_type": "code",
      "execution_count": 80,
      "metadata": {
        "id": "Gf8EMdu_3oNR",
        "outputId": "1a7abcc6-533e-45c5-9150-b90657de3e90",
        "colab": {
          "base_uri": "https://localhost:8080/",
          "height": 36
        }
      },
      "outputs": [
        {
          "output_type": "execute_result",
          "data": {
            "text/plain": [
              "'a'"
            ],
            "application/vnd.google.colaboratory.intrinsic+json": {
              "type": "string"
            }
          },
          "metadata": {},
          "execution_count": 80
        }
      ],
      "source": [
        "# get an element (negative index)\n",
        "fruits[-2]"
      ]
    },
    {
      "cell_type": "code",
      "execution_count": 81,
      "metadata": {
        "id": "Gg-cSw-o3oNR",
        "outputId": "14b2c73f-eb01-4f9b-9fef-30fee0b1bdf2",
        "colab": {
          "base_uri": "https://localhost:8080/"
        }
      },
      "outputs": [
        {
          "output_type": "execute_result",
          "data": {
            "text/plain": [
              "True"
            ]
          },
          "metadata": {},
          "execution_count": 81
        }
      ],
      "source": [
        "# check if it contains an element\n",
        "'dates' in fruits"
      ]
    },
    {
      "cell_type": "code",
      "execution_count": 82,
      "metadata": {
        "id": "26UpPV6V3oNR"
      },
      "outputs": [],
      "source": [
        "# try to change an element\n",
        "fruits[0] = 'avocado'"
      ]
    },
    {
      "cell_type": "code",
      "execution_count": 84,
      "metadata": {
        "id": "YCIhxFPW3oNS"
      },
      "outputs": [],
      "source": [
        "# try to append an element\n",
        "fruits.append('blueberry')"
      ]
    },
    {
      "cell_type": "code",
      "execution_count": 86,
      "metadata": {
        "id": "EMprPxn13oNS"
      },
      "outputs": [],
      "source": [
        "# try to remove an element\n",
        "fruits.remove('blueberry')"
      ]
    },
    {
      "cell_type": "code",
      "source": [
        "fruits"
      ],
      "metadata": {
        "colab": {
          "base_uri": "https://localhost:8080/"
        },
        "id": "VRjDVd3ZCnqm",
        "outputId": "6c6a1553-f7c5-4e79-ebf5-6ec4810f400e"
      },
      "execution_count": 87,
      "outputs": [
        {
          "output_type": "execute_result",
          "data": {
            "text/plain": [
              "['avocado',\n",
              " 'cherry',\n",
              " 'dates',\n",
              " 'banana',\n",
              " 'dates',\n",
              " 'banana',\n",
              " 'cherry',\n",
              " 'dates',\n",
              " 'b',\n",
              " 'a',\n",
              " 'n',\n",
              " 'a',\n",
              " 'n',\n",
              " 'blueberry']"
            ]
          },
          "metadata": {},
          "execution_count": 87
        }
      ]
    },
    {
      "cell_type": "markdown",
      "metadata": {
        "id": "cNn08aUU3oNS"
      },
      "source": [
        "You can also skip the parantheses `(` and `)` while creating a tuple. Python automatically converts comma-separated values into a tuple."
      ]
    },
    {
      "cell_type": "code",
      "execution_count": 89,
      "metadata": {
        "id": "PNURGrnV3oNS"
      },
      "outputs": [],
      "source": [
        "the_3_musketeers = 'Athos', 'Porthos', 'Aramis'"
      ]
    },
    {
      "cell_type": "code",
      "execution_count": 90,
      "metadata": {
        "id": "NEyRWOnO3oNS",
        "outputId": "98fd51c4-9478-4f8f-ba5c-1da765df015a",
        "colab": {
          "base_uri": "https://localhost:8080/"
        }
      },
      "outputs": [
        {
          "output_type": "execute_result",
          "data": {
            "text/plain": [
              "('Athos', 'Porthos', 'Aramis')"
            ]
          },
          "metadata": {},
          "execution_count": 90
        }
      ],
      "source": [
        "the_3_musketeers"
      ]
    },
    {
      "cell_type": "markdown",
      "metadata": {
        "id": "Aa0puO-D3oNS"
      },
      "source": [
        "You can also create a tuple with just one element by typing a comma after it. Just wrapping it with parentheses `(` and `)` won't make it a tuple."
      ]
    },
    {
      "cell_type": "code",
      "execution_count": 91,
      "metadata": {
        "id": "ZcLvUuNv3oNS"
      },
      "outputs": [],
      "source": [
        "single_element_tuple = 4,"
      ]
    },
    {
      "cell_type": "code",
      "execution_count": 92,
      "metadata": {
        "id": "j7vMvkNo3oNS",
        "outputId": "0c4af041-d0f8-4abf-8abe-f002c1bc337b",
        "colab": {
          "base_uri": "https://localhost:8080/"
        }
      },
      "outputs": [
        {
          "output_type": "execute_result",
          "data": {
            "text/plain": [
              "(4,)"
            ]
          },
          "metadata": {},
          "execution_count": 92
        }
      ],
      "source": [
        "single_element_tuple"
      ]
    },
    {
      "cell_type": "code",
      "execution_count": 93,
      "metadata": {
        "id": "Vr5jRjZa3oNS"
      },
      "outputs": [],
      "source": [
        "another_single_element_tuple = (4,)"
      ]
    },
    {
      "cell_type": "code",
      "execution_count": 94,
      "metadata": {
        "id": "oE9AX-V13oNS",
        "outputId": "fcf7e78c-f5ec-4498-d466-2a2b296ae560",
        "colab": {
          "base_uri": "https://localhost:8080/"
        }
      },
      "outputs": [
        {
          "output_type": "execute_result",
          "data": {
            "text/plain": [
              "(4,)"
            ]
          },
          "metadata": {},
          "execution_count": 94
        }
      ],
      "source": [
        "another_single_element_tuple"
      ]
    },
    {
      "cell_type": "code",
      "execution_count": 95,
      "metadata": {
        "id": "XKuYV1UL3oNS"
      },
      "outputs": [],
      "source": [
        "not_a_tuple = (4)"
      ]
    },
    {
      "cell_type": "code",
      "execution_count": 96,
      "metadata": {
        "id": "UwCQADjy3oNS",
        "outputId": "9517b483-241b-48d4-9eec-815de24376d3",
        "colab": {
          "base_uri": "https://localhost:8080/"
        }
      },
      "outputs": [
        {
          "output_type": "execute_result",
          "data": {
            "text/plain": [
              "4"
            ]
          },
          "metadata": {},
          "execution_count": 96
        }
      ],
      "source": [
        "not_a_tuple"
      ]
    },
    {
      "cell_type": "markdown",
      "metadata": {
        "id": "SM7g1OfP3oNS"
      },
      "source": [
        "Tuples are often used to create multiple variables with a single statement."
      ]
    },
    {
      "cell_type": "code",
      "execution_count": 97,
      "metadata": {
        "id": "YGJzKuNV3oNS"
      },
      "outputs": [],
      "source": [
        "point = (3, 4)"
      ]
    },
    {
      "cell_type": "code",
      "execution_count": 98,
      "metadata": {
        "id": "eaqkWaGi3oNS"
      },
      "outputs": [],
      "source": [
        "point_x, point_y = point"
      ]
    },
    {
      "cell_type": "code",
      "execution_count": 99,
      "metadata": {
        "id": "zepkAcWm3oNS",
        "outputId": "60ecb8e1-97c3-4fa7-c649-941ae041f3de",
        "colab": {
          "base_uri": "https://localhost:8080/"
        }
      },
      "outputs": [
        {
          "output_type": "execute_result",
          "data": {
            "text/plain": [
              "3"
            ]
          },
          "metadata": {},
          "execution_count": 99
        }
      ],
      "source": [
        "point_x"
      ]
    },
    {
      "cell_type": "code",
      "execution_count": 100,
      "metadata": {
        "id": "jmGUShu73oNS",
        "outputId": "54d28320-dca7-4d3b-aa08-e886653aa7b8",
        "colab": {
          "base_uri": "https://localhost:8080/"
        }
      },
      "outputs": [
        {
          "output_type": "execute_result",
          "data": {
            "text/plain": [
              "4"
            ]
          },
          "metadata": {},
          "execution_count": 100
        }
      ],
      "source": [
        "point_y"
      ]
    },
    {
      "cell_type": "markdown",
      "metadata": {
        "id": "StVLNhk93oNT"
      },
      "source": [
        "You can convert a list into a tuple using the `tuple` function, and vice versa using the `list` function"
      ]
    },
    {
      "cell_type": "code",
      "execution_count": 103,
      "metadata": {
        "id": "Dv96fOoX3oNT",
        "outputId": "ea8f23b4-2c3e-485e-ea60-058eaf9f9b73",
        "colab": {
          "base_uri": "https://localhost:8080/"
        }
      },
      "outputs": [
        {
          "output_type": "execute_result",
          "data": {
            "text/plain": [
              "('one', 'two', 'three')"
            ]
          },
          "metadata": {},
          "execution_count": 103
        }
      ],
      "source": [
        "tuple(['one', 'two', 'three'])"
      ]
    },
    {
      "cell_type": "code",
      "execution_count": 105,
      "metadata": {
        "id": "KVk9SAZ23oNT",
        "outputId": "ffcedf22-e8aa-4843-b6f6-c26926643ae0",
        "colab": {
          "base_uri": "https://localhost:8080/"
        }
      },
      "outputs": [
        {
          "output_type": "execute_result",
          "data": {
            "text/plain": [
              "['Athos', 'Porthos', 'Aramis']"
            ]
          },
          "metadata": {},
          "execution_count": 105
        }
      ],
      "source": [
        "list(('Athos', 'Porthos', 'Aramis'))"
      ]
    },
    {
      "cell_type": "markdown",
      "metadata": {
        "id": "mIS5M_UG3oNT"
      },
      "source": [
        "Tuples have just two built-in methods: `count` and `index`. Can you figure out what they do? While you look could look for documentation and examples online, there's an easier way to check a method's documentation, using the `help` function."
      ]
    },
    {
      "cell_type": "code",
      "execution_count": 106,
      "metadata": {
        "id": "Abkj5jae3oNT"
      },
      "outputs": [],
      "source": [
        "a_tuple = 23, \"hello\", False, None, 23, 37, \"hello\""
      ]
    },
    {
      "cell_type": "code",
      "execution_count": 107,
      "metadata": {
        "id": "PlcW0KvS3oNT",
        "outputId": "75ddb37e-4e1a-4351-b4bf-8c3a60aa8c5c",
        "colab": {
          "base_uri": "https://localhost:8080/"
        }
      },
      "outputs": [
        {
          "output_type": "stream",
          "name": "stdout",
          "text": [
            "Help on built-in function count:\n",
            "\n",
            "count(value, /) method of builtins.tuple instance\n",
            "    Return number of occurrences of value.\n",
            "\n"
          ]
        }
      ],
      "source": [
        "help(a_tuple.count)"
      ]
    },
    {
      "cell_type": "markdown",
      "metadata": {
        "id": "z87kN-2i3oNT"
      },
      "source": [
        "Within a Jupyter notebook, you can also start a code cell with `?` and type the name of a function or method. When you execute this cell, you will see the function/method's documentation in a pop-up window."
      ]
    },
    {
      "cell_type": "code",
      "execution_count": 108,
      "metadata": {
        "id": "0jDAXddq3oNT"
      },
      "outputs": [],
      "source": [
        "?a_tuple.index"
      ]
    },
    {
      "cell_type": "markdown",
      "metadata": {
        "id": "cFAnTm5j3oNT"
      },
      "source": [
        "Try using `count` and `index` with `a_tuple` in the code cells below."
      ]
    },
    {
      "cell_type": "code",
      "execution_count": null,
      "metadata": {
        "id": "KTru1r253oNT"
      },
      "outputs": [],
      "source": []
    },
    {
      "cell_type": "code",
      "execution_count": 108,
      "metadata": {
        "id": "lfLAVcwD3oNT"
      },
      "outputs": [],
      "source": []
    },
    {
      "cell_type": "markdown",
      "metadata": {
        "id": "B0kvk7yN3oNT"
      },
      "source": [
        "### Dictionary\n",
        "\n",
        "A dictionary is an unordered collection of items. Each item stored in a dictionary has a key and value. You can use a key to retrieve the corresponding value from the dictionary.  Dictionaries have the type `dict`.\n",
        "\n",
        "Dictionaries are often used to store many pieces of information e.g. details about a person, in a single variable. Dictionaries are created by enclosing key-value pairs within braces or curly brackets `{` and `}`."
      ]
    },
    {
      "cell_type": "code",
      "execution_count": 109,
      "metadata": {
        "id": "QwL0hYoG3oNT"
      },
      "outputs": [],
      "source": [
        "person1 = {\n",
        "    'name': 'John Doe',\n",
        "    'sex': 'Male',\n",
        "    'age': 32,\n",
        "    'married': True\n",
        "}"
      ]
    },
    {
      "cell_type": "code",
      "execution_count": 112,
      "metadata": {
        "id": "NlqIdZVJ3oNT",
        "outputId": "ef9d1ee8-26e8-4e29-f260-8963cee5b9db",
        "colab": {
          "base_uri": "https://localhost:8080/"
        }
      },
      "outputs": [
        {
          "output_type": "execute_result",
          "data": {
            "text/plain": [
              "{'name': 'John Doe', 'sex': 'Male', 'age': 32, 'married': True}"
            ]
          },
          "metadata": {},
          "execution_count": 112
        }
      ],
      "source": [
        "person1"
      ]
    },
    {
      "cell_type": "markdown",
      "metadata": {
        "id": "04LL_bul3oNT"
      },
      "source": [
        "Dictionaries can also be created using the `dict` function."
      ]
    },
    {
      "cell_type": "code",
      "execution_count": 113,
      "metadata": {
        "id": "J9mUrEMl3oNT"
      },
      "outputs": [],
      "source": [
        "person2 = dict(name='Jane Judy', sex='Female', age=28, married=False)"
      ]
    },
    {
      "cell_type": "code",
      "execution_count": null,
      "metadata": {
        "id": "6yzzbcvX3oNT",
        "outputId": "8c01a55c-729f-4e65-b604-ef5ead38b972"
      },
      "outputs": [
        {
          "data": {
            "text/plain": [
              "{'name': 'Jane Judy', 'sex': 'Female', 'age': 28, 'married': False}"
            ]
          },
          "execution_count": 218,
          "metadata": {},
          "output_type": "execute_result"
        }
      ],
      "source": [
        "person2"
      ]
    },
    {
      "cell_type": "code",
      "execution_count": null,
      "metadata": {
        "id": "tv27vHHr3oNT",
        "outputId": "5fd6b0e0-60a5-4a73-8664-678abb36dea2"
      },
      "outputs": [
        {
          "data": {
            "text/plain": [
              "dict"
            ]
          },
          "execution_count": 219,
          "metadata": {},
          "output_type": "execute_result"
        }
      ],
      "source": [
        "type(person1)"
      ]
    },
    {
      "cell_type": "markdown",
      "metadata": {
        "id": "0vKJtANJ3oNT"
      },
      "source": [
        "Keys can be used to access values using square brackets `[` and `]`."
      ]
    },
    {
      "cell_type": "code",
      "execution_count": 114,
      "metadata": {
        "id": "ZXodzWIa3oNT",
        "outputId": "0e1c17cb-8683-4a16-e64b-d014fa7575be",
        "colab": {
          "base_uri": "https://localhost:8080/",
          "height": 36
        }
      },
      "outputs": [
        {
          "output_type": "execute_result",
          "data": {
            "text/plain": [
              "'John Doe'"
            ],
            "application/vnd.google.colaboratory.intrinsic+json": {
              "type": "string"
            }
          },
          "metadata": {},
          "execution_count": 114
        }
      ],
      "source": [
        "person1['name']"
      ]
    },
    {
      "cell_type": "code",
      "execution_count": 115,
      "metadata": {
        "id": "EaGjjcmv3oNT",
        "outputId": "8e495eb8-a027-4c1d-a20f-a81622501678",
        "colab": {
          "base_uri": "https://localhost:8080/"
        }
      },
      "outputs": [
        {
          "output_type": "execute_result",
          "data": {
            "text/plain": [
              "True"
            ]
          },
          "metadata": {},
          "execution_count": 115
        }
      ],
      "source": [
        "person1['married']"
      ]
    },
    {
      "cell_type": "code",
      "execution_count": 116,
      "metadata": {
        "id": "0ccf2uME3oNT",
        "outputId": "5de9a148-9d46-4616-f334-0e40ea3d5bc6",
        "colab": {
          "base_uri": "https://localhost:8080/",
          "height": 36
        }
      },
      "outputs": [
        {
          "output_type": "execute_result",
          "data": {
            "text/plain": [
              "'Jane Judy'"
            ],
            "application/vnd.google.colaboratory.intrinsic+json": {
              "type": "string"
            }
          },
          "metadata": {},
          "execution_count": 116
        }
      ],
      "source": [
        "person2['name']"
      ]
    },
    {
      "cell_type": "markdown",
      "metadata": {
        "id": "X21DUZq_3oNU"
      },
      "source": [
        "If a key isn't present in the dictionary, then a `KeyError` is *thrown*."
      ]
    },
    {
      "cell_type": "code",
      "execution_count": 117,
      "metadata": {
        "id": "PL_Ku8Aa3oNU",
        "outputId": "a6730743-4432-4bd7-e482-282cfcc01005",
        "colab": {
          "base_uri": "https://localhost:8080/",
          "height": 170
        }
      },
      "outputs": [
        {
          "output_type": "error",
          "ename": "KeyError",
          "evalue": "ignored",
          "traceback": [
            "\u001b[0;31m---------------------------------------------------------------------------\u001b[0m",
            "\u001b[0;31mKeyError\u001b[0m                                  Traceback (most recent call last)",
            "\u001b[0;32m<ipython-input-117-f2b8bd2476d4>\u001b[0m in \u001b[0;36m<module>\u001b[0;34m\u001b[0m\n\u001b[0;32m----> 1\u001b[0;31m \u001b[0mperson1\u001b[0m\u001b[0;34m[\u001b[0m\u001b[0;34m'address'\u001b[0m\u001b[0;34m]\u001b[0m\u001b[0;34m\u001b[0m\u001b[0;34m\u001b[0m\u001b[0m\n\u001b[0m",
            "\u001b[0;31mKeyError\u001b[0m: 'address'"
          ]
        }
      ],
      "source": [
        "person1['address']"
      ]
    },
    {
      "cell_type": "markdown",
      "metadata": {
        "id": "CEKowJLb3oNU"
      },
      "source": [
        "You can also use the `get` method to access the value associated with a key."
      ]
    },
    {
      "cell_type": "code",
      "execution_count": 118,
      "metadata": {
        "id": "6qNKNQ5U3oNU",
        "outputId": "c49420f5-5359-4008-d297-d584e770ae60",
        "colab": {
          "base_uri": "https://localhost:8080/",
          "height": 36
        }
      },
      "outputs": [
        {
          "output_type": "execute_result",
          "data": {
            "text/plain": [
              "'Jane Judy'"
            ],
            "application/vnd.google.colaboratory.intrinsic+json": {
              "type": "string"
            }
          },
          "metadata": {},
          "execution_count": 118
        }
      ],
      "source": [
        "person2.get(\"name\")"
      ]
    },
    {
      "cell_type": "markdown",
      "metadata": {
        "id": "cZArToyI3oNU"
      },
      "source": [
        "The `get` method also accepts a default value, returned if the key is not present in the dictionary."
      ]
    },
    {
      "cell_type": "code",
      "execution_count": 121,
      "metadata": {
        "id": "2XpgiqFX3oNU",
        "outputId": "51357c8f-95db-45a6-fcbf-b1b58dd50b2c",
        "colab": {
          "base_uri": "https://localhost:8080/",
          "height": 36
        }
      },
      "outputs": [
        {
          "output_type": "execute_result",
          "data": {
            "text/plain": [
              "'Unknown'"
            ],
            "application/vnd.google.colaboratory.intrinsic+json": {
              "type": "string"
            }
          },
          "metadata": {},
          "execution_count": 121
        }
      ],
      "source": [
        "person2.get(\"address\",\"Unknown\")"
      ]
    },
    {
      "cell_type": "markdown",
      "metadata": {
        "id": "9Uqtw65w3oNU"
      },
      "source": [
        "You can check whether a key is present in a dictionary using the `in` operator."
      ]
    },
    {
      "cell_type": "code",
      "execution_count": 122,
      "metadata": {
        "id": "koyJPYUs3oNU",
        "outputId": "e3014d4d-be65-4987-d9b2-7b3785d3a6f7",
        "colab": {
          "base_uri": "https://localhost:8080/"
        }
      },
      "outputs": [
        {
          "output_type": "execute_result",
          "data": {
            "text/plain": [
              "True"
            ]
          },
          "metadata": {},
          "execution_count": 122
        }
      ],
      "source": [
        "\n",
        "'name' in person1"
      ]
    },
    {
      "cell_type": "code",
      "execution_count": 123,
      "metadata": {
        "id": "VYHtlnec3oNU",
        "outputId": "4fc47a6c-9672-4768-930f-94ed18457c39",
        "colab": {
          "base_uri": "https://localhost:8080/"
        }
      },
      "outputs": [
        {
          "output_type": "execute_result",
          "data": {
            "text/plain": [
              "False"
            ]
          },
          "metadata": {},
          "execution_count": 123
        }
      ],
      "source": [
        "'address' in person1"
      ]
    },
    {
      "cell_type": "markdown",
      "metadata": {
        "id": "6dnM1cj53oNU"
      },
      "source": [
        "You can change the value associated with a key using the assignment operator."
      ]
    },
    {
      "cell_type": "code",
      "execution_count": 124,
      "metadata": {
        "id": "ii3b7Y-b3oNU",
        "outputId": "4cef51aa-66ae-4a2e-a3bc-6e99d2be0357",
        "colab": {
          "base_uri": "https://localhost:8080/"
        }
      },
      "outputs": [
        {
          "output_type": "execute_result",
          "data": {
            "text/plain": [
              "False"
            ]
          },
          "metadata": {},
          "execution_count": 124
        }
      ],
      "source": [
        "person2['married']"
      ]
    },
    {
      "cell_type": "code",
      "execution_count": 125,
      "metadata": {
        "id": "Dreu8z-a3oNU"
      },
      "outputs": [],
      "source": [
        "person2['married'] = True"
      ]
    },
    {
      "cell_type": "code",
      "execution_count": 127,
      "metadata": {
        "id": "mlA_Z1gF3oNU",
        "outputId": "c6269ab3-a5f3-4251-c141-9619a51c8b30",
        "colab": {
          "base_uri": "https://localhost:8080/"
        }
      },
      "outputs": [
        {
          "output_type": "execute_result",
          "data": {
            "text/plain": [
              "{'name': 'Jane Judy', 'sex': 'Female', 'age': 28, 'married': True}"
            ]
          },
          "metadata": {},
          "execution_count": 127
        }
      ],
      "source": [
        "person2['married']\n",
        "person2"
      ]
    },
    {
      "cell_type": "markdown",
      "metadata": {
        "id": "EpPIJy_k3oNU"
      },
      "source": [
        "The assignment operator can also be used to add new key-value pairs to the dictionary."
      ]
    },
    {
      "cell_type": "code",
      "execution_count": 128,
      "metadata": {
        "id": "6uJcgoJA3oNU",
        "outputId": "56216fbb-7356-4100-dcd2-13b0b8a34662",
        "colab": {
          "base_uri": "https://localhost:8080/"
        }
      },
      "outputs": [
        {
          "output_type": "execute_result",
          "data": {
            "text/plain": [
              "{'name': 'John Doe', 'sex': 'Male', 'age': 32, 'married': True}"
            ]
          },
          "metadata": {},
          "execution_count": 128
        }
      ],
      "source": [
        "person1"
      ]
    },
    {
      "cell_type": "code",
      "execution_count": 135,
      "metadata": {
        "id": "5bBW73ko3oNU"
      },
      "outputs": [],
      "source": [
        "person1['address'] = str('1, Penny Lane')"
      ]
    },
    {
      "cell_type": "code",
      "execution_count": 136,
      "metadata": {
        "id": "n_rYCH6U3oNU",
        "outputId": "e252bbf4-8b5a-4a07-b9c0-6b17730a651c",
        "colab": {
          "base_uri": "https://localhost:8080/"
        }
      },
      "outputs": [
        {
          "output_type": "execute_result",
          "data": {
            "text/plain": [
              "{'name': 'John Doe',\n",
              " 'sex': 'Male',\n",
              " 'age': 32,\n",
              " 'married': True,\n",
              " 'address': '1, Penny Lane'}"
            ]
          },
          "metadata": {},
          "execution_count": 136
        }
      ],
      "source": [
        "person1"
      ]
    },
    {
      "cell_type": "markdown",
      "metadata": {
        "id": "5xDoTq833oNU"
      },
      "source": [
        "To remove a key and the associated value from a dictionary, use the `pop` method."
      ]
    },
    {
      "cell_type": "code",
      "execution_count": 137,
      "metadata": {
        "id": "iwrKS-Qo3oNU",
        "outputId": "500375b7-8646-4e97-b75e-a7cb89213397",
        "colab": {
          "base_uri": "https://localhost:8080/",
          "height": 36
        }
      },
      "outputs": [
        {
          "output_type": "execute_result",
          "data": {
            "text/plain": [
              "'1, Penny Lane'"
            ],
            "application/vnd.google.colaboratory.intrinsic+json": {
              "type": "string"
            }
          },
          "metadata": {},
          "execution_count": 137
        }
      ],
      "source": [
        "person1.pop('address')"
      ]
    },
    {
      "cell_type": "code",
      "execution_count": 138,
      "metadata": {
        "id": "r9zg8SFy3oNU",
        "outputId": "9894ab1d-0939-4380-faee-959feeba2a5c",
        "colab": {
          "base_uri": "https://localhost:8080/"
        }
      },
      "outputs": [
        {
          "output_type": "execute_result",
          "data": {
            "text/plain": [
              "{'name': 'John Doe', 'sex': 'Male', 'age': 32, 'married': True}"
            ]
          },
          "metadata": {},
          "execution_count": 138
        }
      ],
      "source": [
        "person1"
      ]
    },
    {
      "cell_type": "markdown",
      "metadata": {
        "id": "DAu9nEAG3oNV"
      },
      "source": [
        "Dictionaries also provide methods to view the list of keys, values, or key-value pairs inside it."
      ]
    },
    {
      "cell_type": "code",
      "execution_count": 139,
      "metadata": {
        "id": "EP4iN56N3oNV",
        "outputId": "d8529df6-610d-49cf-9435-9df09b877e64",
        "colab": {
          "base_uri": "https://localhost:8080/"
        }
      },
      "outputs": [
        {
          "output_type": "execute_result",
          "data": {
            "text/plain": [
              "dict_keys(['name', 'sex', 'age', 'married'])"
            ]
          },
          "metadata": {},
          "execution_count": 139
        }
      ],
      "source": [
        "person1.keys()"
      ]
    },
    {
      "cell_type": "code",
      "execution_count": 140,
      "metadata": {
        "id": "FveLFtVu3oNV",
        "outputId": "4d92a96f-fe79-4297-a006-c5ab08f2164f",
        "colab": {
          "base_uri": "https://localhost:8080/"
        }
      },
      "outputs": [
        {
          "output_type": "execute_result",
          "data": {
            "text/plain": [
              "dict_values(['John Doe', 'Male', 32, True])"
            ]
          },
          "metadata": {},
          "execution_count": 140
        }
      ],
      "source": [
        "person1.values()"
      ]
    },
    {
      "cell_type": "code",
      "execution_count": 141,
      "metadata": {
        "id": "MEz9nReS3oNV",
        "outputId": "ae3d79f3-1998-4722-f1d0-5c8017341604",
        "colab": {
          "base_uri": "https://localhost:8080/"
        }
      },
      "outputs": [
        {
          "output_type": "execute_result",
          "data": {
            "text/plain": [
              "dict_items([('name', 'John Doe'), ('sex', 'Male'), ('age', 32), ('married', True)])"
            ]
          },
          "metadata": {},
          "execution_count": 141
        }
      ],
      "source": [
        "person1.items()"
      ]
    },
    {
      "cell_type": "code",
      "execution_count": 142,
      "metadata": {
        "id": "EazIOe463oNV",
        "outputId": "0dcd0a9b-cc2f-4fb7-b9f3-62b31f1f22a5",
        "colab": {
          "base_uri": "https://localhost:8080/",
          "height": 170
        }
      },
      "outputs": [
        {
          "output_type": "error",
          "ename": "TypeError",
          "evalue": "ignored",
          "traceback": [
            "\u001b[0;31m---------------------------------------------------------------------------\u001b[0m",
            "\u001b[0;31mTypeError\u001b[0m                                 Traceback (most recent call last)",
            "\u001b[0;32m<ipython-input-142-b9fb361f2a9e>\u001b[0m in \u001b[0;36m<module>\u001b[0;34m\u001b[0m\n\u001b[0;32m----> 1\u001b[0;31m \u001b[0mperson1\u001b[0m\u001b[0;34m.\u001b[0m\u001b[0mitems\u001b[0m\u001b[0;34m(\u001b[0m\u001b[0;34m)\u001b[0m\u001b[0;34m[\u001b[0m\u001b[0;36m1\u001b[0m\u001b[0;34m]\u001b[0m\u001b[0;34m\u001b[0m\u001b[0;34m\u001b[0m\u001b[0m\n\u001b[0m",
            "\u001b[0;31mTypeError\u001b[0m: 'dict_items' object is not subscriptable"
          ]
        }
      ],
      "source": [
        "person1.items()[1]"
      ]
    },
    {
      "cell_type": "markdown",
      "metadata": {
        "id": "jjc2Xa2H3oNV"
      },
      "source": [
        "The results of `keys`, `values`, and `items` look like lists. However, they don't support the indexing operator `[]` for retrieving elements. \n",
        "\n",
        "Can you figure out how to access an element at a specific index from these results? Try it below. *Hint: Use the `list` function*"
      ]
    },
    {
      "cell_type": "code",
      "execution_count": 142,
      "metadata": {
        "id": "HLLEXnta3oNV"
      },
      "outputs": [],
      "source": []
    },
    {
      "cell_type": "code",
      "execution_count": 142,
      "metadata": {
        "id": "rcLr-USq3oNV"
      },
      "outputs": [],
      "source": []
    },
    {
      "cell_type": "markdown",
      "metadata": {
        "id": "dVKJNLDC3oNV"
      },
      "source": [
        "Dictionaries provide many other methods. You can learn more about them here: https://www.w3schools.com/python/python_ref_dictionary.asp .\n",
        "\n",
        "Here are some experiments you can try out with dictionaries (use the empty cells below):\n",
        "* What happens if you use the same key multiple times while creating a dictionary?\n",
        "* How can you create a copy of a dictionary (modifying the copy should not change the original)?\n",
        "* Can the value associated with a key itself be a dictionary?\n",
        "* How can you add the key-value pairs from one dictionary into another dictionary? Hint: See the `update` method.\n",
        "* Can the dictionary's keys be something other than a string, e.g., a number, boolean, list, etc.?"
      ]
    },
    {
      "cell_type": "code",
      "execution_count": 142,
      "metadata": {
        "id": "FRdALPXJ3oNV"
      },
      "outputs": [],
      "source": []
    },
    {
      "cell_type": "code",
      "execution_count": 142,
      "metadata": {
        "id": "RvKnjyJS3oNV"
      },
      "outputs": [],
      "source": []
    },
    {
      "cell_type": "code",
      "execution_count": 142,
      "metadata": {
        "id": "7XNqr2nw3oNV"
      },
      "outputs": [],
      "source": []
    },
    {
      "cell_type": "code",
      "execution_count": 142,
      "metadata": {
        "id": "tZd-tHFr3oNV"
      },
      "outputs": [],
      "source": []
    },
    {
      "cell_type": "code",
      "execution_count": 142,
      "metadata": {
        "id": "RYZY-cNk3oNV"
      },
      "outputs": [],
      "source": []
    },
    {
      "cell_type": "markdown",
      "metadata": {
        "id": "_AwQdVBU3oNV"
      },
      "source": [
        "## Further Reading\n",
        "\n",
        "We've now completed our exploration of variables and common data types in Python. Following are some resources to learn more about data types in Python:\n",
        "\n",
        "* Python official documentation: https://docs.python.org/3/tutorial/index.html\n",
        "* Python Tutorial at W3Schools: https://www.w3schools.com/python/\n",
        "* Practical Python Programming: https://dabeaz-course.github.io/practical-python/Notes/Contents.html\n",
        "\n",
        "You are now ready to move on to the next tutorial: [Branching using conditional statements and loops in Python](https://jovian.ml/aakashns/python-branching-and-loops)"
      ]
    },
    {
      "cell_type": "markdown",
      "metadata": {
        "id": "SQCKvkGf3oNV"
      },
      "source": [
        "Let's save a snapshot of our notebook one final time using `jovian.commit`."
      ]
    },
    {
      "cell_type": "code",
      "execution_count": 143,
      "metadata": {
        "id": "4em0GHVv3oNV",
        "outputId": "5bc03381-fcac-4b39-ac75-55a444f62fe3",
        "colab": {
          "base_uri": "https://localhost:8080/",
          "height": 170
        }
      },
      "outputs": [
        {
          "output_type": "error",
          "ename": "NameError",
          "evalue": "ignored",
          "traceback": [
            "\u001b[0;31m---------------------------------------------------------------------------\u001b[0m",
            "\u001b[0;31mNameError\u001b[0m                                 Traceback (most recent call last)",
            "\u001b[0;32m<ipython-input-143-7f2017c1a3df>\u001b[0m in \u001b[0;36m<module>\u001b[0;34m\u001b[0m\n\u001b[0;32m----> 1\u001b[0;31m \u001b[0mjovian\u001b[0m\u001b[0;34m.\u001b[0m\u001b[0mcommit\u001b[0m\u001b[0;34m(\u001b[0m\u001b[0;34m)\u001b[0m\u001b[0;34m\u001b[0m\u001b[0;34m\u001b[0m\u001b[0m\n\u001b[0m",
            "\u001b[0;31mNameError\u001b[0m: name 'jovian' is not defined"
          ]
        }
      ],
      "source": [
        "jovian.commit()"
      ]
    },
    {
      "cell_type": "markdown",
      "metadata": {
        "id": "9oSYIRVU3oNV"
      },
      "source": [
        "## Questions for Revision\n",
        "\n",
        "Try answering the following questions to test your understanding of the topics covered in this notebook:\n",
        "\n",
        "1. What is a variable in Python?\n",
        "2. How do you create a variable?\n",
        "3. How do you check the value within a variable?\n",
        "4. How do you create multiple variables in a single statement?\n",
        "5. How do you create multiple variables with the same value?\n",
        "6. How do you change the value of a variable?\n",
        "7. How do you reassign a variable by modifying the previous value?\n",
        "8. What does the statement `counter += 4` do?\n",
        "9. What are the rules for naming a variable?\n",
        "10. Are variable names case-sensitive? Do `a_variable`, `A_Variable`, and `A_VARIABLE` represent the same variable or different ones?\n",
        "11. What is Syntax? Why is it important?\n",
        "12. What happens if you execute a statement with invalid syntax?\n",
        "13. How do you check the data type of a variable?\n",
        "14. What are the built-in data types in Python?\n",
        "15. What is a primitive data type? \n",
        "16. What are the primitive data types available in Python?\n",
        "17. What is a data structure or container data type?\n",
        "18. What are the container types available in Python?\n",
        "19. What kind of data does the Integer data type represent?\n",
        "20. What are the numerical limits of the integer data type?\n",
        "21. What kind of data does the float data type represent?\n",
        "22. How does Python decide if a given number is a float or an integer?\n",
        "23. How can you create a variable which stores a whole number, e.g., 4 but has the float data type?\n",
        "24. How do you create floats representing very large (e.g., 6.023 x 10^23) or very small numbers (0.000000123)?\n",
        "25. What does the expression `23e-12` represent?\n",
        "26. Can floats be used to store numbers with unlimited precision?\n",
        "27. What are the differences between integers and floats?\n",
        "28. How do you convert an integer to a float?\n",
        "29. How do you convert a float to an integer?\n",
        "30. What is the result obtained when you convert 1.99 to an integer?\n",
        "31. What are the data types of the results of the division operators `/` and `//`?\n",
        "32. What kind of data does the Boolean data type represent?\n",
        "33. Which types of Python operators return booleans as a result?\n",
        "34. What happens if you try to use a boolean in arithmetic operation?\n",
        "35. How can any value in Python be covered to a boolean?\n",
        "36. What are truthy and falsy values?\n",
        "37. What are the values in Python that evaluate to False?\n",
        "38. Give some examples of values that evaluate to True.\n",
        "39. What kind of data does the None data type represent?\n",
        "40. What is the purpose of None?\n",
        "41. What kind of data does the String data type represent?\n",
        "42. What are the different ways of creating strings in Python?\n",
        "43. What is the difference between strings creating using single quotes, i.e. `'` and `'` vs. those created using double quotes, i.e. `\"` and `\"`?\n",
        "44. How do you create multi-line strings in Python?\n",
        "45. What is the newline character, `\\n`?\n",
        "46. What are escaped characters? How are they useful?\n",
        "47. How do you check the length of a string?\n",
        "48. How do you convert a string into a list of characters?\n",
        "49. How do you access a specific character from a string?\n",
        "50. How do you access a range of characters from a string?\n",
        "51. How do you check if a specific character occurs in a string?\n",
        "52. How do you check if a smaller string occurs within a bigger string?\n",
        "53. How do you join two or more strings?\n",
        "54. What are \"methods\" in Python? How are they different from functions?\n",
        "55. What do the `.lower`, `.upper` and `.capitalize` methods on strings do?\n",
        "56. How do you replace a specific part of a string with something else?\n",
        "57. How do you split the string \"Sun,Mon,Tue,Wed,Thu,Fri,Sat\" into a list of days?\n",
        "58. How do you remove whitespace from the beginning and end of a string?\n",
        "59. What is the string `.format` method used for? Can you give an example?\n",
        "60. What are the benefits of using the `.format` method instead of string concatenation?\n",
        "61. How do you convert a value of another type to a string?\n",
        "62. How do you check if two strings have the same value?\n",
        "63. Where can you find the list of all the methods supported by strings?\n",
        "64. What is a list in Python?\n",
        "65. How do you create a list?\n",
        "66. Can a Python list contain values of different data types?\n",
        "67. Can a list contain another list as an element within it?\n",
        "68. Can you create a list without any values?\n",
        "69. How do you check the length of a list in Python?\n",
        "70. How do you retrieve a value from a list?\n",
        "71. What is the smallest and largest index you can use to access elements from a list containing five elements?\n",
        "72. What happens if you try to access an index equal to or larger than the size of a list?\n",
        "73. What happens if you try to access a negative index within a list?\n",
        "74. How do you access a range of elements from a list?\n",
        "75. How many elements does the list returned by the expression `a_list[2:5]` contain?\n",
        "76. What do the ranges `a_list[:2]` and `a_list[2:]` represent?\n",
        "77. How do you change the item stored at a specific index within a list?\n",
        "78. How do you insert a new item at the beginning, middle, or end of a list?\n",
        "79. How do you remove an item from al list?\n",
        "80. How do you remove the item at a given index from a list?\n",
        "81. How do you check if a list contains a value?\n",
        "82. How do you combine two or most lists to create a larger list?\n",
        "83. How do you create a copy of a list?\n",
        "84. Does the expression `a_new_list = a_list` create a copy of the list `a_list`?\n",
        "85. Where can you find the list of all the methods supported by lists?\n",
        "86. What is a Tuple in Python?\n",
        "87. How is a tuple different from a list?\n",
        "88. Can you add or remove elements in a tuple?\n",
        "89. How do you create a tuple with just one element?\n",
        "90. How do you convert a tuple to a list and vice versa?\n",
        "91. What are the `count` and `index` method of a Tuple used for?\n",
        "92. What is a dictionary in Python?\n",
        "93. How do you create a dictionary?\n",
        "94. What are keys and values?\n",
        "95. How do you access the value associated with a specific key in a dictionary?\n",
        "96. What happens if you try to access the value for a key that doesn't exist in a dictionary?\n",
        "97. What is the `.get` method of a dictionary used for?\n",
        "98. How do you change the value associated with a key in a dictionary?\n",
        "99. How do you add or remove a key-value pair in a dictionary?\n",
        "100. How do you access the keys, values, and key-value pairs within a dictionary?\n"
      ]
    },
    {
      "cell_type": "code",
      "source": [],
      "metadata": {
        "id": "dNhDKnbqE1K9"
      },
      "execution_count": 143,
      "outputs": []
    }
  ],
  "metadata": {
    "kernelspec": {
      "display_name": "Python 3",
      "language": "python",
      "name": "python3"
    },
    "language_info": {
      "codemirror_mode": {
        "name": "ipython",
        "version": 3
      },
      "file_extension": ".py",
      "mimetype": "text/x-python",
      "name": "python",
      "nbconvert_exporter": "python",
      "pygments_lexer": "ipython3",
      "version": "3.8.6"
    },
    "colab": {
      "provenance": [],
      "include_colab_link": true
    }
  },
  "nbformat": 4,
  "nbformat_minor": 0
}