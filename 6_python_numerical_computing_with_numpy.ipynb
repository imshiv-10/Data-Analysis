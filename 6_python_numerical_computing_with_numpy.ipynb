{
  "cells": [
    {
      "cell_type": "markdown",
      "metadata": {
        "id": "view-in-github",
        "colab_type": "text"
      },
      "source": [
        "<a href=\"https://colab.research.google.com/github/imshiv-10/Data-Analysis/blob/main/6_python_numerical_computing_with_numpy.ipynb\" target=\"_parent\"><img src=\"https://colab.research.google.com/assets/colab-badge.svg\" alt=\"Open In Colab\"/></a>"
      ]
    },
    {
      "cell_type": "markdown",
      "metadata": {
        "id": "d6flTwlND7OS"
      },
      "source": [
        "# Numerical Computing with Python and Numpy\n",
        "\n",
        "![](https://i.imgur.com/mg8O3kd.png)\n",
        "\n",
        "This tutorial series is a beginner-friendly introduction to programming and data analysis using the Python programming language. These tutorials take a practical and coding-focused approach. The best way to learn the material is to execute the code and experiment with it yourself. "
      ]
    },
    {
      "cell_type": "markdown",
      "metadata": {
        "id": "ZdXP8Px2D7OW"
      },
      "source": [
        "This tutorial covers the following topics:\n",
        "\n",
        "- Working with numerical data in Python\n",
        "- Going from Python lists to Numpy arrays\n",
        "- Multi-dimensional Numpy arrays and their benefits\n",
        "- Array operations, broadcasting, indexing, and slicing\n",
        "- Working with CSV data files using Numpy"
      ]
    },
    {
      "cell_type": "markdown",
      "metadata": {
        "id": "7wBuUTPXD7OX"
      },
      "source": [
        "## Working with numerical data\n",
        "\n",
        "The \"data\" in *Data Analysis* typically refers to numerical data, e.g., stock prices, sales figures, sensor measurements, sports scores, database tables, etc. The [Numpy](https://numpy.org) library provides specialized data structures, functions, and other tools for numerical computing in Python. Let's work through an example to see why & how to use Numpy for working with numerical data.\n",
        "\n",
        "\n",
        "> Suppose we want to use climate data like the temperature, rainfall, and humidity to determine if a region is well suited for growing apples. A simple approach for doing this would be to formulate the relationship between the annual yield of apples (tons per hectare) and the climatic conditions like the average temperature (in degrees Fahrenheit), rainfall (in  millimeters) & average relative humidity (in percentage) as a linear equation.\n",
        ">\n",
        "> `yield_of_apples = w1 * temperature + w2 * rainfall + w3 * humidity`\n",
        "\n",
        "We're expressing the yield of apples as a weighted sum of the temperature, rainfall, and humidity. This equation is an approximation since the actual relationship may not necessarily be linear, and there may be other factors involved. But a simple linear model like this often works well in practice.\n",
        "\n",
        "Based on some statical analysis of historical data, we might come up with reasonable values for the weights `w1`, `w2`, and `w3`. Here's an example set of values:"
      ]
    },
    {
      "cell_type": "code",
      "execution_count": 1,
      "metadata": {
        "id": "8TBWyelqD7OX"
      },
      "outputs": [],
      "source": [
        "w1, w2, w3 = 0.3, 0.2, 0.5"
      ]
    },
    {
      "cell_type": "markdown",
      "metadata": {
        "id": "YAkNkE8ED7OY"
      },
      "source": [
        "Given some climate data for a region, we can now predict the yield of apples. Here's some sample data:\n",
        "\n",
        "<img src=\"https://i.imgur.com/TXPBiqv.png\" style=\"width:360px;\">\n",
        "\n",
        "To begin, we can define some variables to record climate data for a region."
      ]
    },
    {
      "cell_type": "code",
      "execution_count": 2,
      "metadata": {
        "id": "-FsEMiMbD7OZ"
      },
      "outputs": [],
      "source": [
        "kanto_temp = 73\n",
        "kanto_rainfall = 67\n",
        "kanto_humidity = 43"
      ]
    },
    {
      "cell_type": "markdown",
      "metadata": {
        "id": "V_1B4ZrRD7OZ"
      },
      "source": [
        "We can now substitute these variables into the linear equation to predict the yield of apples."
      ]
    },
    {
      "cell_type": "code",
      "execution_count": 3,
      "metadata": {
        "colab": {
          "base_uri": "https://localhost:8080/"
        },
        "id": "HkEKpDfyD7OZ",
        "outputId": "08048536-4b40-42d7-9469-acafd3998d78"
      },
      "outputs": [
        {
          "output_type": "execute_result",
          "data": {
            "text/plain": [
              "56.8"
            ]
          },
          "metadata": {},
          "execution_count": 3
        }
      ],
      "source": [
        "kanto_yield_apples = kanto_temp * w1 + kanto_rainfall * w2 + kanto_humidity * w3\n",
        "kanto_yield_apples"
      ]
    },
    {
      "cell_type": "code",
      "execution_count": 4,
      "metadata": {
        "colab": {
          "base_uri": "https://localhost:8080/"
        },
        "id": "e8NgdtZ8D7Oa",
        "outputId": "11ef06a8-8ff2-4bc4-e6cf-8abe60f5c5f8"
      },
      "outputs": [
        {
          "output_type": "stream",
          "name": "stdout",
          "text": [
            "The expected yield of apples in Kanto region is 56.8 tons per hectare.\n"
          ]
        }
      ],
      "source": [
        "print(\"The expected yield of apples in Kanto region is {} tons per hectare.\".format(kanto_yield_apples))"
      ]
    },
    {
      "cell_type": "markdown",
      "metadata": {
        "id": "R-aoPtDLD7Oa"
      },
      "source": [
        "To make it slightly easier to perform the above computation for multiple regions, we can represent the climate data for each region as a vector, i.e., a list of numbers."
      ]
    },
    {
      "cell_type": "code",
      "execution_count": 6,
      "metadata": {
        "id": "Pfrzpo5MD7Oa"
      },
      "outputs": [],
      "source": [
        "kanto = [73, 67, 43]\n",
        "johto = [91, 88, 64]\n",
        "hoenn = [87, 134, 58]\n",
        "sinnoh = [102, 43, 37]\n",
        "unova = [69, 96, 70]"
      ]
    },
    {
      "cell_type": "markdown",
      "metadata": {
        "id": "7D6XXTK8D7Ob"
      },
      "source": [
        "The three numbers in each vector represent the temperature, rainfall, and humidity data, respectively. \n",
        "\n",
        "We can also represent the set of weights used in the formula as a vector."
      ]
    },
    {
      "cell_type": "code",
      "execution_count": 7,
      "metadata": {
        "id": "wy0v-lT-D7Ob"
      },
      "outputs": [],
      "source": [
        "weights = [w1, w2, w3]"
      ]
    },
    {
      "cell_type": "markdown",
      "metadata": {
        "id": "AoYuyrAlD7Ob"
      },
      "source": [
        "We can now write a function `crop_yield` to calcuate the yield of apples (or any other crop) given the climate data and the respective weights."
      ]
    },
    {
      "cell_type": "code",
      "execution_count": 16,
      "metadata": {
        "id": "rclCmA5eD7Ob"
      },
      "outputs": [],
      "source": [
        "def crop_yield(region, weights):\n",
        "    result = 0\n",
        "    for x, w in zip(region, weights):\n",
        "        result += x * w\n",
        "        print(result, x, w)\n",
        "    return result"
      ]
    },
    {
      "cell_type": "code",
      "execution_count": 17,
      "metadata": {
        "colab": {
          "base_uri": "https://localhost:8080/"
        },
        "id": "AmAMZFGsD7Oc",
        "outputId": "aa2f5288-deec-4ec5-82ae-94aa978871c0"
      },
      "outputs": [
        {
          "output_type": "stream",
          "name": "stdout",
          "text": [
            "21.9 73 0.3\n",
            "35.3 67 0.2\n",
            "56.8 43 0.5\n"
          ]
        },
        {
          "output_type": "execute_result",
          "data": {
            "text/plain": [
              "56.8"
            ]
          },
          "metadata": {},
          "execution_count": 17
        }
      ],
      "source": [
        "crop_yield(kanto, weights)"
      ]
    },
    {
      "cell_type": "code",
      "execution_count": 18,
      "metadata": {
        "colab": {
          "base_uri": "https://localhost:8080/"
        },
        "id": "WHOQpNerD7Oc",
        "outputId": "b82ff464-1b21-4314-ff5e-90adff92ae1f"
      },
      "outputs": [
        {
          "output_type": "stream",
          "name": "stdout",
          "text": [
            "27.3 91 0.3\n",
            "44.900000000000006 88 0.2\n",
            "76.9 64 0.5\n"
          ]
        },
        {
          "output_type": "execute_result",
          "data": {
            "text/plain": [
              "76.9"
            ]
          },
          "metadata": {},
          "execution_count": 18
        }
      ],
      "source": [
        "crop_yield(johto, weights)"
      ]
    },
    {
      "cell_type": "code",
      "execution_count": 19,
      "metadata": {
        "colab": {
          "base_uri": "https://localhost:8080/"
        },
        "id": "unJUL-VGD7Oc",
        "outputId": "c955fe50-1bf9-44c4-93b8-dad6c56998f2"
      },
      "outputs": [
        {
          "output_type": "stream",
          "name": "stdout",
          "text": [
            "20.7 69 0.3\n",
            "39.900000000000006 96 0.2\n",
            "74.9 70 0.5\n"
          ]
        },
        {
          "output_type": "execute_result",
          "data": {
            "text/plain": [
              "74.9"
            ]
          },
          "metadata": {},
          "execution_count": 19
        }
      ],
      "source": [
        "crop_yield(unova, weights)"
      ]
    },
    {
      "cell_type": "markdown",
      "metadata": {
        "id": "2bcOQQnND7Oc"
      },
      "source": [
        "## Going from Python lists to Numpy arrays\n",
        "\n",
        "\n",
        "The calculation performed by the `crop_yield` (element-wise multiplication of two vectors and taking a sum of the results) is also called the *dot product*. Learn more about dot product here: https://www.khanacademy.org/math/linear-algebra/vectors-and-spaces/dot-cross-products/v/vector-dot-product-and-vector-length . \n",
        "\n",
        "The Numpy library provides a built-in function to compute the dot product of two vectors. However, we must first convert the lists into Numpy arrays.\n",
        "\n",
        "Let's install the Numpy library using the `pip` package manager."
      ]
    },
    {
      "cell_type": "code",
      "execution_count": 20,
      "metadata": {
        "colab": {
          "base_uri": "https://localhost:8080/"
        },
        "id": "zv8SCwDTD7Od",
        "outputId": "b7373c84-66e2-4c89-8e73-e77c1b3af543"
      },
      "outputs": [
        {
          "output_type": "stream",
          "name": "stdout",
          "text": [
            "\u001b[2K     \u001b[90m━━━━━━━━━━━━━━━━━━━━━━━━━━━━━━━━━━━━━━━━\u001b[0m \u001b[32m17.3/17.3 MB\u001b[0m \u001b[31m55.3 MB/s\u001b[0m eta \u001b[36m0:00:00\u001b[0m\n",
            "\u001b[?25h\u001b[31mERROR: pip's dependency resolver does not currently take into account all the packages that are installed. This behaviour is the source of the following dependency conflicts.\n",
            "scipy 1.7.3 requires numpy<1.23.0,>=1.16.5, but you have numpy 1.24.2 which is incompatible.\n",
            "numba 0.56.4 requires numpy<1.24,>=1.18, but you have numpy 1.24.2 which is incompatible.\u001b[0m\u001b[31m\n",
            "\u001b[0m"
          ]
        }
      ],
      "source": [
        "!pip install numpy --upgrade --quiet"
      ]
    },
    {
      "cell_type": "markdown",
      "metadata": {
        "id": "okOcpRhuD7Od"
      },
      "source": [
        "Next, let's import the `numpy` module. It's common practice to import numpy with the alias `np`."
      ]
    },
    {
      "cell_type": "code",
      "execution_count": 21,
      "metadata": {
        "id": "KCL9hzVCD7Od"
      },
      "outputs": [],
      "source": [
        "import numpy as np"
      ]
    },
    {
      "cell_type": "markdown",
      "metadata": {
        "id": "ats7ZPHXD7Od"
      },
      "source": [
        "We can now use the `np.array` function to create Numpy arrays."
      ]
    },
    {
      "cell_type": "code",
      "execution_count": 22,
      "metadata": {
        "id": "TEU5lQJOD7Od"
      },
      "outputs": [],
      "source": [
        "kanto = np.array([73, 67, 43])"
      ]
    },
    {
      "cell_type": "code",
      "execution_count": 23,
      "metadata": {
        "colab": {
          "base_uri": "https://localhost:8080/"
        },
        "id": "TUBfDLUfD7Od",
        "outputId": "2449b53f-4123-47af-c854-542eae6d3bd4"
      },
      "outputs": [
        {
          "output_type": "execute_result",
          "data": {
            "text/plain": [
              "array([73, 67, 43])"
            ]
          },
          "metadata": {},
          "execution_count": 23
        }
      ],
      "source": [
        "kanto"
      ]
    },
    {
      "cell_type": "code",
      "execution_count": 24,
      "metadata": {
        "id": "p3jv80-WD7Oe"
      },
      "outputs": [],
      "source": [
        "weights = np.array([w1, w2, w3])"
      ]
    },
    {
      "cell_type": "code",
      "execution_count": 25,
      "metadata": {
        "colab": {
          "base_uri": "https://localhost:8080/"
        },
        "id": "8NOTnq0pD7Oe",
        "outputId": "0c1695b4-d1a9-4df7-9c4f-f1bd0833c9d4"
      },
      "outputs": [
        {
          "output_type": "execute_result",
          "data": {
            "text/plain": [
              "array([0.3, 0.2, 0.5])"
            ]
          },
          "metadata": {},
          "execution_count": 25
        }
      ],
      "source": [
        "weights"
      ]
    },
    {
      "cell_type": "markdown",
      "metadata": {
        "id": "qkY-FmMVD7Oe"
      },
      "source": [
        "Numpy arrays have the type `ndarray`."
      ]
    },
    {
      "cell_type": "code",
      "execution_count": 26,
      "metadata": {
        "colab": {
          "base_uri": "https://localhost:8080/"
        },
        "id": "46tu26nUD7Oe",
        "outputId": "fc933f83-b8fb-433d-d898-e89562ce9fb8"
      },
      "outputs": [
        {
          "output_type": "execute_result",
          "data": {
            "text/plain": [
              "numpy.ndarray"
            ]
          },
          "metadata": {},
          "execution_count": 26
        }
      ],
      "source": [
        "type(kanto)"
      ]
    },
    {
      "cell_type": "code",
      "execution_count": 27,
      "metadata": {
        "colab": {
          "base_uri": "https://localhost:8080/"
        },
        "id": "kiVe6a3vD7Oe",
        "outputId": "d6ef78d3-b192-481e-a797-b3f655151cd6"
      },
      "outputs": [
        {
          "output_type": "execute_result",
          "data": {
            "text/plain": [
              "numpy.ndarray"
            ]
          },
          "metadata": {},
          "execution_count": 27
        }
      ],
      "source": [
        "type(weights)"
      ]
    },
    {
      "cell_type": "markdown",
      "metadata": {
        "id": "IW4MXNe_D7Oe"
      },
      "source": [
        "Just like lists, Numpy arrays support the indexing notation `[]`."
      ]
    },
    {
      "cell_type": "code",
      "execution_count": 28,
      "metadata": {
        "colab": {
          "base_uri": "https://localhost:8080/"
        },
        "id": "Do14KNX2D7Of",
        "outputId": "8c96ff3c-d62d-432f-8f68-eb764b4ae1a7"
      },
      "outputs": [
        {
          "output_type": "execute_result",
          "data": {
            "text/plain": [
              "0.3"
            ]
          },
          "metadata": {},
          "execution_count": 28
        }
      ],
      "source": [
        "weights[0]"
      ]
    },
    {
      "cell_type": "code",
      "execution_count": 29,
      "metadata": {
        "colab": {
          "base_uri": "https://localhost:8080/"
        },
        "id": "xTaas5C0D7Of",
        "outputId": "4ac27691-d371-44eb-abba-cc78f9c98897"
      },
      "outputs": [
        {
          "output_type": "execute_result",
          "data": {
            "text/plain": [
              "43"
            ]
          },
          "metadata": {},
          "execution_count": 29
        }
      ],
      "source": [
        "kanto[2]"
      ]
    },
    {
      "cell_type": "markdown",
      "metadata": {
        "id": "beM2QC8cD7Og"
      },
      "source": [
        "## Operating on Numpy arrays\n",
        "\n",
        "We can now compute the dot product of the two vectors using the `np.dot` function."
      ]
    },
    {
      "cell_type": "code",
      "source": [
        "v = np.array([2, 3, 1])"
      ],
      "metadata": {
        "id": "SwCJxeYdHwbv"
      },
      "execution_count": 34,
      "outputs": []
    },
    {
      "cell_type": "code",
      "source": [
        "w = np.array([1, 5, 2])\n",
        "w.shape"
      ],
      "metadata": {
        "colab": {
          "base_uri": "https://localhost:8080/"
        },
        "id": "JwgenoQyIAKq",
        "outputId": "a61736c4-2659-4f90-f34c-ab12539a4533"
      },
      "execution_count": 38,
      "outputs": [
        {
          "output_type": "execute_result",
          "data": {
            "text/plain": [
              "(3,)"
            ]
          },
          "metadata": {},
          "execution_count": 38
        }
      ]
    },
    {
      "cell_type": "code",
      "source": [
        "np.dot(v,w)"
      ],
      "metadata": {
        "colab": {
          "base_uri": "https://localhost:8080/"
        },
        "id": "odNoHKgpIBHT",
        "outputId": "af18d8ba-b4e1-451e-9170-bde5ae328381"
      },
      "execution_count": 36,
      "outputs": [
        {
          "output_type": "execute_result",
          "data": {
            "text/plain": [
              "19"
            ]
          },
          "metadata": {},
          "execution_count": 36
        }
      ]
    },
    {
      "cell_type": "code",
      "source": [
        "np.dot(np.transpose(w),v)\n"
      ],
      "metadata": {
        "colab": {
          "base_uri": "https://localhost:8080/"
        },
        "id": "aTWet5zzII8T",
        "outputId": "52a57cfc-a884-4352-b437-8a756a07ef2c"
      },
      "execution_count": 42,
      "outputs": [
        {
          "output_type": "execute_result",
          "data": {
            "text/plain": [
              "19"
            ]
          },
          "metadata": {},
          "execution_count": 42
        }
      ]
    },
    {
      "cell_type": "code",
      "execution_count": 40,
      "metadata": {
        "colab": {
          "base_uri": "https://localhost:8080/"
        },
        "id": "xAUItKoHD7Og",
        "outputId": "a766feb9-07aa-42af-8c63-85e502fb5c38"
      },
      "outputs": [
        {
          "output_type": "execute_result",
          "data": {
            "text/plain": [
              "56.8"
            ]
          },
          "metadata": {},
          "execution_count": 40
        }
      ],
      "source": [
        "np.dot(kanto, weights)"
      ]
    },
    {
      "cell_type": "markdown",
      "metadata": {
        "id": "MWepZY9iD7Og"
      },
      "source": [
        "We can achieve the same result with low-level operations supported by Numpy arrays: performing an element-wise multiplication and calculating the resulting numbers' sum."
      ]
    },
    {
      "cell_type": "code",
      "execution_count": 43,
      "metadata": {
        "colab": {
          "base_uri": "https://localhost:8080/"
        },
        "id": "AVLAgIloD7Og",
        "outputId": "3df397ac-75ca-4d69-fbe0-b0793768dee7"
      },
      "outputs": [
        {
          "output_type": "execute_result",
          "data": {
            "text/plain": [
              "56.8"
            ]
          },
          "metadata": {},
          "execution_count": 43
        }
      ],
      "source": [
        "(kanto * weights).sum()"
      ]
    },
    {
      "cell_type": "markdown",
      "metadata": {
        "id": "k3ShLeFZD7Oh"
      },
      "source": [
        "The `*` operator performs an element-wise multiplication of two arrays if they have the same size. The `sum` method calculates the sum of numbers in an array."
      ]
    },
    {
      "cell_type": "code",
      "execution_count": 44,
      "metadata": {
        "id": "kGiVvtFuD7Oh"
      },
      "outputs": [],
      "source": [
        "arr1 = np.array([1, 2, 3])\n",
        "arr2 = np.array([4, 5, 6])"
      ]
    },
    {
      "cell_type": "code",
      "execution_count": 45,
      "metadata": {
        "colab": {
          "base_uri": "https://localhost:8080/"
        },
        "id": "i2s6gZLID7Oh",
        "outputId": "9fb8b731-f608-4d66-d025-14d0659f458f"
      },
      "outputs": [
        {
          "output_type": "execute_result",
          "data": {
            "text/plain": [
              "array([ 4, 10, 18])"
            ]
          },
          "metadata": {},
          "execution_count": 45
        }
      ],
      "source": [
        "arr1 * arr2"
      ]
    },
    {
      "cell_type": "code",
      "execution_count": 46,
      "metadata": {
        "colab": {
          "base_uri": "https://localhost:8080/"
        },
        "id": "WTCRhLo0D7Oh",
        "outputId": "907cad4f-1713-4b5a-bb1f-569957ab9e8b"
      },
      "outputs": [
        {
          "output_type": "execute_result",
          "data": {
            "text/plain": [
              "15"
            ]
          },
          "metadata": {},
          "execution_count": 46
        }
      ],
      "source": [
        "arr2.sum()"
      ]
    },
    {
      "cell_type": "markdown",
      "metadata": {
        "id": "KEyLfRPDD7Oi"
      },
      "source": [
        "## Benefits of using Numpy arrays\n",
        "\n",
        "Numpy arrays offer the following benefits over Python lists for operating on numerical data:\n",
        "\n",
        "- **Ease of use**: You can write small, concise, and intuitive mathematical expressions like `(kanto * weights).sum()` rather than using loops & custom functions like `crop_yield`.\n",
        "- **Performance**: Numpy operations and functions are implemented internally in C++, which makes them much faster than using Python statements & loops that are interpreted at runtime\n",
        "\n",
        "Here's a comparison of dot products performed using Python loops vs. Numpy arrays on two vectors with a million elements each."
      ]
    },
    {
      "cell_type": "code",
      "execution_count": 47,
      "metadata": {
        "id": "9tMbm7SoD7Oi"
      },
      "outputs": [],
      "source": [
        "# Python lists\n",
        "arr1 = list(range(1000000))\n",
        "arr2 = list(range(1000000, 2000000))\n",
        "\n",
        "# Numpy arrays\n",
        "arr1_np = np.array(arr1)\n",
        "arr2_np = np.array(arr2)"
      ]
    },
    {
      "cell_type": "code",
      "execution_count": 48,
      "metadata": {
        "colab": {
          "base_uri": "https://localhost:8080/"
        },
        "id": "cOuhOhAqD7Oi",
        "outputId": "b60b3d0a-166f-417f-cc88-70682f776d59"
      },
      "outputs": [
        {
          "output_type": "stream",
          "name": "stdout",
          "text": [
            "CPU times: user 225 ms, sys: 4.61 ms, total: 230 ms\n",
            "Wall time: 231 ms\n"
          ]
        },
        {
          "output_type": "execute_result",
          "data": {
            "text/plain": [
              "833332333333500000"
            ]
          },
          "metadata": {},
          "execution_count": 48
        }
      ],
      "source": [
        "%%time\n",
        "result = 0\n",
        "for x1, x2 in zip(arr1, arr2):\n",
        "    result += x1*x2\n",
        "result"
      ]
    },
    {
      "cell_type": "code",
      "execution_count": 49,
      "metadata": {
        "colab": {
          "base_uri": "https://localhost:8080/"
        },
        "id": "dCroJ-QjD7Oj",
        "outputId": "bea37913-a0f6-4521-a592-4eda33b6bd55"
      },
      "outputs": [
        {
          "output_type": "stream",
          "name": "stdout",
          "text": [
            "CPU times: user 2.83 ms, sys: 0 ns, total: 2.83 ms\n",
            "Wall time: 5.33 ms\n"
          ]
        },
        {
          "output_type": "execute_result",
          "data": {
            "text/plain": [
              "833332333333500000"
            ]
          },
          "metadata": {},
          "execution_count": 49
        }
      ],
      "source": [
        "%%time\n",
        "np.dot(arr1_np, arr2_np)"
      ]
    },
    {
      "cell_type": "markdown",
      "metadata": {
        "id": "kTXZvlMfD7Oj"
      },
      "source": [
        "As you can see, using `np.dot` is 100 times faster than using a `for` loop. This makes Numpy especially useful while working with really large datasets with tens of thousands or millions of data points.\n",
        "\n",
        "Let's save our work before continuing."
      ]
    },
    {
      "cell_type": "markdown",
      "metadata": {
        "id": "fU9w_8CID7Oj"
      },
      "source": [
        "## Multi-dimensional Numpy arrays \n",
        "\n",
        "We can now go one step further and represent the climate data for all the regions using a single 2-dimensional Numpy array."
      ]
    },
    {
      "cell_type": "code",
      "execution_count": null,
      "metadata": {
        "id": "G3_rHOPDD7Oj"
      },
      "outputs": [],
      "source": [
        "climate_data = np.array([[73, 67, 43],\n",
        "                         [91, 88, 64],\n",
        "                         [87, 134, 58],\n",
        "                         [102, 43, 37],\n",
        "                         [69, 96, 70]])"
      ]
    },
    {
      "cell_type": "code",
      "execution_count": null,
      "metadata": {
        "id": "ATDn-fyED7Oj",
        "outputId": "83ea223a-ef85-4550-ac3b-a9378a00b5d2"
      },
      "outputs": [
        {
          "data": {
            "text/plain": [
              "array([[ 73,  67,  43],\n",
              "       [ 91,  88,  64],\n",
              "       [ 87, 134,  58],\n",
              "       [102,  43,  37],\n",
              "       [ 69,  96,  70]])"
            ]
          },
          "execution_count": 32,
          "metadata": {},
          "output_type": "execute_result"
        }
      ],
      "source": [
        "climate_data"
      ]
    },
    {
      "cell_type": "markdown",
      "metadata": {
        "id": "QVZOJ55mD7Ok"
      },
      "source": [
        "If you've taken a linear algebra class in high school, you may recognize the above 2-d array as a matrix with five rows and three columns. Each row represents one region, and the columns represent temperature, rainfall, and humidity, respectively.\n",
        "\n",
        "Numpy arrays can have any number of dimensions and different lengths along each dimension. We can inspect the length along each dimension using the `.shape` property of an array.\n",
        "\n",
        "<img src=\"https://fgnt.github.io/python_crashkurs_doc/_images/numpy_array_t.png\" width=\"420\">\n",
        "\n"
      ]
    },
    {
      "cell_type": "code",
      "execution_count": null,
      "metadata": {
        "id": "jG7KVnzAD7Ok",
        "outputId": "ab8deceb-702b-4c1d-8086-59366d133901"
      },
      "outputs": [
        {
          "data": {
            "text/plain": [
              "(5, 3)"
            ]
          },
          "execution_count": 33,
          "metadata": {},
          "output_type": "execute_result"
        }
      ],
      "source": [
        "# 2D array (matrix)\n",
        "climate_data.shape"
      ]
    },
    {
      "cell_type": "code",
      "execution_count": null,
      "metadata": {
        "id": "4MgrLbW5D7Ok",
        "outputId": "a9f6cba5-c07e-4d7c-8ab6-e6b0801d3d2f"
      },
      "outputs": [
        {
          "data": {
            "text/plain": [
              "array([0.3, 0.2, 0.5])"
            ]
          },
          "execution_count": 34,
          "metadata": {},
          "output_type": "execute_result"
        }
      ],
      "source": [
        "weights"
      ]
    },
    {
      "cell_type": "code",
      "execution_count": null,
      "metadata": {
        "id": "LsUa5WAYD7Ok",
        "outputId": "49d31ea5-6a4a-457e-bace-056b438dd97e"
      },
      "outputs": [
        {
          "data": {
            "text/plain": [
              "(3,)"
            ]
          },
          "execution_count": 35,
          "metadata": {},
          "output_type": "execute_result"
        }
      ],
      "source": [
        "# 1D array (vector)\n",
        "weights.shape"
      ]
    },
    {
      "cell_type": "code",
      "execution_count": null,
      "metadata": {
        "id": "uFZtLrr-D7Ok"
      },
      "outputs": [],
      "source": [
        "# 3D array \n",
        "arr3 = np.array([\n",
        "    [[11, 12, 13], \n",
        "     [13, 14, 15]], \n",
        "    [[15, 16, 17], \n",
        "     [17, 18, 19.5]]])"
      ]
    },
    {
      "cell_type": "code",
      "execution_count": null,
      "metadata": {
        "id": "wN8fDNswD7Ol",
        "outputId": "bb34e42e-f80a-451f-8965-ab3995fb651a"
      },
      "outputs": [
        {
          "data": {
            "text/plain": [
              "(2, 2, 3)"
            ]
          },
          "execution_count": 37,
          "metadata": {},
          "output_type": "execute_result"
        }
      ],
      "source": [
        "arr3.shape"
      ]
    },
    {
      "cell_type": "markdown",
      "metadata": {
        "id": "ikgFoXPGD7Ol"
      },
      "source": [
        "All the elements in a numpy array have the same data type. You can check the data type of an array using the `.dtype` property."
      ]
    },
    {
      "cell_type": "code",
      "execution_count": null,
      "metadata": {
        "id": "ge2mZI_yD7Ol",
        "outputId": "937121d2-a8da-4123-9743-d1a45ac82c9a"
      },
      "outputs": [
        {
          "data": {
            "text/plain": [
              "dtype('float64')"
            ]
          },
          "execution_count": 38,
          "metadata": {},
          "output_type": "execute_result"
        }
      ],
      "source": [
        "weights.dtype"
      ]
    },
    {
      "cell_type": "code",
      "execution_count": null,
      "metadata": {
        "id": "kPyxmcdyD7Ol",
        "outputId": "fd52e29e-6d25-4026-d597-9921efedab6a"
      },
      "outputs": [
        {
          "data": {
            "text/plain": [
              "dtype('int64')"
            ]
          },
          "execution_count": 39,
          "metadata": {},
          "output_type": "execute_result"
        }
      ],
      "source": [
        "climate_data.dtype"
      ]
    },
    {
      "cell_type": "markdown",
      "metadata": {
        "id": "7OIaKLTrD7Ol"
      },
      "source": [
        "If an array contains even a single floating point number, all the other elements are also converted to floats."
      ]
    },
    {
      "cell_type": "code",
      "execution_count": null,
      "metadata": {
        "id": "RqiTrO-oD7Ol",
        "outputId": "8d856662-eff9-4c7a-95c9-a576166b0ea4"
      },
      "outputs": [
        {
          "data": {
            "text/plain": [
              "dtype('float64')"
            ]
          },
          "execution_count": 40,
          "metadata": {},
          "output_type": "execute_result"
        }
      ],
      "source": [
        "arr3.dtype"
      ]
    },
    {
      "cell_type": "markdown",
      "metadata": {
        "id": "GFwxMoYSD7Ol"
      },
      "source": [
        "We can now compute the predicted yields of apples in all the regions, using a single matrix multiplication between `climate_data` (a 5x3 matrix) and `weights` (a vector of length 3). Here's what it looks like visually:\n",
        "\n",
        "<img src=\"https://i.imgur.com/LJ2WKSI.png\" width=\"240\">\n",
        "\n",
        "You can learn about matrices and matrix multiplication by watching the first 3-4 videos of this playlist: https://www.youtube.com/watch?v=xyAuNHPsq-g&list=PLFD0EB975BA0CC1E0&index=1 .\n",
        "\n",
        "We can use the `np.matmul` function or the `@` operator to perform matrix multiplication."
      ]
    },
    {
      "cell_type": "code",
      "execution_count": null,
      "metadata": {
        "id": "SVLSiJy5D7Ol",
        "outputId": "19a059f5-ecca-41e8-86f8-595aa5c32a32"
      },
      "outputs": [
        {
          "data": {
            "text/plain": [
              "array([56.8, 76.9, 81.9, 57.7, 74.9])"
            ]
          },
          "execution_count": 41,
          "metadata": {},
          "output_type": "execute_result"
        }
      ],
      "source": [
        "np.matmul(climate_data, weights)"
      ]
    },
    {
      "cell_type": "code",
      "execution_count": null,
      "metadata": {
        "id": "KhDNkPOID7Ol",
        "outputId": "59278726-559b-4729-fff2-e3f1ca7e42c8"
      },
      "outputs": [
        {
          "data": {
            "text/plain": [
              "array([56.8, 76.9, 81.9, 57.7, 74.9])"
            ]
          },
          "execution_count": 42,
          "metadata": {},
          "output_type": "execute_result"
        }
      ],
      "source": [
        "climate_data @ weights"
      ]
    },
    {
      "cell_type": "markdown",
      "metadata": {
        "id": "GO_tEI4nD7Ol"
      },
      "source": [
        "## Working with CSV data files\n",
        "\n",
        "Numpy also provides helper functions reading from & writing to files. Let's download a file `climate.txt`, which contains 10,000 climate measurements (temperature, rainfall & humidity) in the following format:\n",
        "\n",
        "\n",
        "```\n",
        "temperature,rainfall,humidity\n",
        "25.00,76.00,99.00\n",
        "39.00,65.00,70.00\n",
        "59.00,45.00,77.00\n",
        "84.00,63.00,38.00\n",
        "66.00,50.00,52.00\n",
        "41.00,94.00,77.00\n",
        "91.00,57.00,96.00\n",
        "49.00,96.00,99.00\n",
        "67.00,20.00,28.00\n",
        "...\n",
        "```\n",
        "\n",
        "This format of storing data is known as *comma-separated values* or CSV. \n",
        "\n",
        "> **CSVs**: A comma-separated values (CSV) file is a delimited text file that uses a comma to separate values. Each line of the file is a data record. Each record consists of one or more fields, separated by commas. A CSV file typically stores tabular data (numbers and text) in plain text, in which case each line will have the same number of fields. (Wikipedia)\n",
        "\n",
        "\n",
        "To read this file into a numpy array, we can use the `genfromtxt` function."
      ]
    },
    {
      "cell_type": "code",
      "execution_count": null,
      "metadata": {
        "id": "LxUOp44wD7Om",
        "outputId": "255b168b-f27e-4697-d93d-76f9a88a765d"
      },
      "outputs": [
        {
          "data": {
            "text/plain": [
              "('climate.txt', <http.client.HTTPMessage at 0x7ffa9c1e2668>)"
            ]
          },
          "execution_count": 43,
          "metadata": {},
          "output_type": "execute_result"
        }
      ],
      "source": [
        "import urllib.request\n",
        "\n",
        "urllib.request.urlretrieve(\n",
        "    'https://gist.github.com/BirajCoder/a4ffcb76fd6fb221d76ac2ee2b8584e9/raw/4054f90adfd361b7aa4255e99c2e874664094cea/climate.csv', \n",
        "    'climate.txt')"
      ]
    },
    {
      "cell_type": "code",
      "execution_count": null,
      "metadata": {
        "id": "J103Xn_LD7Om"
      },
      "outputs": [],
      "source": [
        "climate_data = np.genfromtxt('climate.txt', delimiter=',', skip_header=1)"
      ]
    },
    {
      "cell_type": "code",
      "execution_count": null,
      "metadata": {
        "id": "8MenH2V4D7Om",
        "outputId": "05705b4a-aec0-433c-c53d-31e6c9bafc72"
      },
      "outputs": [
        {
          "data": {
            "text/plain": [
              "array([[25., 76., 99.],\n",
              "       [39., 65., 70.],\n",
              "       [59., 45., 77.],\n",
              "       ...,\n",
              "       [99., 62., 58.],\n",
              "       [70., 71., 91.],\n",
              "       [92., 39., 76.]])"
            ]
          },
          "execution_count": 45,
          "metadata": {},
          "output_type": "execute_result"
        }
      ],
      "source": [
        "climate_data"
      ]
    },
    {
      "cell_type": "code",
      "execution_count": null,
      "metadata": {
        "id": "jDY6ikGoD7Om",
        "outputId": "1be2a915-1b9d-4e90-b5d0-d3e7104a9b23"
      },
      "outputs": [
        {
          "data": {
            "text/plain": [
              "(10000, 3)"
            ]
          },
          "execution_count": 46,
          "metadata": {},
          "output_type": "execute_result"
        }
      ],
      "source": [
        "climate_data.shape"
      ]
    },
    {
      "cell_type": "markdown",
      "metadata": {
        "id": "GuNTGHBJD7Om"
      },
      "source": [
        "We can now perform a matrix multiplication using the `@` operator to predict the yield of apples for the entire dataset using a given set of weights."
      ]
    },
    {
      "cell_type": "code",
      "execution_count": null,
      "metadata": {
        "id": "scSd7YSPD7Om"
      },
      "outputs": [],
      "source": [
        "weights = np.array([0.3, 0.2, 0.5])"
      ]
    },
    {
      "cell_type": "code",
      "execution_count": null,
      "metadata": {
        "id": "b8wJGCnvD7On"
      },
      "outputs": [],
      "source": [
        "yields = climate_data @ weights"
      ]
    },
    {
      "cell_type": "code",
      "execution_count": null,
      "metadata": {
        "id": "4vHakvCmD7On",
        "outputId": "c8a15962-1b2a-41d5-a32c-a53b2bca4fda"
      },
      "outputs": [
        {
          "data": {
            "text/plain": [
              "array([72.2, 59.7, 65.2, ..., 71.1, 80.7, 73.4])"
            ]
          },
          "execution_count": 49,
          "metadata": {},
          "output_type": "execute_result"
        }
      ],
      "source": [
        "yields"
      ]
    },
    {
      "cell_type": "code",
      "execution_count": null,
      "metadata": {
        "id": "wOCF_mdyD7On",
        "outputId": "291e1117-3744-425d-a1f5-41df508ed857"
      },
      "outputs": [
        {
          "data": {
            "text/plain": [
              "(10000,)"
            ]
          },
          "execution_count": 50,
          "metadata": {},
          "output_type": "execute_result"
        }
      ],
      "source": [
        "yields.shape"
      ]
    },
    {
      "cell_type": "markdown",
      "metadata": {
        "id": "ftAdTBfPD7On"
      },
      "source": [
        "Let's add the `yields` to `climate_data` as a fourth column using the [`np.concatenate`](https://numpy.org/doc/stable/reference/generated/numpy.concatenate.html) function."
      ]
    },
    {
      "cell_type": "code",
      "execution_count": null,
      "metadata": {
        "id": "L2UYmAwSD7On"
      },
      "outputs": [],
      "source": [
        "climate_results = np.concatenate((climate_data, yields.reshape(10000, 1)), axis=1)"
      ]
    },
    {
      "cell_type": "code",
      "execution_count": null,
      "metadata": {
        "id": "1a8iYmqED7On",
        "outputId": "1bd9a9d1-db3b-470f-8514-0f5f78877569"
      },
      "outputs": [
        {
          "data": {
            "text/plain": [
              "array([[25. , 76. , 99. , 72.2],\n",
              "       [39. , 65. , 70. , 59.7],\n",
              "       [59. , 45. , 77. , 65.2],\n",
              "       ...,\n",
              "       [99. , 62. , 58. , 71.1],\n",
              "       [70. , 71. , 91. , 80.7],\n",
              "       [92. , 39. , 76. , 73.4]])"
            ]
          },
          "execution_count": 52,
          "metadata": {},
          "output_type": "execute_result"
        }
      ],
      "source": [
        "climate_results"
      ]
    },
    {
      "cell_type": "markdown",
      "metadata": {
        "id": "GXHTSh9lD7On"
      },
      "source": [
        "There are a couple of subtleties here:\n",
        "\n",
        "* Since we wish to add new columns, we pass the argument `axis=1` to `np.concatenate`. The `axis` argument specifies the dimension for concatenation.\n",
        "\n",
        "*  The arrays should have the same number of dimensions, and the same length along each except the dimension used for concatenation. We use the [`np.reshape`](https://numpy.org/doc/stable/reference/generated/numpy.reshape.html) function to change the shape of `yields` from `(10000,)` to `(10000,1)`.\n",
        "\n",
        "Here's a visual explanation of `np.concatenate` along `axis=1` (can you guess what `axis=0` results in?):\n",
        "\n",
        "<img src=\"https://www.w3resource.com/w3r_images/python-numpy-image-exercise-58.png\" width=\"300\">\n",
        "\n",
        "The best way to understand what a Numpy function does is to experiment with it and read the documentation to learn about its arguments & return values. Use the cells below to experiment with `np.concatenate` and `np.reshape`."
      ]
    },
    {
      "cell_type": "code",
      "execution_count": null,
      "metadata": {
        "id": "LiB2mwUPD7On"
      },
      "outputs": [],
      "source": []
    },
    {
      "cell_type": "code",
      "execution_count": null,
      "metadata": {
        "id": "yB1rF2QoD7On"
      },
      "outputs": [],
      "source": []
    },
    {
      "cell_type": "code",
      "execution_count": null,
      "metadata": {
        "id": "DfJOsTR0D7On"
      },
      "outputs": [],
      "source": []
    },
    {
      "cell_type": "markdown",
      "metadata": {
        "id": "-5ZNTpv1D7On"
      },
      "source": [
        "Let's write the final results from our computation above back to a file using the `np.savetxt` function."
      ]
    },
    {
      "cell_type": "code",
      "execution_count": null,
      "metadata": {
        "id": "-b8uKdUPD7On",
        "outputId": "bf76a738-6c5b-4b9d-b4da-2075a1a38883"
      },
      "outputs": [
        {
          "data": {
            "text/plain": [
              "array([[25. , 76. , 99. , 72.2],\n",
              "       [39. , 65. , 70. , 59.7],\n",
              "       [59. , 45. , 77. , 65.2],\n",
              "       ...,\n",
              "       [99. , 62. , 58. , 71.1],\n",
              "       [70. , 71. , 91. , 80.7],\n",
              "       [92. , 39. , 76. , 73.4]])"
            ]
          },
          "execution_count": 53,
          "metadata": {},
          "output_type": "execute_result"
        }
      ],
      "source": [
        "climate_results"
      ]
    },
    {
      "cell_type": "code",
      "execution_count": null,
      "metadata": {
        "id": "xomNXkauD7Oo"
      },
      "outputs": [],
      "source": [
        "np.savetxt('climate_results.txt', \n",
        "           climate_results, \n",
        "           fmt='%.2f', \n",
        "           delimiter=',',\n",
        "           header='temperature,rainfall,humidity,yeild_apples', \n",
        "           comments='')"
      ]
    },
    {
      "cell_type": "markdown",
      "metadata": {
        "id": "Fa7erK6uD7Oo"
      },
      "source": [
        "The results are written back in the CSV format to the file `climate_results.txt`. \n",
        "\n",
        "```\n",
        "temperature,rainfall,humidity,yeild_apples\n",
        "25.00,76.00,99.00,72.20\n",
        "39.00,65.00,70.00,59.70\n",
        "59.00,45.00,77.00,65.20\n",
        "84.00,63.00,38.00,56.80\n",
        "...\n",
        "```\n",
        "\n"
      ]
    },
    {
      "cell_type": "markdown",
      "metadata": {
        "id": "FjICnxcOD7Oo"
      },
      "source": [
        "Numpy provides hundreds of functions for performing operations on arrays. Here are some commonly used functions:\n",
        "\n",
        "\n",
        "* Mathematics: `np.sum`, `np.exp`, `np.round`, arithemtic operators \n",
        "* Array manipulation: `np.reshape`, `np.stack`, `np.concatenate`, `np.split`\n",
        "* Linear Algebra: `np.matmul`, `np.dot`, `np.transpose`, `np.eigvals`\n",
        "* Statistics: `np.mean`, `np.median`, `np.std`, `np.max`\n",
        "\n",
        "> **How to find the function you need?** The easiest way to find the right function for a specific operation or use-case is to do a web search. For instance, searching for \"How to join numpy arrays\" leads to [this tutorial on array concatenation](https://cmdlinetips.com/2018/04/how-to-concatenate-arrays-in-numpy/). \n",
        "\n",
        "You can find a full list of array functions here: https://numpy.org/doc/stable/reference/routines.html"
      ]
    },
    {
      "cell_type": "markdown",
      "metadata": {
        "id": "8B9HePE-D7Oo"
      },
      "source": [
        "### Save and upload your notebook\n",
        "\n",
        "Whether you're running this Jupyter notebook online or on your computer, it's essential to save your work from time to time. You can continue working on a saved notebook later or share it with friends and colleagues to let them execute your code. [Jovian](https://www.jovian.ai) offers an easy way of saving and sharing your Jupyter notebooks online."
      ]
    },
    {
      "cell_type": "code",
      "execution_count": null,
      "metadata": {
        "id": "QIqVRdKTD7Oo"
      },
      "outputs": [],
      "source": [
        "# Install the library\n",
        "!pip install jovian --upgrade --quiet"
      ]
    },
    {
      "cell_type": "code",
      "execution_count": null,
      "metadata": {
        "id": "HVwwrBPAD7Oo"
      },
      "outputs": [],
      "source": [
        "import jovian"
      ]
    },
    {
      "cell_type": "code",
      "execution_count": null,
      "metadata": {
        "id": "ZmhrQKGCD7Oo",
        "outputId": "5c90f707-cf8f-4612-9667-a3bc5b565400"
      },
      "outputs": [
        {
          "data": {
            "application/javascript": [
              "window.require && require([\"base/js/namespace\"],function(Jupyter){Jupyter.notebook.save_checkpoint()})"
            ],
            "text/plain": [
              "<IPython.core.display.Javascript object>"
            ]
          },
          "metadata": {},
          "output_type": "display_data"
        },
        {
          "name": "stdout",
          "output_type": "stream",
          "text": [
            "[jovian] Attempting to save notebook..\u001b[0m\n",
            "[jovian] Updating notebook \"aakashns/python-numerical-computing-with-numpy\" on https://jovian.ai/\u001b[0m\n",
            "[jovian] Uploading notebook..\u001b[0m\n",
            "[jovian] Capturing environment..\u001b[0m\n",
            "[jovian] Committed successfully! https://jovian.ai/aakashns/python-numerical-computing-with-numpy\u001b[0m\n"
          ]
        },
        {
          "data": {
            "text/plain": [
              "'https://jovian.ai/aakashns/python-numerical-computing-with-numpy'"
            ]
          },
          "execution_count": 57,
          "metadata": {},
          "output_type": "execute_result"
        }
      ],
      "source": [
        "jovian.commit()"
      ]
    },
    {
      "cell_type": "markdown",
      "metadata": {
        "id": "DO1ajZ0cD7Oo"
      },
      "source": [
        "The first time you run `jovian.commit`, you'll be asked to provide an API Key to securely upload the notebook to your Jovian account. You can get the API key from your [Jovian profile page](https://jovian.ai) after logging in / signing up.\n",
        "\n",
        "\n",
        "`jovian.commit` uploads the notebook to your Jovian account, captures the Python environment, and creates a shareable link for your notebook, as shown above. You can use this link to share your work and let anyone (including you) run your notebooks and reproduce your work."
      ]
    },
    {
      "cell_type": "markdown",
      "metadata": {
        "id": "-fx5dMx8D7Oo"
      },
      "source": [
        "## Arithmetic operations, broadcasting and comparison\n",
        "\n",
        "Numpy arrays support arithmetic operators like `+`, `-`, `*`, etc. You can perform an arithmetic operation with a single number (also called scalar) or with another array of the same shape. Operators make it easy to write mathematical expressions with multi-dimensional arrays."
      ]
    },
    {
      "cell_type": "code",
      "execution_count": null,
      "metadata": {
        "id": "j9uXB01MD7Oo"
      },
      "outputs": [],
      "source": [
        "arr2 = np.array([[1, 2, 3, 4], \n",
        "                 [5, 6, 7, 8], \n",
        "                 [9, 1, 2, 3]])"
      ]
    },
    {
      "cell_type": "code",
      "execution_count": null,
      "metadata": {
        "id": "SSn-4IAvD7Oo"
      },
      "outputs": [],
      "source": [
        "arr3 = np.array([[11, 12, 13, 14], \n",
        "                 [15, 16, 17, 18], \n",
        "                 [19, 11, 12, 13]])"
      ]
    },
    {
      "cell_type": "code",
      "execution_count": null,
      "metadata": {
        "id": "1EZY5qlJD7Op",
        "outputId": "95de5685-a02b-4a49-88cf-ad7ba479d6aa"
      },
      "outputs": [
        {
          "data": {
            "text/plain": [
              "array([[ 4,  5,  6,  7],\n",
              "       [ 8,  9, 10, 11],\n",
              "       [12,  4,  5,  6]])"
            ]
          },
          "execution_count": 60,
          "metadata": {},
          "output_type": "execute_result"
        }
      ],
      "source": [
        "# Adding a scalar\n",
        "arr2 + 3"
      ]
    },
    {
      "cell_type": "code",
      "execution_count": null,
      "metadata": {
        "id": "hce0tP2CD7Op",
        "outputId": "ddb40914-5084-489e-dc39-804457cd08ba"
      },
      "outputs": [
        {
          "data": {
            "text/plain": [
              "array([[10, 10, 10, 10],\n",
              "       [10, 10, 10, 10],\n",
              "       [10, 10, 10, 10]])"
            ]
          },
          "execution_count": 61,
          "metadata": {},
          "output_type": "execute_result"
        }
      ],
      "source": [
        "# Element-wise subtraction\n",
        "arr3 - arr2"
      ]
    },
    {
      "cell_type": "code",
      "execution_count": null,
      "metadata": {
        "id": "MICD9wpjD7Op",
        "outputId": "20e03812-5281-45a0-90ef-8db13c3b7431"
      },
      "outputs": [
        {
          "data": {
            "text/plain": [
              "array([[0.5, 1. , 1.5, 2. ],\n",
              "       [2.5, 3. , 3.5, 4. ],\n",
              "       [4.5, 0.5, 1. , 1.5]])"
            ]
          },
          "execution_count": 62,
          "metadata": {},
          "output_type": "execute_result"
        }
      ],
      "source": [
        "# Division by scalar\n",
        "arr2 / 2"
      ]
    },
    {
      "cell_type": "code",
      "execution_count": null,
      "metadata": {
        "id": "g2JGhn9LD7Op",
        "outputId": "527f1a12-1d8f-4242-c2bf-f70791862544"
      },
      "outputs": [
        {
          "data": {
            "text/plain": [
              "array([[ 11,  24,  39,  56],\n",
              "       [ 75,  96, 119, 144],\n",
              "       [171,  11,  24,  39]])"
            ]
          },
          "execution_count": 63,
          "metadata": {},
          "output_type": "execute_result"
        }
      ],
      "source": [
        "# Element-wise multiplication\n",
        "arr2 * arr3"
      ]
    },
    {
      "cell_type": "code",
      "execution_count": null,
      "metadata": {
        "id": "JkWlY_BCD7Op",
        "outputId": "0bf60d56-ea33-4292-89b2-5b8227bf0913"
      },
      "outputs": [
        {
          "data": {
            "text/plain": [
              "array([[1, 2, 3, 0],\n",
              "       [1, 2, 3, 0],\n",
              "       [1, 1, 2, 3]])"
            ]
          },
          "execution_count": 64,
          "metadata": {},
          "output_type": "execute_result"
        }
      ],
      "source": [
        "# Modulus with scalar\n",
        "arr2 % 4"
      ]
    },
    {
      "cell_type": "markdown",
      "metadata": {
        "id": "ifj-REa3D7Oq"
      },
      "source": [
        "### Array Broadcasting\n",
        "\n",
        "Numpy arrays also support *broadcasting*, allowing arithmetic operations between two arrays with different numbers of dimensions but compatible shapes. Let's look at an example to see how it works."
      ]
    },
    {
      "cell_type": "code",
      "execution_count": null,
      "metadata": {
        "id": "MfutlTuXD7Oq"
      },
      "outputs": [],
      "source": [
        "arr2 = np.array([[1, 2, 3, 4], \n",
        "                 [5, 6, 7, 8], \n",
        "                 [9, 1, 2, 3]])"
      ]
    },
    {
      "cell_type": "code",
      "execution_count": null,
      "metadata": {
        "id": "W1vzpe1fD7Oq",
        "outputId": "4fa64320-2f98-4396-e101-7e6b6877ec86"
      },
      "outputs": [
        {
          "data": {
            "text/plain": [
              "(3, 4)"
            ]
          },
          "execution_count": 66,
          "metadata": {},
          "output_type": "execute_result"
        }
      ],
      "source": [
        "arr2.shape"
      ]
    },
    {
      "cell_type": "code",
      "execution_count": null,
      "metadata": {
        "id": "xSAgIgFUD7Oq"
      },
      "outputs": [],
      "source": [
        "arr4 = np.array([4, 5, 6, 7])"
      ]
    },
    {
      "cell_type": "code",
      "execution_count": null,
      "metadata": {
        "id": "4EVMP6SCD7Oq",
        "outputId": "87fc0355-362c-4913-94a3-673825f0b3e7"
      },
      "outputs": [
        {
          "data": {
            "text/plain": [
              "(4,)"
            ]
          },
          "execution_count": 68,
          "metadata": {},
          "output_type": "execute_result"
        }
      ],
      "source": [
        "arr4.shape"
      ]
    },
    {
      "cell_type": "code",
      "execution_count": null,
      "metadata": {
        "id": "zvyVSKOjD7Oq",
        "outputId": "882b315f-296a-4ffa-cf93-523e32bb8476"
      },
      "outputs": [
        {
          "data": {
            "text/plain": [
              "array([[ 5,  7,  9, 11],\n",
              "       [ 9, 11, 13, 15],\n",
              "       [13,  6,  8, 10]])"
            ]
          },
          "execution_count": 69,
          "metadata": {},
          "output_type": "execute_result"
        }
      ],
      "source": [
        "arr2 + arr4"
      ]
    },
    {
      "cell_type": "markdown",
      "metadata": {
        "id": "osthQeQiD7Oq"
      },
      "source": [
        "When the expression `arr2 + arr4` is evaluated, `arr4` (which has the shape `(4,)`) is replicated three times to match the shape `(3, 4)` of `arr2`. Numpy performs the replication without actually creating three copies of the smaller dimension array, thus improving performance and using lower memory.\n",
        "\n",
        "<img src=\"https://jakevdp.github.io/PythonDataScienceHandbook/figures/02.05-broadcasting.png\" width=\"360\">\n",
        "\n",
        "Broadcasting only works if one of the arrays can be replicated to match the other array's shape."
      ]
    },
    {
      "cell_type": "code",
      "execution_count": null,
      "metadata": {
        "id": "gxW6SoqVD7Oq"
      },
      "outputs": [],
      "source": [
        "arr5 = np.array([7, 8])"
      ]
    },
    {
      "cell_type": "code",
      "execution_count": null,
      "metadata": {
        "id": "7e-yYm3CD7Oq",
        "outputId": "a7e0f65e-d91b-4b55-e794-6cad74f636cc"
      },
      "outputs": [
        {
          "data": {
            "text/plain": [
              "(2,)"
            ]
          },
          "execution_count": 71,
          "metadata": {},
          "output_type": "execute_result"
        }
      ],
      "source": [
        "arr5.shape"
      ]
    },
    {
      "cell_type": "code",
      "execution_count": null,
      "metadata": {
        "id": "M9_-SFHwD7Oq",
        "outputId": "30720bb1-ff70-441b-b961-ceda9a192f84"
      },
      "outputs": [
        {
          "ename": "ValueError",
          "evalue": "operands could not be broadcast together with shapes (3,4) (2,) ",
          "output_type": "error",
          "traceback": [
            "\u001b[0;31m---------------------------------------------------------------------------\u001b[0m",
            "\u001b[0;31mValueError\u001b[0m                                Traceback (most recent call last)",
            "\u001b[0;32m<ipython-input-72-c22e92053c39>\u001b[0m in \u001b[0;36m<module>\u001b[0;34m\u001b[0m\n\u001b[0;32m----> 1\u001b[0;31m \u001b[0marr2\u001b[0m \u001b[0;34m+\u001b[0m \u001b[0marr5\u001b[0m\u001b[0;34m\u001b[0m\u001b[0;34m\u001b[0m\u001b[0m\n\u001b[0m",
            "\u001b[0;31mValueError\u001b[0m: operands could not be broadcast together with shapes (3,4) (2,) "
          ]
        }
      ],
      "source": [
        "arr2 + arr5"
      ]
    },
    {
      "cell_type": "markdown",
      "metadata": {
        "id": "CUjZXwuaD7Or"
      },
      "source": [
        "In the above example, even if `arr5` is replicated three times, it will not match the shape of `arr2`. Hence `arr2 + arr5` cannot be evaluated successfully. Learn more about broadcasting here: https://numpy.org/doc/stable/user/basics.broadcasting.html ."
      ]
    },
    {
      "cell_type": "markdown",
      "metadata": {
        "id": "PF81cYVkD7Or"
      },
      "source": [
        "### Array Comparison\n",
        "\n",
        "Numpy arrays also support comparison operations like `==`, `!=`, `>` etc. The result is an array of booleans."
      ]
    },
    {
      "cell_type": "code",
      "execution_count": null,
      "metadata": {
        "id": "u2Upf09YD7Or"
      },
      "outputs": [],
      "source": [
        "arr1 = np.array([[1, 2, 3], [3, 4, 5]])\n",
        "arr2 = np.array([[2, 2, 3], [1, 2, 5]])"
      ]
    },
    {
      "cell_type": "code",
      "execution_count": null,
      "metadata": {
        "id": "ZidVfG7aD7Or",
        "outputId": "57e465b9-558e-4f24-80f2-1e7f47807093"
      },
      "outputs": [
        {
          "data": {
            "text/plain": [
              "array([[False,  True,  True],\n",
              "       [False, False,  True]])"
            ]
          },
          "execution_count": 74,
          "metadata": {},
          "output_type": "execute_result"
        }
      ],
      "source": [
        "arr1 == arr2"
      ]
    },
    {
      "cell_type": "code",
      "execution_count": null,
      "metadata": {
        "id": "2lrUJlLkD7Or",
        "outputId": "dd2eec5c-fb1d-4603-dd6c-4339d8bcf07b"
      },
      "outputs": [
        {
          "data": {
            "text/plain": [
              "array([[ True, False, False],\n",
              "       [ True,  True, False]])"
            ]
          },
          "execution_count": 75,
          "metadata": {},
          "output_type": "execute_result"
        }
      ],
      "source": [
        "arr1 != arr2"
      ]
    },
    {
      "cell_type": "code",
      "execution_count": null,
      "metadata": {
        "id": "efFgJ7BjD7Or",
        "outputId": "67a0d8c5-2b63-48d7-abd6-481c21265f68"
      },
      "outputs": [
        {
          "data": {
            "text/plain": [
              "array([[False,  True,  True],\n",
              "       [ True,  True,  True]])"
            ]
          },
          "execution_count": 76,
          "metadata": {},
          "output_type": "execute_result"
        }
      ],
      "source": [
        "arr1 >= arr2"
      ]
    },
    {
      "cell_type": "code",
      "execution_count": null,
      "metadata": {
        "id": "O5sUIILsD7Or",
        "outputId": "a7dad599-157d-405d-8d30-53514301c771"
      },
      "outputs": [
        {
          "data": {
            "text/plain": [
              "array([[ True, False, False],\n",
              "       [False, False, False]])"
            ]
          },
          "execution_count": 77,
          "metadata": {},
          "output_type": "execute_result"
        }
      ],
      "source": [
        "arr1 < arr2"
      ]
    },
    {
      "cell_type": "markdown",
      "metadata": {
        "id": "Ad7DNMrTD7Or"
      },
      "source": [
        "Array comparison is frequently used to count the number of equal elements in two arrays using the `sum` method. Remember that `True` evaluates to `1` and `False` evaluates to `0` when booleans are used in arithmetic operations."
      ]
    },
    {
      "cell_type": "code",
      "execution_count": null,
      "metadata": {
        "id": "MVjrvRbgD7Or",
        "outputId": "f4c0b8da-f8e7-4b53-80c8-92958649d5c9"
      },
      "outputs": [
        {
          "data": {
            "text/plain": [
              "3"
            ]
          },
          "execution_count": 78,
          "metadata": {},
          "output_type": "execute_result"
        }
      ],
      "source": [
        "(arr1 == arr2).sum()"
      ]
    },
    {
      "cell_type": "markdown",
      "metadata": {
        "id": "KFHyYFtwD7Or"
      },
      "source": [
        "## Array indexing and slicing\n",
        "\n",
        "Numpy extends Python's list indexing notation using `[]` to multiple dimensions in an intuitive fashion. You can provide a comma-separated list of indices or ranges to select a specific element or a subarray (also called a slice) from a Numpy array."
      ]
    },
    {
      "cell_type": "code",
      "execution_count": null,
      "metadata": {
        "id": "3teEZjtHD7Or"
      },
      "outputs": [],
      "source": [
        "arr3 = np.array([\n",
        "    [[11, 12, 13, 14], \n",
        "     [13, 14, 15, 19]], \n",
        "    \n",
        "    [[15, 16, 17, 21], \n",
        "     [63, 92, 36, 18]], \n",
        "    \n",
        "    [[98, 32, 81, 23],      \n",
        "     [17, 18, 19.5, 43]]])"
      ]
    },
    {
      "cell_type": "code",
      "execution_count": null,
      "metadata": {
        "id": "FHPmkTDpD7Or",
        "outputId": "be54bc75-26ca-482c-9c4c-f2763315ab68"
      },
      "outputs": [
        {
          "data": {
            "text/plain": [
              "(3, 2, 4)"
            ]
          },
          "execution_count": 80,
          "metadata": {},
          "output_type": "execute_result"
        }
      ],
      "source": [
        "arr3.shape"
      ]
    },
    {
      "cell_type": "code",
      "execution_count": null,
      "metadata": {
        "id": "2kZz-bamD7Or",
        "outputId": "41bc50ad-001e-4c7e-b91b-508a9fd66c8a"
      },
      "outputs": [
        {
          "data": {
            "text/plain": [
              "36.0"
            ]
          },
          "execution_count": 81,
          "metadata": {},
          "output_type": "execute_result"
        }
      ],
      "source": [
        "# Single element\n",
        "arr3[1, 1, 2]"
      ]
    },
    {
      "cell_type": "code",
      "execution_count": null,
      "metadata": {
        "id": "PB8ZjbUiD7Or",
        "outputId": "ccfd1c99-4b27-4a04-9656-b71100c5e208"
      },
      "outputs": [
        {
          "data": {
            "text/plain": [
              "array([[[15., 16.]],\n",
              "\n",
              "       [[98., 32.]]])"
            ]
          },
          "execution_count": 82,
          "metadata": {},
          "output_type": "execute_result"
        }
      ],
      "source": [
        "# Subarray using ranges\n",
        "arr3[1:, 0:1, :2]"
      ]
    },
    {
      "cell_type": "code",
      "execution_count": null,
      "metadata": {
        "id": "bmHYxZkTD7Os",
        "outputId": "c8662fef-0401-410d-b9a9-1e16d7cf5ea1"
      },
      "outputs": [
        {
          "data": {
            "text/plain": [
              "array([18., 43.])"
            ]
          },
          "execution_count": 83,
          "metadata": {},
          "output_type": "execute_result"
        }
      ],
      "source": [
        "# Mixing indices and ranges\n",
        "arr3[1:, 1, 3]"
      ]
    },
    {
      "cell_type": "code",
      "execution_count": null,
      "metadata": {
        "id": "aAW0us-2D7Os",
        "outputId": "e1e08370-bf35-403f-e39c-30d5dd4995b1"
      },
      "outputs": [
        {
          "data": {
            "text/plain": [
              "array([[63. , 92. , 36. ],\n",
              "       [17. , 18. , 19.5]])"
            ]
          },
          "execution_count": 84,
          "metadata": {},
          "output_type": "execute_result"
        }
      ],
      "source": [
        "# Mixing indices and ranges\n",
        "arr3[1:, 1, :3]"
      ]
    },
    {
      "cell_type": "code",
      "execution_count": null,
      "metadata": {
        "id": "5bmyb0VOD7Os",
        "outputId": "2431fae3-18be-4bc5-8d2e-2c7db715c393"
      },
      "outputs": [
        {
          "data": {
            "text/plain": [
              "array([[15., 16., 17., 21.],\n",
              "       [63., 92., 36., 18.]])"
            ]
          },
          "execution_count": 85,
          "metadata": {},
          "output_type": "execute_result"
        }
      ],
      "source": [
        "# Using fewer indices\n",
        "arr3[1]"
      ]
    },
    {
      "cell_type": "code",
      "execution_count": null,
      "metadata": {
        "id": "FmTNAZqJD7Os",
        "outputId": "af0cab95-f8d2-49c8-ff27-93f22d17fa6d"
      },
      "outputs": [
        {
          "data": {
            "text/plain": [
              "array([[13., 14., 15., 19.],\n",
              "       [63., 92., 36., 18.]])"
            ]
          },
          "execution_count": 86,
          "metadata": {},
          "output_type": "execute_result"
        }
      ],
      "source": [
        "# Using fewer indices\n",
        "arr3[:2, 1]"
      ]
    },
    {
      "cell_type": "code",
      "execution_count": null,
      "metadata": {
        "id": "XNolTLeAD7Os",
        "outputId": "08d348b2-4b70-4661-c6b9-6a557294423e"
      },
      "outputs": [
        {
          "ename": "IndexError",
          "evalue": "too many indices for array: array is 3-dimensional, but 4 were indexed",
          "output_type": "error",
          "traceback": [
            "\u001b[0;31m---------------------------------------------------------------------------\u001b[0m",
            "\u001b[0;31mIndexError\u001b[0m                                Traceback (most recent call last)",
            "\u001b[0;32m<ipython-input-87-fbde713646b3>\u001b[0m in \u001b[0;36m<module>\u001b[0;34m\u001b[0m\n\u001b[1;32m      1\u001b[0m \u001b[0;31m# Using too many indices\u001b[0m\u001b[0;34m\u001b[0m\u001b[0;34m\u001b[0m\u001b[0;34m\u001b[0m\u001b[0m\n\u001b[0;32m----> 2\u001b[0;31m \u001b[0marr3\u001b[0m\u001b[0;34m[\u001b[0m\u001b[0;36m1\u001b[0m\u001b[0;34m,\u001b[0m\u001b[0;36m3\u001b[0m\u001b[0;34m,\u001b[0m\u001b[0;36m2\u001b[0m\u001b[0;34m,\u001b[0m\u001b[0;36m1\u001b[0m\u001b[0;34m]\u001b[0m\u001b[0;34m\u001b[0m\u001b[0;34m\u001b[0m\u001b[0m\n\u001b[0m",
            "\u001b[0;31mIndexError\u001b[0m: too many indices for array: array is 3-dimensional, but 4 were indexed"
          ]
        }
      ],
      "source": [
        "# Using too many indices\n",
        "arr3[1,3,2,1]"
      ]
    },
    {
      "cell_type": "markdown",
      "metadata": {
        "id": "Xay7_tvXD7Os"
      },
      "source": [
        "The notation and its results can seem confusing at first, so take your time to experiment and become comfortable with it. Use the cells below to try out some examples of array indexing and slicing, with different combinations of indices and ranges. Here are some more examples demonstrated visually:\n",
        "\n",
        "<img src=\"https://scipy-lectures.org/_images/numpy_indexing.png\" width=\"360\">"
      ]
    },
    {
      "cell_type": "code",
      "execution_count": null,
      "metadata": {
        "id": "B649N4j0D7Os"
      },
      "outputs": [],
      "source": []
    },
    {
      "cell_type": "code",
      "execution_count": null,
      "metadata": {
        "id": "wPxXRyeAD7Os"
      },
      "outputs": [],
      "source": []
    },
    {
      "cell_type": "code",
      "execution_count": null,
      "metadata": {
        "id": "0_h9_trYD7Os"
      },
      "outputs": [],
      "source": []
    },
    {
      "cell_type": "code",
      "execution_count": null,
      "metadata": {
        "id": "977ZbvmQD7Os"
      },
      "outputs": [],
      "source": []
    },
    {
      "cell_type": "markdown",
      "metadata": {
        "id": "H2Pe6gWpD7Os"
      },
      "source": [
        "## Other ways of creating Numpy arrays\n",
        "\n",
        "Numpy also provides some handy functions to create arrays of desired shapes with fixed or random values. Check out the [official documentation](https://numpy.org/doc/stable/reference/routines.array-creation.html) or use the `help` function to learn more."
      ]
    },
    {
      "cell_type": "code",
      "execution_count": null,
      "metadata": {
        "id": "NaVETItXD7Os",
        "outputId": "d5d3bc88-bb8f-4c3f-d0fa-e350c3a3f696"
      },
      "outputs": [
        {
          "data": {
            "text/plain": [
              "array([[0., 0.],\n",
              "       [0., 0.],\n",
              "       [0., 0.]])"
            ]
          },
          "execution_count": 88,
          "metadata": {},
          "output_type": "execute_result"
        }
      ],
      "source": [
        "# All zeros\n",
        "np.zeros((3, 2))"
      ]
    },
    {
      "cell_type": "code",
      "execution_count": null,
      "metadata": {
        "id": "z9fI6hJwD7Os",
        "outputId": "2a615188-b986-483a-dc27-9e7025eb3157"
      },
      "outputs": [
        {
          "data": {
            "text/plain": [
              "array([[[1., 1., 1.],\n",
              "        [1., 1., 1.]],\n",
              "\n",
              "       [[1., 1., 1.],\n",
              "        [1., 1., 1.]]])"
            ]
          },
          "execution_count": 89,
          "metadata": {},
          "output_type": "execute_result"
        }
      ],
      "source": [
        "# All ones\n",
        "np.ones([2, 2, 3])"
      ]
    },
    {
      "cell_type": "code",
      "execution_count": null,
      "metadata": {
        "id": "-WrQazVAD7Ot",
        "outputId": "15fd63ee-ce01-495c-a81b-262ceba322dc"
      },
      "outputs": [
        {
          "data": {
            "text/plain": [
              "array([[1., 0., 0.],\n",
              "       [0., 1., 0.],\n",
              "       [0., 0., 1.]])"
            ]
          },
          "execution_count": 90,
          "metadata": {},
          "output_type": "execute_result"
        }
      ],
      "source": [
        "# Identity matrix\n",
        "np.eye(3)"
      ]
    },
    {
      "cell_type": "code",
      "execution_count": null,
      "metadata": {
        "id": "8OyHayyKD7Ot",
        "outputId": "67de9c26-40f2-4985-b41b-e4919b5cd8f8"
      },
      "outputs": [
        {
          "data": {
            "text/plain": [
              "array([0.8208279 , 0.93801216, 0.44954753, 0.17816933, 0.32049174])"
            ]
          },
          "execution_count": 91,
          "metadata": {},
          "output_type": "execute_result"
        }
      ],
      "source": [
        "# Random vector\n",
        "np.random.rand(5)"
      ]
    },
    {
      "cell_type": "code",
      "execution_count": null,
      "metadata": {
        "id": "QPG9GD6GD7Ot",
        "outputId": "44f147ef-3a33-4a59-e256-c01a4c7fc902"
      },
      "outputs": [
        {
          "data": {
            "text/plain": [
              "array([[ 0.83775   ,  1.13851471, -0.79147694],\n",
              "       [ 0.56320765,  1.00386056, -0.42502339]])"
            ]
          },
          "execution_count": 92,
          "metadata": {},
          "output_type": "execute_result"
        }
      ],
      "source": [
        "# Random matrix\n",
        "np.random.randn(2, 3) # rand vs. randn - what's the difference?"
      ]
    },
    {
      "cell_type": "code",
      "execution_count": null,
      "metadata": {
        "id": "q7xH5UhWD7Ot",
        "outputId": "3ca079e5-afde-435c-ef4b-5a8ea89843fa"
      },
      "outputs": [
        {
          "data": {
            "text/plain": [
              "array([[42, 42, 42],\n",
              "       [42, 42, 42]])"
            ]
          },
          "execution_count": 93,
          "metadata": {},
          "output_type": "execute_result"
        }
      ],
      "source": [
        "# Fixed value\n",
        "np.full([2, 3], 42)"
      ]
    },
    {
      "cell_type": "code",
      "execution_count": null,
      "metadata": {
        "id": "aCi27eFxD7Ot",
        "outputId": "2a26b830-df03-4477-e4ed-c1558aab455e"
      },
      "outputs": [
        {
          "data": {
            "text/plain": [
              "array([10, 13, 16, 19, 22, 25, 28, 31, 34, 37, 40, 43, 46, 49, 52, 55, 58,\n",
              "       61, 64, 67, 70, 73, 76, 79, 82, 85, 88])"
            ]
          },
          "execution_count": 94,
          "metadata": {},
          "output_type": "execute_result"
        }
      ],
      "source": [
        "# Range with start, end and step\n",
        "np.arange(10, 90, 3)"
      ]
    },
    {
      "cell_type": "code",
      "execution_count": null,
      "metadata": {
        "id": "XVvat4aHD7Ot",
        "outputId": "cdeb696b-318b-47cf-f1c0-4216bb449f7c"
      },
      "outputs": [
        {
          "data": {
            "text/plain": [
              "array([ 3.,  6.,  9., 12., 15., 18., 21., 24., 27.])"
            ]
          },
          "execution_count": 95,
          "metadata": {},
          "output_type": "execute_result"
        }
      ],
      "source": [
        "# Equally spaced numbers in a range\n",
        "np.linspace(3, 27, 9)"
      ]
    },
    {
      "cell_type": "markdown",
      "metadata": {
        "id": "2zWxK-_FD7Ot"
      },
      "source": [
        "### Save and commit\n",
        "\n",
        "Let's record a snapshot of our work using `jovian.commit`."
      ]
    },
    {
      "cell_type": "code",
      "execution_count": null,
      "metadata": {
        "id": "NB7Wszn_D7Ot"
      },
      "outputs": [],
      "source": [
        "# Install the library \n",
        "!pip install jovian --upgrade --quiet"
      ]
    },
    {
      "cell_type": "code",
      "execution_count": null,
      "metadata": {
        "id": "O6du9pAYD7Ot"
      },
      "outputs": [],
      "source": [
        "import jovian"
      ]
    },
    {
      "cell_type": "code",
      "execution_count": null,
      "metadata": {
        "id": "uFV6BZzND7Ot",
        "outputId": "4bfc52c3-f251-4630-e4f1-72335be12ffb"
      },
      "outputs": [
        {
          "data": {
            "application/javascript": [
              "window.require && require([\"base/js/namespace\"],function(Jupyter){Jupyter.notebook.save_checkpoint()})"
            ],
            "text/plain": [
              "<IPython.core.display.Javascript object>"
            ]
          },
          "metadata": {},
          "output_type": "display_data"
        },
        {
          "name": "stdout",
          "output_type": "stream",
          "text": [
            "[jovian] Attempting to save notebook..\u001b[0m\n"
          ]
        }
      ],
      "source": [
        "jovian.commit()"
      ]
    },
    {
      "cell_type": "markdown",
      "metadata": {
        "id": "PVFnUCMVD7Ot"
      },
      "source": [
        "## Exercises\n",
        "\n",
        "Try the following exercises to become familiar with Numpy arrays and practice your skills:\n",
        "\n",
        "- Assignment on Numpy array functions: https://jovian.ai/aakashns/numpy-array-operations\n",
        "- (Optional) 100 numpy exercises: https://jovian.ai/aakashns/100-numpy-exercises\n"
      ]
    },
    {
      "cell_type": "markdown",
      "metadata": {
        "id": "6CJJXd3JD7Ot"
      },
      "source": [
        "## Summary and Further Reading\n",
        "\n",
        "With this, we complete our discussion of numerical computing with Numpy. We've covered the following topics in this tutorial:\n",
        "\n",
        "- Going from Python lists to Numpy arrays\n",
        "- Operating on Numpy arrays\n",
        "- Benefits of using Numpy arrays over lists\n",
        "- Multi-dimensional Numpy arrays\n",
        "- Working with CSV data files\n",
        "- Arithmetic operations and broadcasting\n",
        "- Array indexing and slicing\n",
        "- Other ways of creating Numpy arrays\n",
        "\n",
        "\n",
        "Check out the following resources for learning more about Numpy:\n",
        "\n",
        "- Official tutorial: https://numpy.org/devdocs/user/quickstart.html\n",
        "- Numpy tutorial on W3Schools: https://www.w3schools.com/python/numpy_intro.asp\n",
        "- Advanced Numpy (exploring the internals): http://scipy-lectures.org/advanced/advanced_numpy/index.html\n",
        "\n",
        "You are ready to move on to the next tutorial: [Analyzing Tabular Data using Pandas](https://jovian.ai/aakashns/python-pandas-data-analysis)."
      ]
    },
    {
      "cell_type": "markdown",
      "metadata": {
        "id": "ikOLPBWdD7Ot"
      },
      "source": [
        "## Questions for Revision\n",
        "\n",
        "Try answering the following questions to test your understanding of the topics covered in this notebook:\n",
        "\n",
        "1. What is a vector?\n",
        "2. How do you represent vectors using a Python list? Give an example.\n",
        "3. What is a dot product of two vectors?\n",
        "4. Write a function to compute the dot product of two vectors.\n",
        "5. What is Numpy?\n",
        "6. How do you install Numpy?\n",
        "7. How do you import the `numpy` module?\n",
        "8. What does it mean to import a module with an alias? Give an example.\n",
        "9. What is the commonly used alias for `numpy`?\n",
        "10. What is a Numpy array?\n",
        "11. How do you create a Numpy array? Give an example.\n",
        "12. What is the type of Numpy arrays?\n",
        "13. How do you access the elements of a Numpy array?\n",
        "14. How do you compute the dot product of two vectors using Numpy?\n",
        "15. What happens if you try to compute the dot product of two vectors which have different sizes?\n",
        "16. How do you compute the element-wise product of two Numpy arrays?\n",
        "17. How do you compute the sum of all the elements in a Numpy array?\n",
        "18. What are the benefits of using Numpy arrays over Python lists for operating on numerical data?\n",
        "19. Why do Numpy array operations have better performance compared to Python functions and loops?\n",
        "20. Illustrate the performance difference between Numpy array operations and Python loops using an example.\n",
        "21. What are multi-dimensional Numpy arrays? \n",
        "22. Illustrate the creation of Numpy arrays with 2, 3, and 4 dimensions.\n",
        "23. How do you inspect the number of dimensions and the length along each dimension in a Numpy array?\n",
        "24. Can the elements of a Numpy array have different data types?\n",
        "25. How do you check the data type of the elements of a Numpy array?\n",
        "26. What is the data type of a Numpy array?\n",
        "27. What is the difference between a matrix and a 2D Numpy array?\n",
        "28. How do you perform matrix multiplication using Numpy?\n",
        "29. What is the `@` operator used for in Numpy?\n",
        "30. What is the CSV file format?\n",
        "31. How do you read data from a CSV file using Numpy?\n",
        "32. How do you concatenate two Numpy arrays?\n",
        "33. What is the purpose of the `axis` argument of `np.concatenate`?\n",
        "34. When are two Numpy arrays compatible for concatenation?\n",
        "35. Give an example of two Numpy arrays that can be concatenated.\n",
        "36. Give an example of two Numpy arrays that cannot be concatenated.\n",
        "37. What is the purpose of the `np.reshape` function?\n",
        "38. What does it mean to “reshape” a Numpy array?\n",
        "39. How do you write a numpy array into a CSV file?\n",
        "40. Give some examples of Numpy functions for performing mathematical operations.\n",
        "41. Give some examples of Numpy functions for performing array manipulation.\n",
        "42. Give some examples of Numpy functions for performing linear algebra.\n",
        "43. Give some examples of Numpy functions for performing statistical operations.\n",
        "44. How do you find the right Numpy function for a specific operation or use case?\n",
        "45. Where can you see a list of all the Numpy array functions and operations?\n",
        "46. What are the arithmetic operators supported by Numpy arrays? Illustrate with examples.\n",
        "47. What is array broadcasting? How is it useful? Illustrate with an example.\n",
        "48. Give some examples of arrays that are compatible for broadcasting?\n",
        "49. Give some examples of arrays that are not compatible for broadcasting?\n",
        "50. What are the comparison operators supported by Numpy arrays? Illustrate with examples.\n",
        "51. How do you access a specific subarray or slice from a Numpy array?\n",
        "52. Illustrate array indexing and slicing in multi-dimensional Numpy arrays with some examples.\n",
        "53. How do you create a Numpy array with a given shape containing all zeros?\n",
        "54. How do you create a Numpy array with a given shape containing all ones?\n",
        "55. How do you create an identity matrix of a given shape?\n",
        "56. How do you create a random vector of a given length?\n",
        "57. How do you create a Numpy array with a given shape with a fixed value for each element?\n",
        "58. How do you create a Numpy array with a given shape containing randomly initialized elements?\n",
        "59. What is the difference between `np.random.rand` and `np.random.randn`? Illustrate with examples.\n",
        "60. What is the difference between `np.arange` and `np.linspace`? Illustrate with examples.\n"
      ]
    },
    {
      "cell_type": "code",
      "execution_count": null,
      "metadata": {
        "id": "IhmXBHxoD7Ou"
      },
      "outputs": [],
      "source": []
    }
  ],
  "metadata": {
    "kernelspec": {
      "display_name": "Python 3",
      "language": "python",
      "name": "python3"
    },
    "language_info": {
      "codemirror_mode": {
        "name": "ipython",
        "version": 3
      },
      "file_extension": ".py",
      "mimetype": "text/x-python",
      "name": "python",
      "nbconvert_exporter": "python",
      "pygments_lexer": "ipython3",
      "version": "3.8.6"
    },
    "colab": {
      "provenance": [],
      "include_colab_link": true
    }
  },
  "nbformat": 4,
  "nbformat_minor": 0
}